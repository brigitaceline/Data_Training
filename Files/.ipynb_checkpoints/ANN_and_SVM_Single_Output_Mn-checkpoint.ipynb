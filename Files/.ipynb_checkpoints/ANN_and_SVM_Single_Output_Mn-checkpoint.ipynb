{
 "cells": [
  {
   "cell_type": "markdown",
   "metadata": {
    "colab_type": "text",
    "id": "view-in-github"
   },
   "source": [
    "<a href=\"https://colab.research.google.com/github/elhamshaerirahbar-bot/my-colab-project/blob/main/Untitled8.ipynb\" target=\"_parent\"><img src=\"https://colab.research.google.com/assets/colab-badge.svg\" alt=\"Open In Colab\"/></a>"
   ]
  },
  {
   "cell_type": "code",
   "execution_count": 1,
   "metadata": {
    "colab": {
     "base_uri": "https://localhost:8080/"
    },
    "id": "BN3YxBT6udRD",
    "outputId": "f9bb4b6c-7780-4b56-955c-7a7d7e8be643"
   },
   "outputs": [
    {
     "name": "stdout",
     "output_type": "stream",
     "text": [
      "Requirement already satisfied: numpy in c:\\users\\brian\\pycharmprojects\\pythonproject1\\.venv\\lib\\site-packages (2.3.2)\n",
      "Requirement already satisfied: pandas in c:\\users\\brian\\pycharmprojects\\pythonproject1\\.venv\\lib\\site-packages (2.3.1)\n",
      "Requirement already satisfied: tensorflow in c:\\users\\brian\\pycharmprojects\\pythonproject1\\.venv\\lib\\site-packages (2.20.0rc0)\n",
      "Requirement already satisfied: python-dateutil>=2.8.2 in c:\\users\\brian\\pycharmprojects\\pythonproject1\\.venv\\lib\\site-packages (from pandas) (2.9.0.post0)\n",
      "Requirement already satisfied: pytz>=2020.1 in c:\\users\\brian\\pycharmprojects\\pythonproject1\\.venv\\lib\\site-packages (from pandas) (2025.2)\n",
      "Requirement already satisfied: tzdata>=2022.7 in c:\\users\\brian\\pycharmprojects\\pythonproject1\\.venv\\lib\\site-packages (from pandas) (2025.2)\n",
      "Requirement already satisfied: absl-py>=1.0.0 in c:\\users\\brian\\pycharmprojects\\pythonproject1\\.venv\\lib\\site-packages (from tensorflow) (2.3.1)\n",
      "Requirement already satisfied: astunparse>=1.6.0 in c:\\users\\brian\\pycharmprojects\\pythonproject1\\.venv\\lib\\site-packages (from tensorflow) (1.6.3)\n",
      "Requirement already satisfied: flatbuffers>=24.3.25 in c:\\users\\brian\\pycharmprojects\\pythonproject1\\.venv\\lib\\site-packages (from tensorflow) (25.2.10)\n",
      "Requirement already satisfied: gast!=0.5.0,!=0.5.1,!=0.5.2,>=0.2.1 in c:\\users\\brian\\pycharmprojects\\pythonproject1\\.venv\\lib\\site-packages (from tensorflow) (0.6.0)\n",
      "Requirement already satisfied: google_pasta>=0.1.1 in c:\\users\\brian\\pycharmprojects\\pythonproject1\\.venv\\lib\\site-packages (from tensorflow) (0.2.0)\n",
      "Requirement already satisfied: libclang>=13.0.0 in c:\\users\\brian\\pycharmprojects\\pythonproject1\\.venv\\lib\\site-packages (from tensorflow) (18.1.1)\n",
      "Requirement already satisfied: opt_einsum>=2.3.2 in c:\\users\\brian\\pycharmprojects\\pythonproject1\\.venv\\lib\\site-packages (from tensorflow) (3.4.0)\n",
      "Requirement already satisfied: packaging in c:\\users\\brian\\pycharmprojects\\pythonproject1\\.venv\\lib\\site-packages (from tensorflow) (25.0)\n",
      "Requirement already satisfied: protobuf>=5.28.0 in c:\\users\\brian\\pycharmprojects\\pythonproject1\\.venv\\lib\\site-packages (from tensorflow) (6.31.1)\n",
      "Requirement already satisfied: requests<3,>=2.21.0 in c:\\users\\brian\\pycharmprojects\\pythonproject1\\.venv\\lib\\site-packages (from tensorflow) (2.32.4)\n",
      "Requirement already satisfied: setuptools in c:\\users\\brian\\pycharmprojects\\pythonproject1\\.venv\\lib\\site-packages (from tensorflow) (80.9.0)\n",
      "Requirement already satisfied: six>=1.12.0 in c:\\users\\brian\\pycharmprojects\\pythonproject1\\.venv\\lib\\site-packages (from tensorflow) (1.17.0)\n",
      "Requirement already satisfied: termcolor>=1.1.0 in c:\\users\\brian\\pycharmprojects\\pythonproject1\\.venv\\lib\\site-packages (from tensorflow) (3.1.0)\n",
      "Requirement already satisfied: typing_extensions>=3.6.6 in c:\\users\\brian\\pycharmprojects\\pythonproject1\\.venv\\lib\\site-packages (from tensorflow) (4.14.1)\n",
      "Requirement already satisfied: wrapt>=1.11.0 in c:\\users\\brian\\pycharmprojects\\pythonproject1\\.venv\\lib\\site-packages (from tensorflow) (1.17.2)\n",
      "Requirement already satisfied: grpcio<2.0,>=1.24.3 in c:\\users\\brian\\pycharmprojects\\pythonproject1\\.venv\\lib\\site-packages (from tensorflow) (1.74.0)\n",
      "Requirement already satisfied: tensorboard~=2.20.0 in c:\\users\\brian\\pycharmprojects\\pythonproject1\\.venv\\lib\\site-packages (from tensorflow) (2.20.0)\n",
      "Requirement already satisfied: keras>=3.10.0 in c:\\users\\brian\\pycharmprojects\\pythonproject1\\.venv\\lib\\site-packages (from tensorflow) (3.11.1)\n",
      "Requirement already satisfied: h5py>=3.11.0 in c:\\users\\brian\\pycharmprojects\\pythonproject1\\.venv\\lib\\site-packages (from tensorflow) (3.14.0)\n",
      "Requirement already satisfied: ml_dtypes<1.0.0,>=0.5.1 in c:\\users\\brian\\pycharmprojects\\pythonproject1\\.venv\\lib\\site-packages (from tensorflow) (0.5.3)\n",
      "Requirement already satisfied: charset_normalizer<4,>=2 in c:\\users\\brian\\pycharmprojects\\pythonproject1\\.venv\\lib\\site-packages (from requests<3,>=2.21.0->tensorflow) (3.4.2)\n",
      "Requirement already satisfied: idna<4,>=2.5 in c:\\users\\brian\\pycharmprojects\\pythonproject1\\.venv\\lib\\site-packages (from requests<3,>=2.21.0->tensorflow) (3.10)\n",
      "Requirement already satisfied: urllib3<3,>=1.21.1 in c:\\users\\brian\\pycharmprojects\\pythonproject1\\.venv\\lib\\site-packages (from requests<3,>=2.21.0->tensorflow) (2.5.0)\n",
      "Requirement already satisfied: certifi>=2017.4.17 in c:\\users\\brian\\pycharmprojects\\pythonproject1\\.venv\\lib\\site-packages (from requests<3,>=2.21.0->tensorflow) (2025.8.3)\n",
      "Requirement already satisfied: markdown>=2.6.8 in c:\\users\\brian\\pycharmprojects\\pythonproject1\\.venv\\lib\\site-packages (from tensorboard~=2.20.0->tensorflow) (3.8.2)\n",
      "Requirement already satisfied: pillow in c:\\users\\brian\\pycharmprojects\\pythonproject1\\.venv\\lib\\site-packages (from tensorboard~=2.20.0->tensorflow) (11.3.0)\n",
      "Requirement already satisfied: tensorboard-data-server<0.8.0,>=0.7.0 in c:\\users\\brian\\pycharmprojects\\pythonproject1\\.venv\\lib\\site-packages (from tensorboard~=2.20.0->tensorflow) (0.7.2)\n",
      "Requirement already satisfied: werkzeug>=1.0.1 in c:\\users\\brian\\pycharmprojects\\pythonproject1\\.venv\\lib\\site-packages (from tensorboard~=2.20.0->tensorflow) (3.1.3)\n",
      "Requirement already satisfied: wheel<1.0,>=0.23.0 in c:\\users\\brian\\pycharmprojects\\pythonproject1\\.venv\\lib\\site-packages (from astunparse>=1.6.0->tensorflow) (0.45.1)\n",
      "Requirement already satisfied: rich in c:\\users\\brian\\pycharmprojects\\pythonproject1\\.venv\\lib\\site-packages (from keras>=3.10.0->tensorflow) (14.1.0)\n",
      "Requirement already satisfied: namex in c:\\users\\brian\\pycharmprojects\\pythonproject1\\.venv\\lib\\site-packages (from keras>=3.10.0->tensorflow) (0.1.0)\n",
      "Requirement already satisfied: optree in c:\\users\\brian\\pycharmprojects\\pythonproject1\\.venv\\lib\\site-packages (from keras>=3.10.0->tensorflow) (0.17.0)\n",
      "Requirement already satisfied: MarkupSafe>=2.1.1 in c:\\users\\brian\\pycharmprojects\\pythonproject1\\.venv\\lib\\site-packages (from werkzeug>=1.0.1->tensorboard~=2.20.0->tensorflow) (3.0.2)\n",
      "Requirement already satisfied: markdown-it-py>=2.2.0 in c:\\users\\brian\\pycharmprojects\\pythonproject1\\.venv\\lib\\site-packages (from rich->keras>=3.10.0->tensorflow) (3.0.0)\n",
      "Requirement already satisfied: pygments<3.0.0,>=2.13.0 in c:\\users\\brian\\pycharmprojects\\pythonproject1\\.venv\\lib\\site-packages (from rich->keras>=3.10.0->tensorflow) (2.19.2)\n",
      "Requirement already satisfied: mdurl~=0.1 in c:\\users\\brian\\pycharmprojects\\pythonproject1\\.venv\\lib\\site-packages (from markdown-it-py>=2.2.0->rich->keras>=3.10.0->tensorflow) (0.1.2)\n"
     ]
    }
   ],
   "source": [
    "!pip install numpy pandas tensorflow"
   ]
  },
  {
   "cell_type": "code",
   "execution_count": 2,
   "metadata": {
    "colab": {
     "base_uri": "https://localhost:8080/"
    },
    "id": "02KteuGwudO_",
    "outputId": "52c625b6-cee1-43b6-8291-06fbb5a40750"
   },
   "outputs": [
    {
     "name": "stdout",
     "output_type": "stream",
     "text": [
      "Requirement already satisfied: scikit-learn in c:\\users\\brian\\pycharmprojects\\pythonproject1\\.venv\\lib\\site-packages (1.7.1)\n",
      "Requirement already satisfied: numpy>=1.22.0 in c:\\users\\brian\\pycharmprojects\\pythonproject1\\.venv\\lib\\site-packages (from scikit-learn) (2.3.2)\n",
      "Requirement already satisfied: scipy>=1.8.0 in c:\\users\\brian\\pycharmprojects\\pythonproject1\\.venv\\lib\\site-packages (from scikit-learn) (1.16.1)\n",
      "Requirement already satisfied: joblib>=1.2.0 in c:\\users\\brian\\pycharmprojects\\pythonproject1\\.venv\\lib\\site-packages (from scikit-learn) (1.5.1)\n",
      "Requirement already satisfied: threadpoolctl>=3.1.0 in c:\\users\\brian\\pycharmprojects\\pythonproject1\\.venv\\lib\\site-packages (from scikit-learn) (3.6.0)\n"
     ]
    }
   ],
   "source": [
    "!pip install scikit-learn"
   ]
  },
  {
   "cell_type": "code",
   "execution_count": 4,
   "metadata": {
    "id": "I-aRJMvYudMp"
   },
   "outputs": [],
   "source": [
    "import numpy as np, pandas as pd, re, unicodedata\n",
    "from sklearn.model_selection import train_test_split\n",
    "from sklearn.preprocessing import StandardScaler, MinMaxScaler\n",
    "import tensorflow as tf\n",
    "from tensorflow.keras import layers, callbacks\n",
    "from sklearn.metrics import mean_squared_error, mean_absolute_error, r2_score"
   ]
  },
  {
   "cell_type": "code",
   "execution_count": 48,
   "metadata": {
    "colab": {
     "base_uri": "https://localhost:8080/",
     "height": 224
    },
    "id": "omHH0QstudKS",
    "outputId": "b95d42cd-dce1-4878-b522-c69295fc7cff"
   },
   "outputs": [
    {
     "name": "stdout",
     "output_type": "stream",
     "text": [
      "   Run  Factor A  Factor B  Factor C  Factor D  Response 1 (Experimental)  \\\n",
      "0    1       110         7        50        10                    1127.19   \n",
      "1    2        85        13        50        10                    1024.97   \n",
      "2    3       101         1       500        60                    1950.00   \n",
      "3    4       101         1       500        60                    2223.17   \n",
      "4    5        50        10        50        10                    1845.60   \n",
      "\n",
      "   Response 2 (Experimental)  \n",
      "0                    1321.65  \n",
      "1                    1339.35  \n",
      "2                    2878.90  \n",
      "3                    2989.00  \n",
      "4                    2690.50  \n"
     ]
    }
   ],
   "source": [
    "import pandas as pd\n",
    "\n",
    "# Just read the file\n",
    "df = pd.read_csv('Exp_Mn_Mw_Value.txt', sep='\\t')\n",
    "print(df.head())"
   ]
  },
  {
   "cell_type": "code",
   "execution_count": 49,
   "metadata": {
    "id": "R-HWX3TLudHs"
   },
   "outputs": [
    {
     "name": "stdout",
     "output_type": "stream",
     "text": [
      "Features shape: (25, 4) Target shape: (25, 1)\n"
     ]
    }
   ],
   "source": [
    "# Select feature columns (positions 1-4) and target column (position 6)\n",
    "X = df.iloc[:, 1:5].astype(float).to_numpy()  # Features: columns 1, 2, 3, 4\n",
    "y = df.iloc[:,[6]].astype(float).to_numpy()    # Target: column 6 (single response)\n",
    "\n",
    "print(\"Features shape:\", X.shape, \"Target shape:\", y.shape)"
   ]
  },
  {
   "cell_type": "code",
   "execution_count": 50,
   "metadata": {
    "id": "YPmGmQsTudFV"
   },
   "outputs": [
    {
     "name": "stdout",
     "output_type": "stream",
     "text": [
      "Training set: 20 samples\n",
      "Test set: 5 samples\n"
     ]
    }
   ],
   "source": [
    "from sklearn.model_selection import train_test_split\n",
    "\n",
    "# Set random seed for reproducible results\n",
    "SEED = 5\n",
    "\n",
    "# Split data into train (80%) and test (20%)\n",
    "X_train, X_test, y_train, y_test = train_test_split(\n",
    "    X, y, test_size=0.2, shuffle=True, random_state=SEED\n",
    ")\n",
    "\n",
    "print(f\"Training set: {X_train.shape[0]} samples\")\n",
    "print(f\"Test set: {X_test.shape[0]} samples\")"
   ]
  },
  {
   "cell_type": "code",
   "execution_count": 51,
   "metadata": {
    "id": "BsP8ub6RudBK"
   },
   "outputs": [
    {
     "name": "stdout",
     "output_type": "stream",
     "text": [
      "Scaled training features: (20, 4)\n",
      "Scaled training targets: (20,)\n"
     ]
    }
   ],
   "source": [
    "from sklearn.preprocessing import StandardScaler, MinMaxScaler\n",
    "\n",
    "# Scale features using StandardScaler (mean=0, std=1)\n",
    "feature_scaler = StandardScaler()\n",
    "X_train_scaled = feature_scaler.fit_transform(X_train)\n",
    "X_test_scaled = feature_scaler.transform(X_test)\n",
    "\n",
    "# Scale targets using MinMaxScaler (range: -1 to 1)\n",
    "target_scaler = MinMaxScaler(feature_range=(-1, 1))\n",
    "y_train_scaled = target_scaler.fit_transform(y_train.reshape(-1, 1)).flatten()\n",
    "y_test_scaled = target_scaler.transform(y_test.reshape(-1, 1)).flatten()\n",
    "\n",
    "# Function to convert scaled predictions back to original scale\n",
    "def inverse_scale_targets(y_scaled):\n",
    "    \"\"\"Convert scaled target values back to original scale\"\"\"\n",
    "    return target_scaler.inverse_transform(y_scaled.reshape(-1, 1)).flatten()\n",
    "\n",
    "print(f\"Scaled training features: {X_train_scaled.shape}\")\n",
    "print(f\"Scaled training targets: {y_train_scaled.shape}\")"
   ]
  },
  {
   "cell_type": "code",
   "execution_count": 52,
   "metadata": {
    "id": "M0WgYx7Tuc8w"
   },
   "outputs": [],
   "source": [
    "ann = tf.keras.models.Sequential()"
   ]
  },
  {
   "cell_type": "code",
   "execution_count": 53,
   "metadata": {
    "colab": {
     "base_uri": "https://localhost:8080/"
    },
    "id": "v4OdAY7Uuc6a",
    "outputId": "8f2d44b8-7c27-4ed5-a1cc-00ff0e879e44"
   },
   "outputs": [
    {
     "name": "stderr",
     "output_type": "stream",
     "text": [
      "C:\\Users\\brian\\PycharmProjects\\PythonProject1\\.venv\\Lib\\site-packages\\keras\\src\\layers\\core\\dense.py:92: UserWarning: Do not pass an `input_shape`/`input_dim` argument to a layer. When using Sequential models, prefer using an `Input(shape)` object as the first layer in the model instead.\n",
      "  super().__init__(activity_regularizer=activity_regularizer, **kwargs)\n"
     ]
    },
    {
     "data": {
      "text/html": [
       "<pre style=\"white-space:pre;overflow-x:auto;line-height:normal;font-family:Menlo,'DejaVu Sans Mono',consolas,'Courier New',monospace\"><span style=\"font-weight: bold\">Model: \"sequential_2\"</span>\n",
       "</pre>\n"
      ],
      "text/plain": [
       "\u001b[1mModel: \"sequential_2\"\u001b[0m\n"
      ]
     },
     "metadata": {},
     "output_type": "display_data"
    },
    {
     "data": {
      "text/html": [
       "<pre style=\"white-space:pre;overflow-x:auto;line-height:normal;font-family:Menlo,'DejaVu Sans Mono',consolas,'Courier New',monospace\">┏━━━━━━━━━━━━━━━━━━━━━━━━━━━━━━━━━━━━━━┳━━━━━━━━━━━━━━━━━━━━━━━━━━━━━┳━━━━━━━━━━━━━━━━━┓\n",
       "┃<span style=\"font-weight: bold\"> Layer (type)                         </span>┃<span style=\"font-weight: bold\"> Output Shape                </span>┃<span style=\"font-weight: bold\">         Param # </span>┃\n",
       "┡━━━━━━━━━━━━━━━━━━━━━━━━━━━━━━━━━━━━━━╇━━━━━━━━━━━━━━━━━━━━━━━━━━━━━╇━━━━━━━━━━━━━━━━━┩\n",
       "│ dense_2 (<span style=\"color: #0087ff; text-decoration-color: #0087ff\">Dense</span>)                      │ (<span style=\"color: #00d7ff; text-decoration-color: #00d7ff\">None</span>, <span style=\"color: #00af00; text-decoration-color: #00af00\">16</span>)                  │              <span style=\"color: #00af00; text-decoration-color: #00af00\">80</span> │\n",
       "├──────────────────────────────────────┼─────────────────────────────┼─────────────────┤\n",
       "│ dropout (<span style=\"color: #0087ff; text-decoration-color: #0087ff\">Dropout</span>)                    │ (<span style=\"color: #00d7ff; text-decoration-color: #00d7ff\">None</span>, <span style=\"color: #00af00; text-decoration-color: #00af00\">16</span>)                  │               <span style=\"color: #00af00; text-decoration-color: #00af00\">0</span> │\n",
       "├──────────────────────────────────────┼─────────────────────────────┼─────────────────┤\n",
       "│ dense_3 (<span style=\"color: #0087ff; text-decoration-color: #0087ff\">Dense</span>)                      │ (<span style=\"color: #00d7ff; text-decoration-color: #00d7ff\">None</span>, <span style=\"color: #00af00; text-decoration-color: #00af00\">1</span>)                   │              <span style=\"color: #00af00; text-decoration-color: #00af00\">17</span> │\n",
       "└──────────────────────────────────────┴─────────────────────────────┴─────────────────┘\n",
       "</pre>\n"
      ],
      "text/plain": [
       "┏━━━━━━━━━━━━━━━━━━━━━━━━━━━━━━━━━━━━━━┳━━━━━━━━━━━━━━━━━━━━━━━━━━━━━┳━━━━━━━━━━━━━━━━━┓\n",
       "┃\u001b[1m \u001b[0m\u001b[1mLayer (type)                        \u001b[0m\u001b[1m \u001b[0m┃\u001b[1m \u001b[0m\u001b[1mOutput Shape               \u001b[0m\u001b[1m \u001b[0m┃\u001b[1m \u001b[0m\u001b[1m        Param #\u001b[0m\u001b[1m \u001b[0m┃\n",
       "┡━━━━━━━━━━━━━━━━━━━━━━━━━━━━━━━━━━━━━━╇━━━━━━━━━━━━━━━━━━━━━━━━━━━━━╇━━━━━━━━━━━━━━━━━┩\n",
       "│ dense_2 (\u001b[38;5;33mDense\u001b[0m)                      │ (\u001b[38;5;45mNone\u001b[0m, \u001b[38;5;34m16\u001b[0m)                  │              \u001b[38;5;34m80\u001b[0m │\n",
       "├──────────────────────────────────────┼─────────────────────────────┼─────────────────┤\n",
       "│ dropout (\u001b[38;5;33mDropout\u001b[0m)                    │ (\u001b[38;5;45mNone\u001b[0m, \u001b[38;5;34m16\u001b[0m)                  │               \u001b[38;5;34m0\u001b[0m │\n",
       "├──────────────────────────────────────┼─────────────────────────────┼─────────────────┤\n",
       "│ dense_3 (\u001b[38;5;33mDense\u001b[0m)                      │ (\u001b[38;5;45mNone\u001b[0m, \u001b[38;5;34m1\u001b[0m)                   │              \u001b[38;5;34m17\u001b[0m │\n",
       "└──────────────────────────────────────┴─────────────────────────────┴─────────────────┘\n"
      ]
     },
     "metadata": {},
     "output_type": "display_data"
    },
    {
     "data": {
      "text/html": [
       "<pre style=\"white-space:pre;overflow-x:auto;line-height:normal;font-family:Menlo,'DejaVu Sans Mono',consolas,'Courier New',monospace\"><span style=\"font-weight: bold\"> Total params: </span><span style=\"color: #00af00; text-decoration-color: #00af00\">97</span> (388.00 B)\n",
       "</pre>\n"
      ],
      "text/plain": [
       "\u001b[1m Total params: \u001b[0m\u001b[38;5;34m97\u001b[0m (388.00 B)\n"
      ]
     },
     "metadata": {},
     "output_type": "display_data"
    },
    {
     "data": {
      "text/html": [
       "<pre style=\"white-space:pre;overflow-x:auto;line-height:normal;font-family:Menlo,'DejaVu Sans Mono',consolas,'Courier New',monospace\"><span style=\"font-weight: bold\"> Trainable params: </span><span style=\"color: #00af00; text-decoration-color: #00af00\">97</span> (388.00 B)\n",
       "</pre>\n"
      ],
      "text/plain": [
       "\u001b[1m Trainable params: \u001b[0m\u001b[38;5;34m97\u001b[0m (388.00 B)\n"
      ]
     },
     "metadata": {},
     "output_type": "display_data"
    },
    {
     "data": {
      "text/html": [
       "<pre style=\"white-space:pre;overflow-x:auto;line-height:normal;font-family:Menlo,'DejaVu Sans Mono',consolas,'Courier New',monospace\"><span style=\"font-weight: bold\"> Non-trainable params: </span><span style=\"color: #00af00; text-decoration-color: #00af00\">0</span> (0.00 B)\n",
       "</pre>\n"
      ],
      "text/plain": [
       "\u001b[1m Non-trainable params: \u001b[0m\u001b[38;5;34m0\u001b[0m (0.00 B)\n"
      ]
     },
     "metadata": {},
     "output_type": "display_data"
    }
   ],
   "source": [
    "from keras.models import Sequential\n",
    "from keras.layers import Dense, Dropout\n",
    "\n",
    "# Build neural network model\n",
    "model = Sequential([\n",
    "    Dense(16, activation='relu', input_shape=(X_train.shape[1],)),  # Input layer: 4 features -> 16 neurons\n",
    "    Dropout(0.2),                                                   # Dropout for regularization\n",
    "    Dense(1, activation='tanh')                                     # Output layer: single prediction\n",
    "])\n",
    "\n",
    "# Compile model with Adam optimizer\n",
    "model.compile(optimizer='adam', loss='mse', metrics=['mae'])\n",
    "\n",
    "# Display model architecture\n",
    "model.summary()"
   ]
  },
  {
   "cell_type": "code",
   "execution_count": 54,
   "metadata": {
    "id": "xE_fwP2iuc3z"
   },
   "outputs": [],
   "source": [
    "from sklearn.model_selection import RepeatedKFold\n",
    "rkf = RepeatedKFold(n_splits=5, n_repeats=10, random_state=55)"
   ]
  },
  {
   "cell_type": "code",
   "execution_count": 55,
   "metadata": {
    "colab": {
     "base_uri": "https://localhost:8080/"
    },
    "id": "OsPibS17uc1Q",
    "outputId": "9d8c4f0a-2000-4310-8c4f-3f1ec5b0bca1",
    "scrolled": true
   },
   "outputs": [],
   "source": [
    "from sklearn.model_selection import KFold\n",
    "\n",
    "# Simple 5-fold cross-validation\n",
    "cv_strategy = KFold(n_splits=5, shuffle=True, random_state=42)\n"
   ]
  },
  {
   "cell_type": "code",
   "execution_count": 56,
   "metadata": {
    "colab": {
     "base_uri": "https://localhost:8080/"
    },
    "id": "bLMBpR1Vucu9",
    "outputId": "1d952781-3c25-4c54-ba53-e3c41537e87f"
   },
   "outputs": [
    {
     "name": "stdout",
     "output_type": "stream",
     "text": [
      "Training predictions: (20,)\n",
      "Test predictions: (5,)\n"
     ]
    }
   ],
   "source": [
    "from sklearn.metrics import mean_squared_error, mean_absolute_error, r2_score\n",
    "\n",
    "# Make predictions on scaled data and convert back to original scale\n",
    "y_pred_train = inverse_scale_targets(model.predict(X_train_scaled, verbose=0))\n",
    "y_pred_test = inverse_scale_targets(model.predict(X_test_scaled, verbose=0))\n",
    "\n",
    "\n",
    "print(f\"Training predictions: {y_pred_train.shape}\")\n",
    "print(f\"Test predictions: {y_pred_test.shape}\")"
   ]
  },
  {
   "cell_type": "code",
   "execution_count": 57,
   "metadata": {
    "colab": {
     "base_uri": "https://localhost:8080/"
    },
    "id": "bLe3GkNIucqB",
    "outputId": "b6213314-a5ba-4605-db26-b57fbdddeef8"
   },
   "outputs": [
    {
     "name": "stdout",
     "output_type": "stream",
     "text": [
      "Requirement already satisfied: matplotlib in c:\\users\\brian\\pycharmprojects\\pythonproject1\\.venv\\lib\\site-packages (3.10.5)\n",
      "Requirement already satisfied: contourpy>=1.0.1 in c:\\users\\brian\\pycharmprojects\\pythonproject1\\.venv\\lib\\site-packages (from matplotlib) (1.3.3)\n",
      "Requirement already satisfied: cycler>=0.10 in c:\\users\\brian\\pycharmprojects\\pythonproject1\\.venv\\lib\\site-packages (from matplotlib) (0.12.1)\n",
      "Requirement already satisfied: fonttools>=4.22.0 in c:\\users\\brian\\pycharmprojects\\pythonproject1\\.venv\\lib\\site-packages (from matplotlib) (4.59.0)\n",
      "Requirement already satisfied: kiwisolver>=1.3.1 in c:\\users\\brian\\pycharmprojects\\pythonproject1\\.venv\\lib\\site-packages (from matplotlib) (1.4.8)\n",
      "Requirement already satisfied: numpy>=1.23 in c:\\users\\brian\\pycharmprojects\\pythonproject1\\.venv\\lib\\site-packages (from matplotlib) (2.3.2)\n",
      "Requirement already satisfied: packaging>=20.0 in c:\\users\\brian\\pycharmprojects\\pythonproject1\\.venv\\lib\\site-packages (from matplotlib) (25.0)\n",
      "Requirement already satisfied: pillow>=8 in c:\\users\\brian\\pycharmprojects\\pythonproject1\\.venv\\lib\\site-packages (from matplotlib) (11.3.0)\n",
      "Requirement already satisfied: pyparsing>=2.3.1 in c:\\users\\brian\\pycharmprojects\\pythonproject1\\.venv\\lib\\site-packages (from matplotlib) (3.2.3)\n",
      "Requirement already satisfied: python-dateutil>=2.7 in c:\\users\\brian\\pycharmprojects\\pythonproject1\\.venv\\lib\\site-packages (from matplotlib) (2.9.0.post0)\n",
      "Requirement already satisfied: six>=1.5 in c:\\users\\brian\\pycharmprojects\\pythonproject1\\.venv\\lib\\site-packages (from python-dateutil>=2.7->matplotlib) (1.17.0)\n"
     ]
    }
   ],
   "source": [
    "!pip install matplotlib"
   ]
  },
  {
   "cell_type": "code",
   "execution_count": 58,
   "metadata": {
    "id": "a-l59rc2v88f"
   },
   "outputs": [],
   "source": [
    "import matplotlib.pyplot as plt\n",
    "%matplotlib inline"
   ]
  },
  {
   "cell_type": "code",
   "execution_count": 59,
   "metadata": {
    "colab": {
     "base_uri": "https://localhost:8080/"
    },
    "id": "YRI-nPxRv855",
    "outputId": "68ce3d7b-f2e1-4805-99aa-86ee52ea106e"
   },
   "outputs": [
    {
     "name": "stdout",
     "output_type": "stream",
     "text": [
      "[Train] MSE=5189964.942747  MAE=2074.663164  R²=-3.3447\n",
      "[Test ] MSE=4650046.307239  MAE=2010.985393  R²=-0.4541\n"
     ]
    }
   ],
   "source": [
    "def report_metrics(dataset_name, y_true, y_pred):\n",
    "    \"\"\"Calculate and display regression metrics\"\"\"\n",
    "    mse = mean_squared_error(y_true, y_pred)\n",
    "    mae = mean_absolute_error(y_true, y_pred)\n",
    "    r2 = r2_score(y_true, y_pred)\n",
    "    print(f\"[{dataset_name}] MSE={mse:.6f}  MAE={mae:.6f}  R²={r2:.4f}\")\n",
    "\n",
    "\n",
    "report_metrics(\"Train\", y_train, y_pred_train)\n",
    "report_metrics(\"Test \", y_test, y_pred_test)"
   ]
  },
  {
   "cell_type": "code",
   "execution_count": 60,
   "metadata": {
    "colab": {
     "base_uri": "https://localhost:8080/"
    },
    "id": "l9ynSIXXBe9K",
    "outputId": "dca090bf-9607-462a-a97a-deca0f529aea"
   },
   "outputs": [
    {
     "name": "stdout",
     "output_type": "stream",
     "text": [
      "\n",
      "== Prediction Results Table ==\n",
      "dataset  actual   predicted     residual   abs_error  pct_error\n",
      "  Train 5752.15 4387.744629  1364.405371 1364.405371  23.719920\n",
      "  Train 3517.86 4837.315430 -1319.455430 1319.455430  37.507332\n",
      "  Train 3129.61 3845.758301  -716.148301  716.148301  22.882989\n",
      "  Train 2965.54 4561.576172 -1596.036172 1596.036172  53.819411\n",
      "  Train 2689.91 5706.950195 -3017.040195 3017.040195 112.161381\n",
      "  Train 1339.35 5634.576172 -4295.226172 4295.226172 320.694827\n",
      "  Train 1456.22 4698.887695 -3242.667695 3242.667695 222.677047\n",
      "  Train 3129.57 3845.758301  -716.188301  716.188301  22.884559\n",
      "  Train 1321.65 4754.010254 -3432.360254 3432.360254 259.702664\n",
      "  Train 2987.31 4078.269775 -1090.959775 1090.959775  36.519805\n",
      "  Train 2966.91 4561.576172 -1594.666172 1594.666172  53.748384\n",
      "  Train 2970.82 5431.237305 -2460.417305 2460.417305  82.819468\n",
      "  Train 2690.50 5706.950195 -3016.450195 3016.450195 112.114856\n",
      "  Train 2972.98 4478.037109 -1505.057109 1505.057109  50.624529\n",
      "  Train 2972.94 4478.037109 -1505.097109 1505.097109  50.626555\n",
      "  Train 5752.81 4387.744629  1365.065371 1365.065371  23.728671\n",
      "  Train 2974.51 5431.237305 -2456.727305 2456.727305  82.592673\n",
      "  Train 3440.43 5615.249512 -2174.819512 2174.819512  63.213596\n",
      "  Train 3441.19 5615.249512 -2174.059512 2174.059512  63.177549\n",
      "  Train 2989.00 5439.416016 -2450.416016 2450.416016  81.981131\n",
      "   Test 5921.61 4340.218262  1581.391738 1581.391738  26.705435\n",
      "   Test 5921.49 4340.218262  1581.271738 1581.271738  26.703950\n",
      "   Test 2878.90 5439.416016 -2560.516016 2560.516016  88.940777\n",
      "   Test 2987.28 4078.269775 -1090.989775 1090.989775  36.521176\n",
      "   Test 1458.13 4698.887695 -3240.757695 3240.757695 222.254373\n"
     ]
    }
   ],
   "source": [
    "#Prediction\n",
    "import numpy as np\n",
    "import pandas as pd\n",
    "\n",
    "def create_prediction_table(dataset_name, y_true, y_pred, n_rows=None):\n",
    "    \"\"\"Create detailed prediction comparison table with error metrics\"\"\"\n",
    "    # Ensure arrays are 1D\n",
    "    y_true = np.asarray(y_true).reshape(-1)\n",
    "    y_pred = np.asarray(y_pred).reshape(-1)\n",
    "    \n",
    "    # Create comparison table\n",
    "    table = pd.DataFrame({\n",
    "        \"dataset\":   dataset_name,\n",
    "        \"actual\":    y_true,\n",
    "        \"predicted\": y_pred,\n",
    "    })\n",
    "    \n",
    "    # Calculate error metrics\n",
    "    table[\"residual\"] = table[\"actual\"] - table[\"predicted\"]\n",
    "    table[\"abs_error\"] = table[\"residual\"].abs()\n",
    "    table[\"pct_error\"] = 100 * table[\"abs_error\"] / np.maximum(1e-8, np.abs(table[\"actual\"]))\n",
    "    \n",
    "    return table if n_rows is None else table.head(n_rows)\n",
    "\n",
    "# Create prediction tables\n",
    "train_table = create_prediction_table(\"Train\", y_train, y_pred_train)\n",
    "test_table = create_prediction_table(\"Test\", y_test, y_pred_test)\n",
    "\n",
    "# Combine all results\n",
    "results_table = pd.concat([train_table, test_table], ignore_index=True)\n",
    "\n",
    "print(\"\\n== Prediction Results Table ==\")\n",
    "print(results_table.to_string(index=False))"
   ]
  },
  {
   "cell_type": "code",
   "execution_count": 61,
   "metadata": {
    "colab": {
     "base_uri": "https://localhost:8080/"
    },
    "id": "0fGsA0jcv83V",
    "outputId": "ce3b53ca-6bde-4db5-c464-6e34b0a9ea7e"
   },
   "outputs": [
    {
     "name": "stdout",
     "output_type": "stream",
     "text": [
      "Train: n=20  Var(y)=1194563.485031  MSE(model)=5189964.942747  MSE(baseline)=1194563.485031  R²=-3.3447\n",
      "Test : n=5  Var(y)=3197927.539176  MSE(model)=4650046.307239  MSE(baseline)=3197927.539176  R²=-0.4541\n"
     ]
    }
   ],
   "source": [
    "#Validate that your model is better than a naive baseline\n",
    "import numpy as np\n",
    "from sklearn.metrics import mean_squared_error, r2_score\n",
    "\n",
    "def diagnostic_report(dataset_name, y_true, y_pred):\n",
    "    \"\"\"Generate detailed diagnostic metrics comparing model vs baseline\"\"\"\n",
    "    n_samples = len(y_true)\n",
    "    variance = np.var(y_true, ddof=0)\n",
    "    mse_model = mean_squared_error(y_true, y_pred)\n",
    "    mse_baseline = mean_squared_error(y_true, np.full_like(y_true, y_true.mean()))\n",
    "    r2 = r2_score(y_true, y_pred)\n",
    "    \n",
    "    print(f\"{dataset_name}: n={n_samples}  Var(y)={variance:.6f}  \"\n",
    "          f\"MSE(model)={mse_model:.6f}  MSE(baseline)={mse_baseline:.6f}  R²={r2:.4f}\")\n",
    "\n",
    "\n",
    "diagnostic_report(\"Train\", y_train, y_pred_train)\n",
    "diagnostic_report(\"Test \", y_test, y_pred_test)"
   ]
  },
  {
   "cell_type": "code",
   "execution_count": 62,
   "metadata": {
    "colab": {
     "base_uri": "https://localhost:8080/"
    },
    "id": "h4m-KcWfy72q",
    "outputId": "36365bbe-d263-4c36-b067-c06142f32a02"
   },
   "outputs": [
    {
     "name": "stdout",
     "output_type": "stream",
     "text": [
      "Ridge Regression Baseline - R² mean: -0.870, std: 1.689\n",
      "Individual fold scores: [ 0.29098201 -1.75861409 -3.79812051  0.57266436  0.34433237]\n"
     ]
    }
   ],
   "source": [
    "from sklearn.pipeline import Pipeline\n",
    "from sklearn.preprocessing import StandardScaler\n",
    "from sklearn.linear_model import Ridge\n",
    "from sklearn.model_selection import KFold, cross_val_score\n",
    "import numpy as np\n",
    "\n",
    "# Use simple 5-fold cross-validation\n",
    "cv_strategy = KFold(n_splits=5, shuffle=True, random_state=42)\n",
    "\n",
    "# Create Ridge regression pipeline with scaling\n",
    "ridge_pipeline = Pipeline([\n",
    "    (\"scaler\", StandardScaler()),\n",
    "    (\"ridge\", Ridge(alpha=1.0))\n",
    "])\n",
    "\n",
    "# Evaluate with cross-validation\n",
    "scores = cross_val_score(ridge_pipeline, X, y, cv=cv_strategy, scoring=\"r2\")\n",
    "\n",
    "print(f\"Ridge Regression Baseline - R² mean: {scores.mean():.3f}, std: {scores.std():.3f}\")\n",
    "print(f\"Individual fold scores: {scores}\")"
   ]
  },
  {
   "cell_type": "code",
   "execution_count": 63,
   "metadata": {
    "id": "c8DT07SNzCiM"
   },
   "outputs": [
    {
     "name": "stdout",
     "output_type": "stream",
     "text": [
      "Testing different activation functions...\n"
     ]
    }
   ],
   "source": [
    "# Activation function comparison experiment\n",
    "import random\n",
    "import numpy as np\n",
    "import matplotlib.pyplot as plt\n",
    "from sklearn.metrics import mean_squared_error\n",
    "import tensorflow as tf\n",
    "from tensorflow.keras import layers, optimizers\n",
    "\n",
    "# Define activation functions to test\n",
    "activation_functions = ['relu', 'tanh', 'sigmoid', 'softplus']\n",
    "activation_labels = ['ReLU', 'Tanh', 'Sigmoid', 'Softplus']\n",
    "\n",
    "# Storage for results\n",
    "validation_mse_scores = []\n",
    "test_mse_scores = []\n",
    "\n",
    "print(\"Testing different activation functions...\")\n"
   ]
  },
  {
   "cell_type": "code",
   "execution_count": 64,
   "metadata": {
    "colab": {
     "base_uri": "https://localhost:8080/"
    },
    "id": "qr5llTjvzCgH",
    "outputId": "0c8758c6-f4a5-44b1-98cb-6326925d2823"
   },
   "outputs": [
    {
     "name": "stdout",
     "output_type": "stream",
     "text": [
      "\n",
      "Training model with relu activation...\n",
      "RELU - Test MSE: 2180251.441214\n",
      "\n",
      "Training model with tanh activation...\n",
      "TANH - Test MSE: 2457224.193618\n",
      "\n",
      "Training model with sigmoid activation...\n",
      "SIGMOID - Test MSE: 3133888.722703\n",
      "\n",
      "Training model with softplus activation...\n",
      "SOFTPLUS - Test MSE: 3010400.469393\n"
     ]
    }
   ],
   "source": [
    "# Set random seed for reproducible results\n",
    "SEED = 5\n",
    "\n",
    "for activation in activation_functions:\n",
    "    print(f\"\\nTraining model with {activation} activation...\")\n",
    "    \n",
    "    # Clear previous model and set seeds for reproducibility\n",
    "    tf.keras.backend.clear_session()\n",
    "    np.random.seed(SEED)\n",
    "    random.seed(SEED) \n",
    "    tf.random.set_seed(SEED)\n",
    "    \n",
    "    # Build model with current activation function\n",
    "    model = tf.keras.Sequential([\n",
    "        layers.Input(shape=(X_train_scaled.shape[1],)),\n",
    "        layers.Dense(16, activation=activation),\n",
    "        layers.Dense(1, activation='tanh')\n",
    "    ])\n",
    "    \n",
    "    # Compile model\n",
    "    model.compile(optimizer=optimizers.Adam(learning_rate=1e-3), loss='mse')\n",
    "    \n",
    "    # Train model\n",
    "    history = model.fit(\n",
    "        X_train_scaled, y_train_scaled,\n",
    "        validation_split=0.2,  # Use validation split instead of separate validation set\n",
    "        epochs=200, \n",
    "        batch_size=16, \n",
    "        shuffle=True, \n",
    "        verbose=0,  # Reduced verbosity for cleaner output\n",
    "        callbacks=[]\n",
    "    )\n",
    "    \n",
    "    # Make predictions and calculate MSE on original scale\n",
    "    y_pred_test = inverse_scale_targets(model.predict(X_test_scaled, verbose=0))\n",
    "    test_mse = mean_squared_error(y_test, y_pred_test)\n",
    "    \n",
    "    # Store results\n",
    "    test_mse_scores.append(test_mse)\n",
    "    \n",
    "    print(f\"{activation.upper()} - Test MSE: {test_mse:.6f}\")"
   ]
  },
  {
   "cell_type": "code",
   "execution_count": 66,
   "metadata": {
    "id": "pte4Sl2lzviq"
   },
   "outputs": [
    {
     "name": "stdout",
     "output_type": "stream",
     "text": [
      "SOFTPLUS - Test MSE: 3010400.469393\n"
     ]
    }
   ],
   "source": [
    "# Make predictions on test set and convert back to original scale\n",
    "y_test_pred_original = inverse_scale_targets(model.predict(X_test_scaled, verbose=0))\n",
    "\n",
    "# Calculate MSE on original scale\n",
    "test_mse = mean_squared_error(y_test, y_test_pred_original)\n",
    "test_mse_scores.append(test_mse)\n",
    "\n",
    "print(f\"{activation.upper()} - Test MSE: {test_mse:.6f}\")"
   ]
  },
  {
   "cell_type": "code",
   "execution_count": 67,
   "metadata": {
    "colab": {
     "base_uri": "https://localhost:8080/",
     "height": 558
    },
    "id": "mi4HD3HvzvgE",
    "outputId": "8d2c5b03-b7a9-4bd0-c7a3-b6961e4b8d43"
   },
   "outputs": [
    {
     "name": "stdout",
     "output_type": "stream",
     "text": [
      "Testing activation functions...\n",
      "========================================\n",
      "Training with ReLU activation...\n",
      "ReLU: MSE = 1675966.870202\n",
      "Training with Tanh activation...\n",
      "Tanh: MSE = 2490268.126726\n",
      "Training with Sigmoid activation...\n",
      "Sigmoid: MSE = 2891005.159650\n",
      "Training with Softplus activation...\n",
      "Softplus: MSE = 2540686.534460\n"
     ]
    },
    {
     "data": {
      "image/png": "[encoded data removed]",
      "text/plain": [
       "<Figure size 1000x600 with 1 Axes>"
      ]
     },
     "metadata": {},
     "output_type": "display_data"
    },
    {
     "name": "stdout",
     "output_type": "stream",
     "text": [
      "\n",
      "Best activation function: ReLU\n",
      "Lowest MSE: 1675966.870202\n"
     ]
    }
   ],
   "source": [
    "from tensorflow.keras.models import Sequential\n",
    "from tensorflow.keras.layers import Dense, Input, Dropout\n",
    "from sklearn.metrics import mean_squared_error\n",
    "import matplotlib.pyplot as plt\n",
    "\n",
    "# Define activation functions to test\n",
    "activation_functions = {\n",
    "    'relu': 'ReLU',\n",
    "    'tanh': 'Tanh', \n",
    "    'sigmoid': 'Sigmoid',\n",
    "    'softplus': 'Softplus'\n",
    "}\n",
    "\n",
    "# Store MSE results for each activation function\n",
    "mse_results = []\n",
    "\n",
    "print(\"Testing activation functions...\")\n",
    "print(\"=\" * 40)\n",
    "\n",
    "for activation, display_name in activation_functions.items():\n",
    "    print(f\"Training with {display_name} activation...\")\n",
    "    \n",
    "    # Build model with current activation function\n",
    "    model = Sequential([\n",
    "        Input(shape=(X_train_scaled.shape[1],)),\n",
    "        Dense(16, activation=activation),\n",
    "        Dropout(0.2),\n",
    "        Dense(1, activation='tanh')\n",
    "    ])\n",
    "    \n",
    "    # Compile and train model\n",
    "    model.compile(optimizer='adam', loss='mse')\n",
    "    model.fit(X_train_scaled, y_train_scaled, \n",
    "             batch_size=4, epochs=50, verbose=0)\n",
    "    \n",
    "    # Make predictions and calculate MSE on original scale\n",
    "    y_pred_scaled = model.predict(X_test_scaled, verbose=0)\n",
    "    y_pred_original = inverse_scale_targets(y_pred_scaled)\n",
    "    mse = mean_squared_error(y_test, y_pred_original)\n",
    "    \n",
    "    mse_results.append(mse)\n",
    "    print(f\"{display_name}: MSE = {mse:.6f}\")\n",
    "\n",
    "# Plot results\n",
    "plt.figure(figsize=(10, 6))\n",
    "plt.plot(list(activation_functions.values()), mse_results, \n",
    "         marker='o', linestyle='-', linewidth=2, markersize=8)\n",
    "plt.title('Model Performance Comparison: Different Activation Functions')\n",
    "plt.xlabel('Activation Function')\n",
    "plt.ylabel('Mean Squared Error (Test Set)')\n",
    "plt.grid(True, alpha=0.3)\n",
    "plt.xticks(rotation=45)\n",
    "plt.tight_layout()\n",
    "plt.show()\n",
    "\n",
    "# Print summary\n",
    "print(f\"\\nBest activation function: {list(activation_functions.values())[mse_results.index(min(mse_results))]}\")\n",
    "print(f\"Lowest MSE: {min(mse_results):.6f}\")"
   ]
  },
  {
   "cell_type": "code",
   "execution_count": 68,
   "metadata": {
    "id": "EDPOy53izvXd"
   },
   "outputs": [
    {
     "name": "stdout",
     "output_type": "stream",
     "text": [
      "Cross-validated predictions generated: 25 predictions\n",
      "Original data: 25 samples\n"
     ]
    }
   ],
   "source": [
    "# Ensure target is 1D array\n",
    "y = y.ravel()\n",
    "\n",
    "# Create linear regression pipeline with scaling\n",
    "from sklearn.pipeline import Pipeline\n",
    "from sklearn.preprocessing import StandardScaler\n",
    "from sklearn.linear_model import LinearRegression\n",
    "from sklearn.model_selection import KFold, cross_val_predict\n",
    "\n",
    "# Build pipeline: scaling + linear regression\n",
    "linear_pipeline = Pipeline([\n",
    "    (\"scaler\", StandardScaler()),\n",
    "    (\"linear_regression\", LinearRegression())\n",
    "])\n",
    "\n",
    "# Set up cross-validation strategy\n",
    "cv_strategy = KFold(n_splits=5, shuffle=True, random_state=42)\n",
    "\n",
    "# Get cross-validated predictions\n",
    "y_pred_cv = cross_val_predict(linear_pipeline, X, y, cv=cv_strategy)\n",
    "\n",
    "print(f\"Cross-validated predictions generated: {len(y_pred_cv)} predictions\")\n",
    "print(f\"Original data: {len(y)} samples\")"
   ]
  },
  {
   "cell_type": "code",
   "execution_count": 69,
   "metadata": {
    "colab": {
     "base_uri": "https://localhost:8080/",
     "height": 409
    },
    "id": "44mdFAH_zvVL",
    "outputId": "15f6c05f-e34c-4356-8184-a6d84c86d382"
   },
   "outputs": [
    {
     "data": {
      "image/png": "[encoded data removed]",
      "text/plain": [
       "<Figure size 1200x500 with 2 Axes>"
      ]
     },
     "metadata": {},
     "output_type": "display_data"
    }
   ],
   "source": [
    "import matplotlib.pyplot as plt\n",
    "from sklearn.metrics import PredictionErrorDisplay\n",
    "\n",
    "# Create diagnostic plots for linear regression predictions\n",
    "fig, axs = plt.subplots(ncols=2, figsize=(12, 5))\n",
    "\n",
    "# Plot 1: Actual vs Predicted values\n",
    "PredictionErrorDisplay.from_predictions(\n",
    "    y_true=y,\n",
    "    y_pred=y_pred_cv,  # Using cross-validated predictions\n",
    "    kind=\"actual_vs_predicted\",\n",
    "    subsample=None,    # Use all data points (you have 25 samples)\n",
    "    ax=axs[0],\n",
    "    random_state=42,\n",
    ")\n",
    "axs[0].set_title(\"Actual vs Predicted Values\")\n",
    "axs[0].grid(True, alpha=0.3)\n",
    "\n",
    "# Plot 2: Residuals vs Predicted values\n",
    "PredictionErrorDisplay.from_predictions(\n",
    "    y_true=y,\n",
    "    y_pred=y_pred_cv,  # Using cross-validated predictions\n",
    "    kind=\"residual_vs_predicted\", \n",
    "    subsample=None,    # Use all data points\n",
    "    ax=axs[1],\n",
    "    random_state=42,\n",
    ")\n",
    "axs[1].set_title(\"Residuals vs Predicted Values\")\n",
    "axs[1].grid(True, alpha=0.3)\n",
    "\n",
    "# Overall title\n",
    "fig.suptitle(\"Linear Regression: Cross-Validated Predictions\", fontsize=14)\n",
    "plt.tight_layout()\n",
    "plt.show()"
   ]
  },
  {
   "cell_type": "code",
   "execution_count": 70,
   "metadata": {
    "id": "9mx0YxFMdt-v"
   },
   "outputs": [],
   "source": [
    "#SVM\n",
    "import numpy as np\n",
    "import pandas as pd\n",
    "from sklearn.model_selection import train_test_split, KFold\n",
    "from sklearn.pipeline import make_pipeline\n",
    "from sklearn.preprocessing import StandardScaler\n",
    "from sklearn.svm import SVR\n",
    "from sklearn.multioutput import MultiOutputRegressor\n",
    "from sklearn.metrics import (\n",
    "    r2_score, \n",
    "    mean_absolute_percentage_error, \n",
    "    mean_squared_error,\n",
    "    mean_squared_log_error, \n",
    "    explained_variance_score, \n",
    "    max_error,\n",
    "    median_absolute_error\n",
    ")\n"
   ]
  },
  {
   "cell_type": "code",
   "execution_count": 71,
   "metadata": {
    "colab": {
     "base_uri": "https://localhost:8080/"
    },
    "id": "9OuGC1xUdxOh",
    "outputId": "41b8fa28-f7e4-4c5e-e2b7-fec0a8706c60"
   },
   "outputs": [
    {
     "name": "stdout",
     "output_type": "stream",
     "text": [
      "   Run  Factor A  Factor B  Factor C  Factor D  Response 1 (Experimental)  \\\n",
      "0    1       110         7        50        10                    1127.19   \n",
      "1    2        85        13        50        10                    1024.97   \n",
      "2    3       101         1       500        60                    1950.00   \n",
      "3    4       101         1       500        60                    2223.17   \n",
      "4    5        50        10        50        10                    1845.60   \n",
      "\n",
      "   Response 2 (Experimental)  \n",
      "0                    1321.65  \n",
      "1                    1339.35  \n",
      "2                    2878.90  \n",
      "3                    2989.00  \n",
      "4                    2690.50  \n",
      "Features shape: (25, 4) Target shape: (25, 1)\n"
     ]
    }
   ],
   "source": [
    "import pandas as pd\n",
    "\n",
    "# Simple and direct data loading\n",
    "df = pd.read_csv('Exp_Mn_Mw_Value.txt', sep='\\t')\n",
    "print(df.head())\n",
    "\n",
    "# Select features and single target\n",
    "X = df.iloc[:, 1:5].astype(float).to_numpy()  # Features: columns 1-4\n",
    "y = df.iloc[:, [6]].astype(float).to_numpy()   # Target: column 6 (single response)\n",
    "\n",
    "print(\"Features shape:\", X.shape, \"Target shape:\", y.shape)"
   ]
  },
  {
   "cell_type": "code",
   "execution_count": 72,
   "metadata": {
    "colab": {
     "base_uri": "https://localhost:8080/"
    },
    "id": "dYDUPyluge6O",
    "outputId": "907fd173-7b0c-4807-aeb7-839722a0d3ca"
   },
   "outputs": [
    {
     "name": "stdout",
     "output_type": "stream",
     "text": [
      "Training: 16, Validation: 4, Test: 5\n"
     ]
    }
   ],
   "source": [
    "# First split: separate test set (20%)\n",
    "X_temp, X_test, y_temp, y_test = train_test_split(\n",
    "    X, y, test_size=0.2, random_state=42, shuffle=True\n",
    ")\n",
    "\n",
    "# Second split: divide remaining into train (64%) and validation (16%)  \n",
    "X_train, X_val, y_train, y_val = train_test_split(\n",
    "    X_temp, y_temp, test_size=0.2, random_state=42, shuffle=True\n",
    ")\n",
    "\n",
    "print(f\"Training: {X_train.shape[0]}, Validation: {X_val.shape[0]}, Test: {X_test.shape[0]}\")"
   ]
  },
  {
   "cell_type": "code",
   "execution_count": 73,
   "metadata": {
    "colab": {
     "base_uri": "https://localhost:8080/",
     "height": 190
    },
    "id": "vWonnDhpu9mM",
    "outputId": "0e5b5b4f-8306-4eaa-f925-3df33906cc2e"
   },
   "outputs": [
    {
     "name": "stdout",
     "output_type": "stream",
     "text": [
      "SVM model trained successfully!\n",
      "Training samples: 16\n",
      "Features: 4\n"
     ]
    },
    {
     "name": "stderr",
     "output_type": "stream",
     "text": [
      "C:\\Users\\brian\\PycharmProjects\\PythonProject1\\.venv\\Lib\\site-packages\\sklearn\\utils\\validation.py:1406: DataConversionWarning: A column-vector y was passed when a 1d array was expected. Please change the shape of y to (n_samples, ), for example using ravel().\n",
      "  y = column_or_1d(y, warn=True)\n"
     ]
    }
   ],
   "source": [
    "from sklearn.pipeline import make_pipeline\n",
    "from sklearn.preprocessing import StandardScaler\n",
    "from sklearn.svm import SVR\n",
    "\n",
    "# Create SVM pipeline for single output regression\n",
    "svm_model = make_pipeline(\n",
    "    StandardScaler(),                           # Scale features for SVM\n",
    "    SVR(kernel='poly', C=1, epsilon=0.1, gamma='scale')  # Polynomial kernel SVR\n",
    ")\n",
    "\n",
    "# Train the model (no MultiOutputRegressor needed for single target)\n",
    "svm_model.fit(X_train, y_train)\n",
    "\n",
    "print(\"SVM model trained successfully!\")\n",
    "print(f\"Training samples: {X_train.shape[0]}\")\n",
    "print(f\"Features: {X_train.shape[1]}\")"
   ]
  },
  {
   "cell_type": "code",
   "execution_count": 74,
   "metadata": {
    "colab": {
     "base_uri": "https://localhost:8080/"
    },
    "id": "R51IYeAhp-eF",
    "outputId": "500146fa-fd72-4aa6-9aad-5f493644b1f3"
   },
   "outputs": [
    {
     "name": "stdout",
     "output_type": "stream",
     "text": [
      "Test predictions shape: (5,)\n",
      "SVM Regression Results:\n",
      "==============================\n",
      "R² Score:           -0.022825\n",
      "Mean Squared Error: 2085774.867674\n",
      "Mean Absolute Error: 890.701248\n",
      "Median Absolute Error: 10.915068\n",
      "Explained Variance: 0.001588\n",
      "MAPE:              0.348308\n",
      "Max Error:         2778.626350\n",
      "MSLE:              0.218079\n"
     ]
    },
    {
     "name": "stderr",
     "output_type": "stream",
     "text": [
      "C:\\Users\\brian\\PycharmProjects\\PythonProject1\\.venv\\Lib\\site-packages\\sklearn\\utils\\validation.py:1406: DataConversionWarning: A column-vector y was passed when a 1d array was expected. Please change the shape of y to (n_samples, ), for example using ravel().\n",
      "  y = column_or_1d(y, warn=True)\n"
     ]
    }
   ],
   "source": [
    "# Train the SVM model and make predictions\n",
    "svm_model.fit(X_train, y_train)\n",
    "\n",
    "from sklearn.metrics import (\n",
    "    r2_score, mean_absolute_error, mean_squared_error,\n",
    "    explained_variance_score, mean_absolute_percentage_error,\n",
    "    mean_squared_log_error, median_absolute_error\n",
    ")\n",
    "\n",
    "# Make predictions\n",
    "y_pred = svm_model.predict(X_test)\n",
    "print(\"Test predictions shape:\", y_pred.shape)\n",
    "\n",
    "def calculate_regression_metrics(y_true, y_pred):\n",
    "    \"\"\"Calculate comprehensive regression metrics for single output\"\"\"\n",
    "    r2 = r2_score(y_true, y_pred)\n",
    "    evs = explained_variance_score(y_true, y_pred)\n",
    "    mape = mean_absolute_percentage_error(y_true, y_pred)\n",
    "    mse = mean_squared_error(y_true, y_pred)\n",
    "    mae = mean_absolute_error(y_true, y_pred)\n",
    "    mae_median = median_absolute_error(y_true, y_pred)\n",
    "    max_error = np.max(np.abs(y_true - y_pred))\n",
    "    \n",
    "    # Handle MSLE carefully (requires positive values)\n",
    "    try:\n",
    "        msle = mean_squared_log_error(y_true, y_pred)\n",
    "    except ValueError:\n",
    "        msle = np.nan  # If negative values present\n",
    "    \n",
    "    return evs, max_error, mape, mse, msle, mae, mae_median, r2\n",
    "\n",
    "# Calculate metrics\n",
    "evs, max_err, mape, mse, msle, mae, mae_median, r2 = calculate_regression_metrics(y_test, y_pred)\n",
    "\n",
    "print(\"SVM Regression Results:\")\n",
    "print(\"=\" * 30)\n",
    "print(f\"R² Score:           {r2:.6f}\")\n",
    "print(f\"Mean Squared Error: {mse:.6f}\")\n",
    "print(f\"Mean Absolute Error: {mae:.6f}\")\n",
    "print(f\"Median Absolute Error: {mae_median:.6f}\")\n",
    "print(f\"Explained Variance: {evs:.6f}\")\n",
    "print(f\"MAPE:              {mape:.6f}\")\n",
    "print(f\"Max Error:         {max_err:.6f}\")\n",
    "print(f\"MSLE:              {msle:.6f}\")"
   ]
  },
  {
   "cell_type": "code",
   "execution_count": 76,
   "metadata": {
    "colab": {
     "base_uri": "https://localhost:8080/"
    },
    "id": "3ksflBmCxuYo",
    "outputId": "d7f324eb-c72a-4d81-f898-5ad6674051b4"
   },
   "outputs": [
    {
     "name": "stdout",
     "output_type": "stream",
     "text": [
      "Actual vs Predicted Comparison (Test Set):\n",
      " Actual   Predicted     Residual   Abs_Error\n",
      "2972.98 2978.472022    -5.492022    5.492022\n",
      "5752.81 2978.327000  2774.483000 2774.483000\n",
      "1321.65 2974.183650 -1652.533650 1652.533650\n",
      "2966.91 2977.825068   -10.915068   10.915068\n",
      "2987.31 2977.227500    10.082500   10.082500\n",
      "\n",
      "Summary Statistics:\n",
      "Mean Absolute Error: 890.701248\n",
      "Max Error: 2774.483000\n",
      "Mean Residual: 223.124952\n"
     ]
    }
   ],
   "source": [
    "# Create comparison DataFrame for single target (ensure 1D arrays)\n",
    "test_df = pd.DataFrame({\n",
    "    \"Actual\":    y_test.flatten(),\n",
    "    \"Predicted\": y_pred.flatten(),\n",
    "    \"Residual\":  y_test.flatten() - y_pred.flatten(),\n",
    "    \"Abs_Error\": np.abs(y_test.flatten() - y_pred.flatten())\n",
    "})\n",
    "\n",
    "print(\"Actual vs Predicted Comparison (Test Set):\")\n",
    "\n",
    "print(test_df.to_string(index=False))\n",
    "print(f\"\\nSummary Statistics:\")\n",
    "print(f\"Mean Absolute Error: {test_df['Abs_Error'].mean():.6f}\")\n",
    "print(f\"Max Error: {test_df['Abs_Error'].max():.6f}\")\n",
    "print(f\"Mean Residual: {test_df['Residual'].mean():.6f}\")"
   ]
  },
  {
   "cell_type": "code",
   "execution_count": 77,
   "metadata": {
    "colab": {
     "base_uri": "https://localhost:8080/"
    },
    "id": "YXL7AbhmyjB4",
    "outputId": "a648ac41-2dc6-4206-da28-b15a87a2a45c"
   },
   "outputs": [
    {
     "name": "stdout",
     "output_type": "stream",
     "text": [
      "Running 5-fold cross-validation...\n",
      "Fold 1: R²=-0.0226, MSE=2085397.9868, MAPE=0.3480\n",
      "Fold 2: R²=-0.3024, MSE=559679.8908, MAPE=0.2786\n",
      "Fold 3: R²=-0.0793, MSE=68654.7549, MAPE=0.0702\n",
      "Fold 4: R²=-0.1076, MSE=4254982.8644, MAPE=0.6424\n",
      "Fold 5: R²=-0.3594, MSE=1783626.0481, MAPE=0.1286\n",
      "\n",
      "5-FOLD CROSS-VALIDATION RESULTS\n",
      "R² Score:  -0.1743 (±0.1320)\n",
      "MSE:       1750468.3090 (±1458241.7063)\n",
      "MAPE:      0.2936 (±0.2010)\n"
     ]
    },
    {
     "name": "stderr",
     "output_type": "stream",
     "text": [
      "C:\\Users\\brian\\PycharmProjects\\PythonProject1\\.venv\\Lib\\site-packages\\sklearn\\utils\\validation.py:1406: DataConversionWarning: A column-vector y was passed when a 1d array was expected. Please change the shape of y to (n_samples, ), for example using ravel().\n",
      "  y = column_or_1d(y, warn=True)\n",
      "C:\\Users\\brian\\PycharmProjects\\PythonProject1\\.venv\\Lib\\site-packages\\sklearn\\utils\\validation.py:1406: DataConversionWarning: A column-vector y was passed when a 1d array was expected. Please change the shape of y to (n_samples, ), for example using ravel().\n",
      "  y = column_or_1d(y, warn=True)\n",
      "C:\\Users\\brian\\PycharmProjects\\PythonProject1\\.venv\\Lib\\site-packages\\sklearn\\utils\\validation.py:1406: DataConversionWarning: A column-vector y was passed when a 1d array was expected. Please change the shape of y to (n_samples, ), for example using ravel().\n",
      "  y = column_or_1d(y, warn=True)\n",
      "C:\\Users\\brian\\PycharmProjects\\PythonProject1\\.venv\\Lib\\site-packages\\sklearn\\utils\\validation.py:1406: DataConversionWarning: A column-vector y was passed when a 1d array was expected. Please change the shape of y to (n_samples, ), for example using ravel().\n",
      "  y = column_or_1d(y, warn=True)\n",
      "C:\\Users\\brian\\PycharmProjects\\PythonProject1\\.venv\\Lib\\site-packages\\sklearn\\utils\\validation.py:1406: DataConversionWarning: A column-vector y was passed when a 1d array was expected. Please change the shape of y to (n_samples, ), for example using ravel().\n",
      "  y = column_or_1d(y, warn=True)\n"
     ]
    }
   ],
   "source": [
    "from sklearn.model_selection import KFold\n",
    "import numpy as np\n",
    "\n",
    "# 5-fold cross-validation for single output SVM\n",
    "kf = KFold(n_splits=5, shuffle=True, random_state=42)\n",
    "r2_scores, mse_scores, mape_scores = [], [], []\n",
    "\n",
    "print(\"Running 5-fold cross-validation...\")\n",
    "\n",
    "\n",
    "for fold, (train_idx, val_idx) in enumerate(kf.split(X), 1):\n",
    "    # Split data for this fold\n",
    "    X_train_fold, X_val_fold = X[train_idx], X[val_idx]\n",
    "    y_train_fold, y_val_fold = y[train_idx], y[val_idx]\n",
    "    \n",
    "    # Create and train SVM model for this fold\n",
    "    svm_fold = make_pipeline(\n",
    "        StandardScaler(), \n",
    "        SVR(kernel='poly', C=1, epsilon=0.1, gamma='scale')\n",
    "    )\n",
    "    svm_fold.fit(X_train_fold, y_train_fold)\n",
    "    \n",
    "    # Make predictions\n",
    "    y_val_pred = svm_fold.predict(X_val_fold)\n",
    "    \n",
    "    # Calculate metrics (no multioutput parameters needed)\n",
    "    fold_r2 = r2_score(y_val_fold, y_val_pred)\n",
    "    fold_mse = mean_squared_error(y_val_fold, y_val_pred)\n",
    "    fold_mape = mean_absolute_percentage_error(y_val_fold, y_val_pred)\n",
    "    \n",
    "    # Store results\n",
    "    r2_scores.append(fold_r2)\n",
    "    mse_scores.append(fold_mse)\n",
    "    mape_scores.append(fold_mape)\n",
    "    \n",
    "    print(f\"Fold {fold}: R²={fold_r2:.4f}, MSE={fold_mse:.4f}, MAPE={fold_mape:.4f}\")\n",
    "\n",
    "# Convert to arrays for statistics\n",
    "r2_array = np.array(r2_scores)\n",
    "mse_array = np.array(mse_scores)\n",
    "mape_array = np.array(mape_scores)\n",
    "\n",
    "print(\"\\n5-FOLD CROSS-VALIDATION RESULTS\")\n",
    "\n",
    "print(f\"R² Score:  {r2_array.mean():.4f} (±{r2_array.std():.4f})\")\n",
    "print(f\"MSE:       {mse_array.mean():.4f} (±{mse_array.std():.4f})\")\n",
    "print(f\"MAPE:      {mape_array.mean():.4f} (±{mape_array.std():.4f})\")"
   ]
  },
  {
   "cell_type": "code",
   "execution_count": 78,
   "metadata": {
    "colab": {
     "base_uri": "https://localhost:8080/"
    },
    "id": "Ie32vD4Vq6uH",
    "outputId": "a636d21f-f075-406f-fb51-1a95a9e0a0fb",
    "scrolled": true
   },
   "outputs": [
    {
     "name": "stdout",
     "output_type": "stream",
     "text": [
      "Running hyperparameter optimization...\n",
      "Fitting 5 folds for each of 180 candidates, totalling 900 fits\n",
      "\n",
      "Best hyperparameters found:\n",
      "==============================\n",
      "{'svr__C': 100, 'svr__epsilon': 0.01, 'svr__gamma': 0.1, 'svr__kernel': 'rbf'}\n",
      "Best cross-validated score: 810.4659\n"
     ]
    },
    {
     "name": "stderr",
     "output_type": "stream",
     "text": [
      "C:\\Users\\brian\\PycharmProjects\\PythonProject1\\.venv\\Lib\\site-packages\\sklearn\\utils\\validation.py:1406: DataConversionWarning: A column-vector y was passed when a 1d array was expected. Please change the shape of y to (n_samples, ), for example using ravel().\n",
      "  y = column_or_1d(y, warn=True)\n"
     ]
    }
   ],
   "source": [
    "#Instead of guessing the best settings for your SVM, this code automatically tests different combinations and finds the best ones.\n",
    "from sklearn.model_selection import GridSearchCV\n",
    "\n",
    "# Define parameter grid for hyperparameter tuning\n",
    "param_grid = {\n",
    "    'svr__C': [0.1, 1, 10, 100],\n",
    "    'svr__epsilon': [0.01, 0.1, 0.2],\n",
    "    'svr__gamma': ['scale', 'auto', 0.001, 0.01, 0.1],\n",
    "    'svr__kernel': ['rbf', 'poly', 'sigmoid']\n",
    "}\n",
    "\n",
    "# Create base pipeline\n",
    "base_pipeline = make_pipeline(StandardScaler(), SVR())\n",
    "\n",
    "# Set up cross-validation\n",
    "cv_strategy = KFold(n_splits=5, shuffle=True, random_state=42)\n",
    "\n",
    "# Grid search for best hyperparameters\n",
    "grid_search = GridSearchCV(\n",
    "    base_pipeline, \n",
    "    param_grid, \n",
    "    cv=cv_strategy, \n",
    "    scoring='neg_mean_absolute_error',  # Or 'r2' for R-squared\n",
    "    n_jobs=-1,\n",
    "    verbose=1\n",
    ")\n",
    "\n",
    "# Fit grid search (this will take some time)\n",
    "print(\"Running hyperparameter optimization...\")\n",
    "grid_search.fit(X, y)\n",
    "\n",
    "# Display best parameters\n",
    "print(\"\\nBest hyperparameters found:\")\n",
    "print(\"=\" * 30)\n",
    "print(grid_search.best_params_)\n",
    "print(f\"Best cross-validated score: {-grid_search.best_score_:.4f}\")\n",
    "\n"
   ]
  },
  {
   "cell_type": "code",
   "execution_count": null,
   "metadata": {},
   "outputs": [],
   "source": []
  }
 ],
 "metadata": {
  "colab": {
   "authorship_tag": "ABX9TyOyv2P2QXfaaf8ypeseEOuX",
   "include_colab_link": true,
   "provenance": []
  },
  "kernelspec": {
   "display_name": "Python 3 (ipykernel)",
   "language": "python",
   "name": "python3"
  },
  "language_info": {
   "codemirror_mode": {
    "name": "ipython",
    "version": 3
   },
   "file_extension": ".py",
   "mimetype": "text/x-python",
   "name": "python",
   "nbconvert_exporter": "python",
   "pygments_lexer": "ipython3",
   "version": "3.13.5"
  }
 },
 "nbformat": 4,
 "nbformat_minor": 4
}
