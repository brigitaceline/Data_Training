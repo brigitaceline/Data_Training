{
 "cells": [
  {
   "cell_type": "code",
   "execution_count": 1,
   "id": "ad3db735-f20b-4ac0-a485-5d0e2b0f8e93",
   "metadata": {},
   "outputs": [
    {
     "name": "stdout",
     "output_type": "stream",
     "text": [
      "Requirement already satisfied: numpy in c:\\users\\brian\\pycharmprojects\\pythonproject1\\.venv\\lib\\site-packages (2.3.2)\n",
      "Requirement already satisfied: pandas in c:\\users\\brian\\pycharmprojects\\pythonproject1\\.venv\\lib\\site-packages (2.3.1)\n",
      "Requirement already satisfied: tensorflow in c:\\users\\brian\\pycharmprojects\\pythonproject1\\.venv\\lib\\site-packages (2.20.0rc0)\n",
      "Requirement already satisfied: python-dateutil>=2.8.2 in c:\\users\\brian\\pycharmprojects\\pythonproject1\\.venv\\lib\\site-packages (from pandas) (2.9.0.post0)\n",
      "Requirement already satisfied: pytz>=2020.1 in c:\\users\\brian\\pycharmprojects\\pythonproject1\\.venv\\lib\\site-packages (from pandas) (2025.2)\n",
      "Requirement already satisfied: tzdata>=2022.7 in c:\\users\\brian\\pycharmprojects\\pythonproject1\\.venv\\lib\\site-packages (from pandas) (2025.2)\n",
      "Requirement already satisfied: absl-py>=1.0.0 in c:\\users\\brian\\pycharmprojects\\pythonproject1\\.venv\\lib\\site-packages (from tensorflow) (2.3.1)\n",
      "Requirement already satisfied: astunparse>=1.6.0 in c:\\users\\brian\\pycharmprojects\\pythonproject1\\.venv\\lib\\site-packages (from tensorflow) (1.6.3)\n",
      "Requirement already satisfied: flatbuffers>=24.3.25 in c:\\users\\brian\\pycharmprojects\\pythonproject1\\.venv\\lib\\site-packages (from tensorflow) (25.2.10)\n",
      "Requirement already satisfied: gast!=0.5.0,!=0.5.1,!=0.5.2,>=0.2.1 in c:\\users\\brian\\pycharmprojects\\pythonproject1\\.venv\\lib\\site-packages (from tensorflow) (0.6.0)\n",
      "Requirement already satisfied: google_pasta>=0.1.1 in c:\\users\\brian\\pycharmprojects\\pythonproject1\\.venv\\lib\\site-packages (from tensorflow) (0.2.0)\n",
      "Requirement already satisfied: libclang>=13.0.0 in c:\\users\\brian\\pycharmprojects\\pythonproject1\\.venv\\lib\\site-packages (from tensorflow) (18.1.1)\n",
      "Requirement already satisfied: opt_einsum>=2.3.2 in c:\\users\\brian\\pycharmprojects\\pythonproject1\\.venv\\lib\\site-packages (from tensorflow) (3.4.0)\n",
      "Requirement already satisfied: packaging in c:\\users\\brian\\pycharmprojects\\pythonproject1\\.venv\\lib\\site-packages (from tensorflow) (25.0)\n",
      "Requirement already satisfied: protobuf>=5.28.0 in c:\\users\\brian\\pycharmprojects\\pythonproject1\\.venv\\lib\\site-packages (from tensorflow) (6.31.1)\n",
      "Requirement already satisfied: requests<3,>=2.21.0 in c:\\users\\brian\\pycharmprojects\\pythonproject1\\.venv\\lib\\site-packages (from tensorflow) (2.32.4)\n",
      "Requirement already satisfied: setuptools in c:\\users\\brian\\pycharmprojects\\pythonproject1\\.venv\\lib\\site-packages (from tensorflow) (80.9.0)\n",
      "Requirement already satisfied: six>=1.12.0 in c:\\users\\brian\\pycharmprojects\\pythonproject1\\.venv\\lib\\site-packages (from tensorflow) (1.17.0)\n",
      "Requirement already satisfied: termcolor>=1.1.0 in c:\\users\\brian\\pycharmprojects\\pythonproject1\\.venv\\lib\\site-packages (from tensorflow) (3.1.0)\n",
      "Requirement already satisfied: typing_extensions>=3.6.6 in c:\\users\\brian\\pycharmprojects\\pythonproject1\\.venv\\lib\\site-packages (from tensorflow) (4.14.1)\n",
      "Requirement already satisfied: wrapt>=1.11.0 in c:\\users\\brian\\pycharmprojects\\pythonproject1\\.venv\\lib\\site-packages (from tensorflow) (1.17.2)\n",
      "Requirement already satisfied: grpcio<2.0,>=1.24.3 in c:\\users\\brian\\pycharmprojects\\pythonproject1\\.venv\\lib\\site-packages (from tensorflow) (1.74.0)\n",
      "Requirement already satisfied: tensorboard~=2.20.0 in c:\\users\\brian\\pycharmprojects\\pythonproject1\\.venv\\lib\\site-packages (from tensorflow) (2.20.0)\n",
      "Requirement already satisfied: keras>=3.10.0 in c:\\users\\brian\\pycharmprojects\\pythonproject1\\.venv\\lib\\site-packages (from tensorflow) (3.11.1)\n",
      "Requirement already satisfied: h5py>=3.11.0 in c:\\users\\brian\\pycharmprojects\\pythonproject1\\.venv\\lib\\site-packages (from tensorflow) (3.14.0)\n",
      "Requirement already satisfied: ml_dtypes<1.0.0,>=0.5.1 in c:\\users\\brian\\pycharmprojects\\pythonproject1\\.venv\\lib\\site-packages (from tensorflow) (0.5.3)\n",
      "Requirement already satisfied: charset_normalizer<4,>=2 in c:\\users\\brian\\pycharmprojects\\pythonproject1\\.venv\\lib\\site-packages (from requests<3,>=2.21.0->tensorflow) (3.4.2)\n",
      "Requirement already satisfied: idna<4,>=2.5 in c:\\users\\brian\\pycharmprojects\\pythonproject1\\.venv\\lib\\site-packages (from requests<3,>=2.21.0->tensorflow) (3.10)\n",
      "Requirement already satisfied: urllib3<3,>=1.21.1 in c:\\users\\brian\\pycharmprojects\\pythonproject1\\.venv\\lib\\site-packages (from requests<3,>=2.21.0->tensorflow) (2.5.0)\n",
      "Requirement already satisfied: certifi>=2017.4.17 in c:\\users\\brian\\pycharmprojects\\pythonproject1\\.venv\\lib\\site-packages (from requests<3,>=2.21.0->tensorflow) (2025.8.3)\n",
      "Requirement already satisfied: markdown>=2.6.8 in c:\\users\\brian\\pycharmprojects\\pythonproject1\\.venv\\lib\\site-packages (from tensorboard~=2.20.0->tensorflow) (3.8.2)\n",
      "Requirement already satisfied: pillow in c:\\users\\brian\\pycharmprojects\\pythonproject1\\.venv\\lib\\site-packages (from tensorboard~=2.20.0->tensorflow) (11.3.0)\n",
      "Requirement already satisfied: tensorboard-data-server<0.8.0,>=0.7.0 in c:\\users\\brian\\pycharmprojects\\pythonproject1\\.venv\\lib\\site-packages (from tensorboard~=2.20.0->tensorflow) (0.7.2)\n",
      "Requirement already satisfied: werkzeug>=1.0.1 in c:\\users\\brian\\pycharmprojects\\pythonproject1\\.venv\\lib\\site-packages (from tensorboard~=2.20.0->tensorflow) (3.1.3)\n",
      "Requirement already satisfied: wheel<1.0,>=0.23.0 in c:\\users\\brian\\pycharmprojects\\pythonproject1\\.venv\\lib\\site-packages (from astunparse>=1.6.0->tensorflow) (0.45.1)\n",
      "Requirement already satisfied: rich in c:\\users\\brian\\pycharmprojects\\pythonproject1\\.venv\\lib\\site-packages (from keras>=3.10.0->tensorflow) (14.1.0)\n",
      "Requirement already satisfied: namex in c:\\users\\brian\\pycharmprojects\\pythonproject1\\.venv\\lib\\site-packages (from keras>=3.10.0->tensorflow) (0.1.0)\n",
      "Requirement already satisfied: optree in c:\\users\\brian\\pycharmprojects\\pythonproject1\\.venv\\lib\\site-packages (from keras>=3.10.0->tensorflow) (0.17.0)\n",
      "Requirement already satisfied: MarkupSafe>=2.1.1 in c:\\users\\brian\\pycharmprojects\\pythonproject1\\.venv\\lib\\site-packages (from werkzeug>=1.0.1->tensorboard~=2.20.0->tensorflow) (3.0.2)\n",
      "Requirement already satisfied: markdown-it-py>=2.2.0 in c:\\users\\brian\\pycharmprojects\\pythonproject1\\.venv\\lib\\site-packages (from rich->keras>=3.10.0->tensorflow) (3.0.0)\n",
      "Requirement already satisfied: pygments<3.0.0,>=2.13.0 in c:\\users\\brian\\pycharmprojects\\pythonproject1\\.venv\\lib\\site-packages (from rich->keras>=3.10.0->tensorflow) (2.19.2)\n",
      "Requirement already satisfied: mdurl~=0.1 in c:\\users\\brian\\pycharmprojects\\pythonproject1\\.venv\\lib\\site-packages (from markdown-it-py>=2.2.0->rich->keras>=3.10.0->tensorflow) (0.1.2)\n"
     ]
    }
   ],
   "source": [
    "!pip install numpy pandas tensorflow"
   ]
  },
  {
   "cell_type": "code",
   "execution_count": 3,
   "id": "84d649c7-d51d-4c75-8282-1a113bfabdbc",
   "metadata": {},
   "outputs": [],
   "source": [
    "import numpy as np\n",
    "import pandas as pd\n",
    "from sklearn.model_selection import train_test_split\n",
    "from sklearn.preprocessing import StandardScaler\n",
    "from sklearn.metrics import mean_absolute_percentage_error, r2_score\n",
    "import tensorflow as tf\n",
    "from tensorflow.keras.models import Sequential\n",
    "from tensorflow.keras.layers import Dense\n",
    "from tensorflow.keras import regularizers\n",
    "from tensorflow.keras.callbacks import EarlyStopping"
   ]
  },
  {
   "cell_type": "code",
   "execution_count": 4,
   "id": "97bf0a48-b2f9-47f6-a743-c188fccc0eff",
   "metadata": {},
   "outputs": [],
   "source": [
    "dataset = pd.read_csv('Exp_Mn_Mw_Value.txt', sep='\\t')"
   ]
  },
  {
   "cell_type": "code",
   "execution_count": 5,
   "id": "94da57c8-927e-42c3-949a-25eadb812aa7",
   "metadata": {},
   "outputs": [],
   "source": [
    "X = dataset.iloc[:, 1:5].values   # columns 1–4: Factor A–D\n",
    "y = dataset.iloc[:, 5:7].values   # columns 5–6: Responses Mn, Mw"
   ]
  },
  {
   "cell_type": "code",
   "execution_count": 6,
   "id": "317fe654-af6d-4f21-b8c1-92c88c945ae5",
   "metadata": {},
   "outputs": [
    {
     "data": {
      "text/html": [
       "<div>\n",
       "<style scoped>\n",
       "    .dataframe tbody tr th:only-of-type {\n",
       "        vertical-align: middle;\n",
       "    }\n",
       "\n",
       "    .dataframe tbody tr th {\n",
       "        vertical-align: top;\n",
       "    }\n",
       "\n",
       "    .dataframe thead th {\n",
       "        text-align: right;\n",
       "    }\n",
       "</style>\n",
       "<table border=\"1\" class=\"dataframe\">\n",
       "  <thead>\n",
       "    <tr style=\"text-align: right;\">\n",
       "      <th></th>\n",
       "      <th>Run</th>\n",
       "      <th>Factor A</th>\n",
       "      <th>Factor B</th>\n",
       "      <th>Factor C</th>\n",
       "      <th>Factor D</th>\n",
       "      <th>Response 1 (Experimental)</th>\n",
       "      <th>Response 2 (Experimental)</th>\n",
       "    </tr>\n",
       "  </thead>\n",
       "  <tbody>\n",
       "    <tr>\n",
       "      <th>0</th>\n",
       "      <td>1</td>\n",
       "      <td>110</td>\n",
       "      <td>7</td>\n",
       "      <td>50</td>\n",
       "      <td>10</td>\n",
       "      <td>1127.19</td>\n",
       "      <td>1321.65</td>\n",
       "    </tr>\n",
       "    <tr>\n",
       "      <th>1</th>\n",
       "      <td>2</td>\n",
       "      <td>85</td>\n",
       "      <td>13</td>\n",
       "      <td>50</td>\n",
       "      <td>10</td>\n",
       "      <td>1024.97</td>\n",
       "      <td>1339.35</td>\n",
       "    </tr>\n",
       "    <tr>\n",
       "      <th>2</th>\n",
       "      <td>3</td>\n",
       "      <td>101</td>\n",
       "      <td>1</td>\n",
       "      <td>500</td>\n",
       "      <td>60</td>\n",
       "      <td>1950.00</td>\n",
       "      <td>2878.90</td>\n",
       "    </tr>\n",
       "    <tr>\n",
       "      <th>3</th>\n",
       "      <td>4</td>\n",
       "      <td>101</td>\n",
       "      <td>1</td>\n",
       "      <td>500</td>\n",
       "      <td>60</td>\n",
       "      <td>2223.17</td>\n",
       "      <td>2989.00</td>\n",
       "    </tr>\n",
       "    <tr>\n",
       "      <th>4</th>\n",
       "      <td>5</td>\n",
       "      <td>50</td>\n",
       "      <td>10</td>\n",
       "      <td>50</td>\n",
       "      <td>10</td>\n",
       "      <td>1845.60</td>\n",
       "      <td>2690.50</td>\n",
       "    </tr>\n",
       "  </tbody>\n",
       "</table>\n",
       "</div>"
      ],
      "text/plain": [
       "   Run  Factor A  Factor B  Factor C  Factor D  Response 1 (Experimental)  \\\n",
       "0    1       110         7        50        10                    1127.19   \n",
       "1    2        85        13        50        10                    1024.97   \n",
       "2    3       101         1       500        60                    1950.00   \n",
       "3    4       101         1       500        60                    2223.17   \n",
       "4    5        50        10        50        10                    1845.60   \n",
       "\n",
       "   Response 2 (Experimental)  \n",
       "0                    1321.65  \n",
       "1                    1339.35  \n",
       "2                    2878.90  \n",
       "3                    2989.00  \n",
       "4                    2690.50  "
      ]
     },
     "execution_count": 6,
     "metadata": {},
     "output_type": "execute_result"
    }
   ],
   "source": [
    "dataset.head()"
   ]
  },
  {
   "cell_type": "code",
   "execution_count": 7,
   "id": "be38a326-b711-4d25-87f6-1864401e1041",
   "metadata": {},
   "outputs": [
    {
     "name": "stdout",
     "output_type": "stream",
     "text": [
      "Requirement already satisfied: scikit-learn in c:\\users\\brian\\pycharmprojects\\pythonproject1\\.venv\\lib\\site-packages (1.7.1)\n",
      "Requirement already satisfied: numpy>=1.22.0 in c:\\users\\brian\\pycharmprojects\\pythonproject1\\.venv\\lib\\site-packages (from scikit-learn) (2.3.2)\n",
      "Requirement already satisfied: scipy>=1.8.0 in c:\\users\\brian\\pycharmprojects\\pythonproject1\\.venv\\lib\\site-packages (from scikit-learn) (1.16.1)\n",
      "Requirement already satisfied: joblib>=1.2.0 in c:\\users\\brian\\pycharmprojects\\pythonproject1\\.venv\\lib\\site-packages (from scikit-learn) (1.5.1)\n",
      "Requirement already satisfied: threadpoolctl>=3.1.0 in c:\\users\\brian\\pycharmprojects\\pythonproject1\\.venv\\lib\\site-packages (from scikit-learn) (3.6.0)\n"
     ]
    }
   ],
   "source": [
    "!pip install scikit-learn"
   ]
  },
  {
   "cell_type": "code",
   "execution_count": 8,
   "id": "1bdbbca1-d98b-4861-96ae-618fca1323fd",
   "metadata": {},
   "outputs": [],
   "source": [
    "from sklearn.model_selection import train_test_split\n",
    "X_temp, X_test, y_temp, y_test = train_test_split(X, y, test_size=0.2, shuffle=True, random_state=42)\n",
    "X_train, X_val, y_train, y_val = train_test_split(X_temp, y_temp, test_size=0.1111, shuffle=True, random_state=42)"
   ]
  },
  {
   "cell_type": "code",
   "execution_count": 9,
   "id": "7d7ff439-be10-4f8c-9e6b-a3e5648010bb",
   "metadata": {},
   "outputs": [],
   "source": [
    "scaler = StandardScaler()\n",
    "X_train = scaler.fit_transform(X_train)\n",
    "X_val = scaler.transform(X_val)\n",
    "X_test = scaler.transform(X_test)"
   ]
  },
  {
   "cell_type": "code",
   "execution_count": 10,
   "id": "0621d54e-fe24-4ac8-8964-ef33a8e228cd",
   "metadata": {},
   "outputs": [],
   "source": [
    "from tensorflow.keras import Input\n",
    "\n",
    "model = Sequential()\n",
    "model.add(Input(shape=(X_train.shape[1],)))  # define the input shape here\n",
    "model.add(Dense(18, activation='tanh',\n",
    "                kernel_regularizer=regularizers.l2(0.001)))\n",
    "model.add(Dense(2))  # 2 outputs: Mn, Mw"
   ]
  },
  {
   "cell_type": "code",
   "execution_count": 11,
   "id": "abceeaaf-acc6-4f74-9082-d408c0083652",
   "metadata": {},
   "outputs": [],
   "source": [
    "model.compile(optimizer='adam', loss='mean_squared_error', metrics=['mape'])"
   ]
  },
  {
   "cell_type": "code",
   "execution_count": 12,
   "id": "4a22e122-4fba-4f59-970c-569f3bb977b4",
   "metadata": {},
   "outputs": [
    {
     "name": "stdout",
     "output_type": "stream",
     "text": [
      "(17, 4)\n",
      "(17, 2)\n"
     ]
    }
   ],
   "source": [
    "print(X_train.shape)  # (samples, features)\n",
    "print(y_train.shape)  # (samples, 2)"
   ]
  },
  {
   "cell_type": "code",
   "execution_count": 13,
   "id": "b11d0c57-e99c-476d-bcd4-d9ab3192c2b2",
   "metadata": {},
   "outputs": [
    {
     "name": "stdout",
     "output_type": "stream",
     "text": [
      "\u001b[1m1/1\u001b[0m \u001b[32m━━━━━━━━━━━━━━━━━━━━\u001b[0m\u001b[37m\u001b[0m \u001b[1m0s\u001b[0m 70ms/step\n"
     ]
    }
   ],
   "source": [
    "y_pred = model.predict(X_test)"
   ]
  },
  {
   "cell_type": "code",
   "execution_count": 14,
   "id": "e90cb557-8d03-416c-91f5-693a8ec51e14",
   "metadata": {
    "scrolled": true
   },
   "outputs": [
    {
     "name": "stdout",
     "output_type": "stream",
     "text": [
      "Epoch 1/10\n",
      "\u001b[1m5/5\u001b[0m \u001b[32m━━━━━━━━━━━━━━━━━━━━\u001b[0m\u001b[37m\u001b[0m \u001b[1m1s\u001b[0m 41ms/step - loss: 9866343.0000 - mape: 100.0001 - val_loss: 7578475.5000 - val_mape: 100.0024\n",
      "Epoch 2/10\n",
      "\u001b[1m5/5\u001b[0m \u001b[32m━━━━━━━━━━━━━━━━━━━━\u001b[0m\u001b[37m\u001b[0m \u001b[1m0s\u001b[0m 16ms/step - loss: 9866214.0000 - mape: 99.9997 - val_loss: 7578376.5000 - val_mape: 100.0017\n",
      "Epoch 3/10\n",
      "\u001b[1m5/5\u001b[0m \u001b[32m━━━━━━━━━━━━━━━━━━━━\u001b[0m\u001b[37m\u001b[0m \u001b[1m0s\u001b[0m 16ms/step - loss: 9866107.0000 - mape: 99.9992 - val_loss: 7578264.0000 - val_mape: 100.0010\n",
      "Epoch 4/10\n",
      "\u001b[1m5/5\u001b[0m \u001b[32m━━━━━━━━━━━━━━━━━━━━\u001b[0m\u001b[37m\u001b[0m \u001b[1m0s\u001b[0m 18ms/step - loss: 9866014.0000 - mape: 99.9989 - val_loss: 7578188.0000 - val_mape: 100.0005\n",
      "Epoch 5/10\n",
      "\u001b[1m5/5\u001b[0m \u001b[32m━━━━━━━━━━━━━━━━━━━━\u001b[0m\u001b[37m\u001b[0m \u001b[1m0s\u001b[0m 16ms/step - loss: 9865883.0000 - mape: 99.9985 - val_loss: 7578130.5000 - val_mape: 100.0001\n",
      "Epoch 6/10\n",
      "\u001b[1m5/5\u001b[0m \u001b[32m━━━━━━━━━━━━━━━━━━━━\u001b[0m\u001b[37m\u001b[0m \u001b[1m0s\u001b[0m 15ms/step - loss: 9865767.0000 - mape: 99.9981 - val_loss: 7578073.5000 - val_mape: 99.9998\n",
      "Epoch 7/10\n",
      "\u001b[1m5/5\u001b[0m \u001b[32m━━━━━━━━━━━━━━━━━━━━\u001b[0m\u001b[37m\u001b[0m \u001b[1m0s\u001b[0m 18ms/step - loss: 9865650.0000 - mape: 99.9976 - val_loss: 7577997.5000 - val_mape: 99.9992\n",
      "Epoch 8/10\n",
      "\u001b[1m5/5\u001b[0m \u001b[32m━━━━━━━━━━━━━━━━━━━━\u001b[0m\u001b[37m\u001b[0m \u001b[1m0s\u001b[0m 20ms/step - loss: 9865536.0000 - mape: 99.9973 - val_loss: 7577903.5000 - val_mape: 99.9986\n",
      "Epoch 9/10\n",
      "\u001b[1m5/5\u001b[0m \u001b[32m━━━━━━━━━━━━━━━━━━━━\u001b[0m\u001b[37m\u001b[0m \u001b[1m0s\u001b[0m 19ms/step - loss: 9865432.0000 - mape: 99.9969 - val_loss: 7577805.5000 - val_mape: 99.9980\n",
      "Epoch 10/10\n",
      "\u001b[1m5/5\u001b[0m \u001b[32m━━━━━━━━━━━━━━━━━━━━\u001b[0m\u001b[37m\u001b[0m \u001b[1m0s\u001b[0m 16ms/step - loss: 9865330.0000 - mape: 99.9966 - val_loss: 7577732.0000 - val_mape: 99.9975\n"
     ]
    }
   ],
   "source": [
    "early_stop = EarlyStopping(monitor='val_loss', patience=20, restore_best_weights=True)\n",
    "history = model.fit(X_train, y_train, epochs=10, batch_size=4,\n",
    "                    validation_data=(X_val, y_val), callbacks=[early_stop], shuffle=True)"
   ]
  },
  {
   "cell_type": "code",
   "execution_count": 15,
   "id": "318e560f-1e6d-4b22-82f1-5d4d250f4829",
   "metadata": {},
   "outputs": [
    {
     "name": "stdout",
     "output_type": "stream",
     "text": [
      "MAPE: 0.9999849759536528\n",
      "R2 : -6.6468045689030815\n",
      "Actual Mn, Actual Mw, Predicted Mn, Predicted Mw:\n",
      "[[ 2.29862000e+03  2.97298000e+03 -4.00982201e-01 -2.01457843e-01]\n",
      " [ 3.76288000e+03  5.75281000e+03 -3.74850452e-01 -1.60087883e-01]\n",
      " [ 1.12719000e+03  1.32165000e+03  4.82534111e-01 -2.12186813e-01]\n",
      " [ 2.95583000e+03  2.96691000e+03 -3.46145153e-01  2.63565555e-02]\n",
      " [ 2.32283000e+03  2.98731000e+03  3.85776758e-01  5.81022322e-01]]\n"
     ]
    }
   ],
   "source": [
    "from sklearn.metrics import mean_squared_error, mean_absolute_percentage_error, r2_score\n",
    "print(\"MAPE:\", mean_absolute_percentage_error(y_test, y_pred))\n",
    "print(\"R2 :\", r2_score(y_test, y_pred))\n",
    "comparison = np.hstack((y_test, y_pred))\n",
    "print(\"Actual Mn, Actual Mw, Predicted Mn, Predicted Mw:\")\n",
    "print(comparison)"
   ]
  },
  {
   "cell_type": "code",
   "execution_count": 15,
   "id": "394721da-173b-47b2-9fa8-7ab6e8018bbd",
   "metadata": {},
   "outputs": [
    {
     "name": "stdout",
     "output_type": "stream",
     "text": [
      "\n",
      "SVM Results (Mn & Mw):\n",
      "MAPE: 0.30478485457008747\n",
      "R² : 0.26304485791909066\n",
      "MAPE (Mw only): 0.33147024671334063\n",
      "Actual Mn, Actual Mw, Predicted Mn, Predicted Mw (SVM):\n",
      "[[2298.62       2972.98       2625.27988953 3215.48294716]\n",
      " [3762.88       5752.81       2624.94168802 3214.09948328]\n",
      " [1127.19       1321.65       2041.90917578 2734.28148522]\n",
      " [2955.83       2966.91       2558.52351422 3135.9898253 ]\n",
      " [2322.83       2987.31       2322.9599938  3013.16575989]]\n"
     ]
    }
   ],
   "source": [
    "from sklearn.svm import SVR\n",
    "from sklearn.multioutput import MultiOutputRegressor\n",
    "from sklearn.metrics import mean_absolute_percentage_error\n",
    "\n",
    "# Create and train SVM model\n",
    "svm_model = MultiOutputRegressor(SVR(kernel='rbf', C=100, gamma='scale', epsilon=0.1))\n",
    "svm_model.fit(X_train, y_train)\n",
    "\n",
    "# Predict using SVM\n",
    "y_pred_svm = svm_model.predict(X_test)\n",
    "\n",
    "# Evaluate SVM\n",
    "mape_svm = mean_absolute_percentage_error(y_test, y_pred_svm)\n",
    "r2_svm = r2_score(y_test, y_pred_svm)\n",
    "\n",
    "print(\"\\nSVM Results (Mn & Mw):\")\n",
    "print(\"MAPE:\", mape_svm)\n",
    "print(\"R² :\", r2_svm)\n",
    "\n",
    "mape_mw = mean_absolute_percentage_error(y_test[:, 1], y_pred_svm[:, 1])\n",
    "print(\"MAPE (Mw only):\", mape_mw)\n",
    "\n",
    "# Compare actual vs predicted\n",
    "comparison_svm = np.hstack((y_test, y_pred_svm))\n",
    "print(\"Actual Mn, Actual Mw, Predicted Mn, Predicted Mw (SVM):\")\n",
    "print(comparison_svm)"
   ]
  },
  {
   "cell_type": "code",
   "execution_count": 16,
   "id": "a354f8d7-66f0-4f91-90ee-60f222330061",
   "metadata": {},
   "outputs": [
    {
     "name": "stdout",
     "output_type": "stream",
     "text": [
      "Requirement already satisfied: matplotlib in c:\\users\\brian\\pycharmprojects\\pythonproject1\\.venv\\lib\\site-packages (3.10.5)\n",
      "Requirement already satisfied: contourpy>=1.0.1 in c:\\users\\brian\\pycharmprojects\\pythonproject1\\.venv\\lib\\site-packages (from matplotlib) (1.3.3)\n",
      "Requirement already satisfied: cycler>=0.10 in c:\\users\\brian\\pycharmprojects\\pythonproject1\\.venv\\lib\\site-packages (from matplotlib) (0.12.1)\n",
      "Requirement already satisfied: fonttools>=4.22.0 in c:\\users\\brian\\pycharmprojects\\pythonproject1\\.venv\\lib\\site-packages (from matplotlib) (4.59.0)\n",
      "Requirement already satisfied: kiwisolver>=1.3.1 in c:\\users\\brian\\pycharmprojects\\pythonproject1\\.venv\\lib\\site-packages (from matplotlib) (1.4.8)\n",
      "Requirement already satisfied: numpy>=1.23 in c:\\users\\brian\\pycharmprojects\\pythonproject1\\.venv\\lib\\site-packages (from matplotlib) (2.3.2)\n",
      "Requirement already satisfied: packaging>=20.0 in c:\\users\\brian\\pycharmprojects\\pythonproject1\\.venv\\lib\\site-packages (from matplotlib) (25.0)\n",
      "Requirement already satisfied: pillow>=8 in c:\\users\\brian\\pycharmprojects\\pythonproject1\\.venv\\lib\\site-packages (from matplotlib) (11.3.0)\n",
      "Requirement already satisfied: pyparsing>=2.3.1 in c:\\users\\brian\\pycharmprojects\\pythonproject1\\.venv\\lib\\site-packages (from matplotlib) (3.2.3)\n",
      "Requirement already satisfied: python-dateutil>=2.7 in c:\\users\\brian\\pycharmprojects\\pythonproject1\\.venv\\lib\\site-packages (from matplotlib) (2.9.0.post0)\n",
      "Requirement already satisfied: six>=1.5 in c:\\users\\brian\\pycharmprojects\\pythonproject1\\.venv\\lib\\site-packages (from python-dateutil>=2.7->matplotlib) (1.17.0)\n"
     ]
    }
   ],
   "source": [
    "!pip install matplotlib"
   ]
  },
  {
   "cell_type": "code",
   "execution_count": 17,
   "id": "beaf87f8-6eb7-4e0f-bb4f-2d50c02c9c93",
   "metadata": {},
   "outputs": [],
   "source": [
    "import matplotlib.pyplot as plt\n",
    "%matplotlib inline"
   ]
  },
  {
   "cell_type": "code",
   "execution_count": 18,
   "id": "1d21b137-c598-4702-ae22-758da481c752",
   "metadata": {},
   "outputs": [],
   "source": [
    "import matplotlib.pyplot as plt\n",
    "from tensorflow.keras.models import Sequential\n",
    "from tensorflow.keras.layers import Dense\n",
    "from tensorflow.keras.optimizers import Adam\n",
    "from tensorflow.keras import Input\n",
    "from sklearn.metrics import mean_squared_error\n"
   ]
  },
  {
   "cell_type": "code",
   "execution_count": 19,
   "id": "1cb226cf-6683-40d8-8a57-58770f8b3930",
   "metadata": {},
   "outputs": [],
   "source": [
    "transfer_functions = {\n",
    "    'tanh': 'Tansig',\n",
    "    'sigmoid': 'Logsig',\n",
    "    'linear': 'Purelin',\n",
    "    'relu': 'Radbas'\n",
    "}"
   ]
  },
  {
   "cell_type": "code",
   "execution_count": 20,
   "id": "31abbe84-0a40-4fad-8615-d1a5627a6931",
   "metadata": {},
   "outputs": [],
   "source": [
    "mape_results = []"
   ]
  },
  {
   "cell_type": "code",
   "execution_count": 22,
   "id": "c4b37192-0d92-4206-b489-06baf34ba772",
   "metadata": {},
   "outputs": [
    {
     "name": "stdout",
     "output_type": "stream",
     "text": [
      "WARNING:tensorflow:6 out of the last 6 calls to <function TensorFlowTrainer.make_predict_function.<locals>.one_step_on_data_distributed at 0x00000143C96E20C0> triggered tf.function retracing. Tracing is expensive and the excessive number of tracings could be due to (1) creating @tf.function repeatedly in a loop, (2) passing tensors with different shapes, (3) passing Python objects instead of tensors. For (1), please define your @tf.function outside of the loop. For (2), @tf.function has reduce_retracing=True option that can avoid unnecessary retracing. For (3), please refer to https://www.tensorflow.org/guide/function#controlling_retracing and https://www.tensorflow.org/api_docs/python/tf/function for  more details.\n",
      "\u001b[1m1/1\u001b[0m \u001b[32m━━━━━━━━━━━━━━━━━━━━\u001b[0m\u001b[37m\u001b[0m \u001b[1m0s\u001b[0m 48ms/step\n",
      "\u001b[1m1/1\u001b[0m \u001b[32m━━━━━━━━━━━━━━━━━━━━\u001b[0m\u001b[37m\u001b[0m \u001b[1m0s\u001b[0m 40ms/step\n",
      "\u001b[1m1/1\u001b[0m \u001b[32m━━━━━━━━━━━━━━━━━━━━\u001b[0m\u001b[37m\u001b[0m \u001b[1m0s\u001b[0m 41ms/step\n",
      "\u001b[1m1/1\u001b[0m \u001b[32m━━━━━━━━━━━━━━━━━━━━\u001b[0m\u001b[37m\u001b[0m \u001b[1m0s\u001b[0m 39ms/step\n",
      "4 8\n"
     ]
    }
   ],
   "source": [
    "# Add this before your loop (since mape_results is already defined)\n",
    "mse_results = []  # or better: mape_mw_results = []\n",
    "\n",
    "# Loop over activation functions\n",
    "from sklearn.metrics import mean_absolute_percentage_error\n",
    "for activation, name in transfer_functions.items():\n",
    "    # Build the model\n",
    "    model = Sequential()\n",
    "    model.add(Input(shape=(X_train.shape[1],)))\n",
    "    model.add(Dense(64, activation=activation))\n",
    "    model.add(Dense(64, activation=activation))\n",
    "    model.add(Dense(2, activation='linear'))  # 2 outputs: Mn & Mw\n",
    "    # Compile the model\n",
    "    model.compile(optimizer=Adam(), loss='mse')\n",
    "    # Train the model\n",
    "    model.fit(X_train, y_train,\n",
    "              batch_size=32,\n",
    "              epochs=25,\n",
    "              validation_data=(X_val, y_val),\n",
    "              verbose=0,\n",
    "              shuffle=True)\n",
    "    # Predict\n",
    "    y_pred = model.predict(X_test)\n",
    "    mape = mean_absolute_percentage_error(y_test, y_pred)\n",
    "    mape_results.append(mape)\n",
    "    \n",
    "    # Move these lines inside the loop\n",
    "    # Calculate MAPE only for Mw (second column)\n",
    "    mape_mw = mean_absolute_percentage_error(y_test[:, 1], y_pred[:, 1])\n",
    "    mse_results.append(mape_mw)\n",
    "\n",
    "print(len(list(transfer_functions.values())), len(mape_results))"
   ]
  },
  {
   "cell_type": "code",
   "execution_count": 23,
   "id": "fd3df24b-1c18-4198-969c-cc47600c442b",
   "metadata": {},
   "outputs": [
    {
     "data": {
      "image/png": "[encoded data removed]",
      "text/plain": [
       "<Figure size 800x500 with 1 Axes>"
      ]
     },
     "metadata": {},
     "output_type": "display_data"
    }
   ],
   "source": [
    "plt.figure(figsize=(8, 5))\n",
    "plt.plot(list(transfer_functions.values()), mse_results, marker='o', linestyle='-', color='blue')\n",
    "plt.title('Mean MAPE of Mw vs Transfer Function (Keras ANN)')\n",
    "plt.xlabel('Transfer Function')\n",
    "plt.ylabel('Mean MAPE of Mw')\n",
    "plt.grid(True)\n",
    "plt.tight_layout()\n",
    "plt.show()"
   ]
  },
  {
   "cell_type": "code",
   "execution_count": 24,
   "id": "c10de49e-1840-4aea-b9b0-7987fbad9186",
   "metadata": {},
   "outputs": [
    {
     "name": "stdout",
     "output_type": "stream",
     "text": [
      "SVM Results:\n",
      "Explained Variance: 0.003062\n",
      "Max Error: 2763.638041\n",
      "MAPE: 0.341627\n",
      "MSE: 1429038.677333\n",
      "MSLE: 0.190070\n",
      "Median AE: 326.085115\n",
      "R²: -0.027201\n"
     ]
    }
   ],
   "source": [
    "# Step 16: Import additional libraries and implement SVM comparison  \n",
    "import numpy as np\n",
    "import matplotlib.pyplot as plt\n",
    "from sklearn.svm import SVR\n",
    "from sklearn.multioutput import MultiOutputRegressor\n",
    "from sklearn.metrics import (mean_squared_error, r2_score, mean_absolute_error, \n",
    "                           explained_variance_score, mean_squared_log_error, \n",
    "                           median_absolute_error)\n",
    "\n",
    "\n",
    "# SVM Implementation\n",
    "svm_model = MultiOutputRegressor(SVR(kernel='rbf', C=1.0, gamma='scale'))\n",
    "svm_model.fit(X_train, y_train)\n",
    "y_pred_svm = svm_model.predict(X_test)\n",
    "\n",
    "# Calculate max error manually for multi-output\n",
    "def multi_output_max_error(y_true, y_pred):\n",
    "    return np.max(np.abs(y_true - y_pred))\n",
    "\n",
    "# SVM Results in your requested format (fixed for multi-output)\n",
    "svm_results = {\n",
    "    \"Explained Variance\": explained_variance_score(y_test, y_pred_svm),\n",
    "    \"Max Error\": multi_output_max_error(y_test, y_pred_svm),\n",
    "   \"MAPE\": mean_absolute_percentage_error(y_test, y_pred_svm),\n",
    "\"MSE\" : mean_squared_error(y_test, y_pred_svm),\n",
    "    \"MSLE\": mean_squared_log_error(y_test, y_pred_svm),\n",
    "    \"Median AE\": median_absolute_error(y_test, y_pred_svm),\n",
    "    \"R²\": r2_score(y_test, y_pred_svm)\n",
    "}\n",
    "\n",
    "print(\"SVM Results:\")\n",
    "for metric, value in svm_results.items():\n",
    "    print(f\"{metric}: {value:.6f}\")"
   ]
  },
  {
   "cell_type": "code",
   "execution_count": 25,
   "id": "356d91cc-dc40-406e-9fc2-92062019ddca",
   "metadata": {},
   "outputs": [
    {
     "name": "stdout",
     "output_type": "stream",
     "text": [
      "Training set: 17 samples\n",
      "Validation set: 3 samples\n",
      "Test set: 5 samples\n",
      "Total: 25 samples\n",
      "\n",
      "Test predictions shape: (5, 2)\n",
      "Actual vs Predicted Comparison:\n",
      "   Actual_Mn  Actual_Mw  Predicted_Mn  Predicted_Mw\n",
      "0    2298.62    2972.98   2325.482342   2989.203673\n",
      "1    3762.88    5752.81   2325.492985   2989.171959\n",
      "2    1127.19    1321.65   2319.746374   2984.434526\n",
      "3    2955.83    2966.91   2324.852084   2988.102314\n",
      "4    2322.83    2987.31   2322.860000   2987.280000\n"
     ]
    }
   ],
   "source": [
    "# Show how many samples in each set\n",
    "print(f\"Training set: {X_train.shape[0]} samples\")\n",
    "print(f\"Validation set: {X_val.shape[0]} samples\") \n",
    "print(f\"Test set: {X_test.shape[0]} samples\")\n",
    "print(f\"Total: {X_train.shape[0] + X_val.shape[0] + X_test.shape[0]} samples\")\n",
    "\n",
    "# Predictions for all sets\n",
    "print(f\"\\nTest predictions shape: {y_pred_svm.shape}\")\n",
    "# Show actual vs predicted comparison\n",
    "comparison = pd.DataFrame({\n",
    "    'Actual_Mn': y_test[:, 0],\n",
    "    'Actual_Mw': y_test[:, 1], \n",
    "    'Predicted_Mn': y_pred_svm[:, 0],\n",
    "    'Predicted_Mw': y_pred_svm[:, 1]\n",
    "})\n",
    "print(\"Actual vs Predicted Comparison:\")\n",
    "print(comparison)"
   ]
  },
  {
   "cell_type": "code",
   "execution_count": 26,
   "id": "1f745cf3-af99-4a45-adf5-7851952716a8",
   "metadata": {},
   "outputs": [
    {
     "name": "stdout",
     "output_type": "stream",
     "text": [
      "5-FOLD CROSS VALIDATION RESULTS\n",
      "Cross Validation Results (5 folds):\n",
      "R² Mean: -0.1214 (±0.1389)\n",
      "MSE Mean: 1325148.6408 (±490920.1287)\n",
      "MAPE Mean: 0.3066 (±0.0975)\n",
      "\n",
      "Individual R² scores: [-0.1186 -0.0266 -0.0532 -0.3902 -0.0185]\n",
      "Individual MSE scores: [ 548715.9661 1887880.9202 1410999.389  1021681.0106 1756465.9179]\n",
      "Individual MAPE scores: [0.3474 0.3935 0.3437 0.1161 0.3324]\n"
     ]
    }
   ],
   "source": [
    "#cross validation\n",
    "# Import required libraries for cross validation\n",
    "import numpy as np\n",
    "from sklearn.model_selection import KFold, cross_val_score\n",
    "from sklearn.metrics import make_scorer\n",
    "\n",
    "print(\"5-FOLD CROSS VALIDATION RESULTS\")\n",
    "\n",
    "# Create 5-fold cross validator\n",
    "kf = KFold(n_splits=5, shuffle=True, random_state=42)\n",
    "\n",
    "# Use all data (combine train, val, test for proper CV)\n",
    "X_all = np.vstack([X_train, X_val, X_test])\n",
    "y_all = np.vstack([y_train, y_val, y_test])\n",
    "\n",
    "# Create new SVM model for CV\n",
    "svm_cv_model = MultiOutputRegressor(SVR(kernel='rbf', C=1.0, gamma='scale'))\n",
    "\n",
    "# Perform cross validation\n",
    "cv_r2 = cross_val_score(svm_cv_model, X_all, y_all, cv=kf, scoring='r2')\n",
    "cv_neg_mse = cross_val_score(svm_cv_model, X_all, y_all, cv=kf, scoring='neg_mean_squared_error')\n",
    "cv_neg_mape = cross_val_score(svm_cv_model, X_all, y_all, cv=kf, scoring='neg_mean_absolute_percentage_error')\n",
    "\n",
    "# Convert negative scores to positive\n",
    "cv_mse = -cv_neg_mse\n",
    "cv_mape = -cv_neg_mape\n",
    "\n",
    "print(\"Cross Validation Results (5 folds):\")\n",
    "print(f\"R² Mean: {cv_r2.mean():.4f} (±{cv_r2.std():.4f})\")\n",
    "print(f\"MSE Mean: {cv_mse.mean():.4f} (±{cv_mse.std():.4f})\")\n",
    "print(f\"MAPE Mean: {cv_mape.mean():.4f} (±{cv_mape.std():.4f})\")\n",
    "print()\n",
    "print(f\"Individual R² scores: {cv_r2.round(4)}\")\n",
    "print(f\"Individual MSE scores: {cv_mse.round(4)}\")\n",
    "print(f\"Individual MAPE scores: {cv_mape.round(4)}\")\n"
   ]
  },
  {
   "cell_type": "code",
   "execution_count": 27,
   "id": "d4ecc864-5271-4986-9929-a26e1589fd02",
   "metadata": {},
   "outputs": [
    {
     "name": "stdout",
     "output_type": "stream",
     "text": [
      "Actual vs Predicted Comparison (All 25 samples):\n",
      "Sample  1: Actual=[ 2752.84,  3129.57] | Predicted=[ 2323.93,  2977.46]\n",
      "Sample  2: Actual=[ 2223.17,  2989.00] | Predicted=[ 2320.39,  2974.99]\n",
      "Sample  3: Actual=[ 1950.00,  2878.90] | Predicted=[ 2320.39,  2974.99]\n",
      "Sample  4: Actual=[ 3764.53,  5752.15] | Predicted=[ 2324.86,  2975.81]\n",
      "Sample  5: Actual=[ 2951.90,  2965.54] | Predicted=[ 2324.50,  2974.80]\n",
      "Sample  6: Actual=[ 4663.77,  5921.61] | Predicted=[ 2324.55,  2976.69]\n",
      "Sample  7: Actual=[ 2322.86,  2987.28] | Predicted=[ 2322.75,  2976.80]\n",
      "Sample  8: Actual=[ 4663.04,  5921.49] | Predicted=[ 2324.55,  2976.69]\n",
      "Sample  9: Actual=[ 1024.97,  1339.35] | Predicted=[ 2318.64,  2972.14]\n",
      "Sample 10: Actual=[ 1845.60,  2690.50] | Predicted=[ 2319.81,  2973.09]\n",
      "Sample 11: Actual=[ 2073.90,  2974.51] | Predicted=[ 2321.19,  2974.51]\n",
      "Sample 12: Actual=[ 1846.18,  2689.91] | Predicted=[ 2319.81,  2973.09]\n",
      "Sample 13: Actual=[ 1265.88,  1458.13] | Predicted=[ 2318.61,  2971.96]\n",
      "Sample 14: Actual=[ 2525.91,  3440.43] | Predicted=[ 2320.89,  2973.90]\n",
      "Sample 15: Actual=[ 1264.44,  1456.22] | Predicted=[ 2318.61,  2971.96]\n",
      "Sample 16: Actual=[ 2590.79,  3517.86] | Predicted=[ 2324.10,  2974.77]\n",
      "Sample 17: Actual=[ 2752.80,  3129.61] | Predicted=[ 2323.93,  2977.46]\n",
      "Sample 18: Actual=[ 2298.65,  2972.94] | Predicted=[ 2324.86,  2975.82]\n",
      "Sample 19: Actual=[ 2525.27,  3441.19] | Predicted=[ 2320.89,  2973.90]\n",
      "Sample 20: Actual=[ 2074.52,  2970.82] | Predicted=[ 2321.19,  2974.51]\n",
      "Sample 21: Actual=[ 2298.62,  2972.98] | Predicted=[ 2324.86,  2975.82]\n",
      "Sample 22: Actual=[ 3762.88,  5752.81] | Predicted=[ 2324.86,  2975.81]\n",
      "Sample 23: Actual=[ 1127.19,  1321.65] | Predicted=[ 2318.44,  2971.78]\n",
      "Sample 24: Actual=[ 2955.83,  2966.91] | Predicted=[ 2324.50,  2974.80]\n",
      "Sample 25: Actual=[ 2322.83,  2987.31] | Predicted=[ 2322.75,  2976.80]\n",
      "\n",
      "Detailed Comparison Table:\n",
      "    Sample  Actual_Mn  Actual_Mw  Predicted_Mn  Predicted_Mw  Error_Mn  \\\n",
      "0        1    2752.84    3129.57       2323.93       2977.46    428.91   \n",
      "1        2    2223.17    2989.00       2320.39       2974.99     97.22   \n",
      "2        3    1950.00    2878.90       2320.39       2974.99    370.39   \n",
      "3        4    3764.53    5752.15       2324.86       2975.81   1439.67   \n",
      "4        5    2951.90    2965.54       2324.50       2974.80    627.40   \n",
      "5        6    4663.77    5921.61       2324.55       2976.69   2339.22   \n",
      "6        7    2322.86    2987.28       2322.75       2976.80      0.11   \n",
      "7        8    4663.04    5921.49       2324.55       2976.69   2338.49   \n",
      "8        9    1024.97    1339.35       2318.64       2972.14   1293.67   \n",
      "9       10    1845.60    2690.50       2319.81       2973.09    474.21   \n",
      "10      11    2073.90    2974.51       2321.19       2974.51    247.29   \n",
      "11      12    1846.18    2689.91       2319.81       2973.09    473.63   \n",
      "12      13    1265.88    1458.13       2318.61       2971.96   1052.73   \n",
      "13      14    2525.91    3440.43       2320.89       2973.90    205.02   \n",
      "14      15    1264.44    1456.22       2318.61       2971.96   1054.17   \n",
      "15      16    2590.79    3517.86       2324.10       2974.77    266.69   \n",
      "16      17    2752.80    3129.61       2323.93       2977.46    428.87   \n",
      "17      18    2298.65    2972.94       2324.86       2975.82     26.21   \n",
      "18      19    2525.27    3441.19       2320.89       2973.90    204.38   \n",
      "19      20    2074.52    2970.82       2321.19       2974.51    246.67   \n",
      "20      21    2298.62    2972.98       2324.86       2975.82     26.24   \n",
      "21      22    3762.88    5752.81       2324.86       2975.81   1438.02   \n",
      "22      23    1127.19    1321.65       2318.44       2971.78   1191.25   \n",
      "23      24    2955.83    2966.91       2324.50       2974.80    631.33   \n",
      "24      25    2322.83    2987.31       2322.75       2976.80      0.08   \n",
      "\n",
      "    Error_Mw  \n",
      "0     152.11  \n",
      "1      14.01  \n",
      "2      96.09  \n",
      "3    2776.34  \n",
      "4       9.26  \n",
      "5    2944.92  \n",
      "6      10.48  \n",
      "7    2944.80  \n",
      "8    1632.79  \n",
      "9     282.59  \n",
      "10      0.00  \n",
      "11    283.18  \n",
      "12   1513.83  \n",
      "13    466.53  \n",
      "14   1515.74  \n",
      "15    543.09  \n",
      "16    152.15  \n",
      "17      2.88  \n",
      "18    467.29  \n",
      "19      3.69  \n",
      "20      2.84  \n",
      "21   2777.00  \n",
      "22   1650.13  \n",
      "23      7.89  \n",
      "24     10.51  \n"
     ]
    }
   ],
   "source": [
    "# Train final SVM model on all data for comparison\n",
    "svm_final = MultiOutputRegressor(SVR(kernel='rbf', C=1.0, gamma='scale'))\n",
    "svm_final.fit(X_all, y_all)\n",
    "\n",
    "# Get predictions for all data\n",
    "y_pred_all = svm_final.predict(X_all)\n",
    "\n",
    "# Simple comparison\n",
    "print(\"Actual vs Predicted Comparison (All 25 samples):\")\n",
    "\n",
    "for i in range(len(y_all)):\n",
    "    print(f\"Sample {i+1:2d}: Actual=[{y_all[i,0]:8.2f}, {y_all[i,1]:8.2f}] | Predicted=[{y_pred_all[i,0]:8.2f}, {y_pred_all[i,1]:8.2f}]\")\n",
    "\n",
    "# Or as DataFrame for better visualization\n",
    "import pandas as pd\n",
    "comparison_df = pd.DataFrame({\n",
    "    'Sample': range(1, len(y_all)+1),\n",
    "    'Actual_Mn': y_all[:, 0],\n",
    "    'Actual_Mw': y_all[:, 1],\n",
    "    'Predicted_Mn': y_pred_all[:, 0],\n",
    "    'Predicted_Mw': y_pred_all[:, 1],\n",
    "    'Error_Mn': abs(y_all[:, 0] - y_pred_all[:, 0]),\n",
    "    'Error_Mw': abs(y_all[:, 1] - y_pred_all[:, 1])\n",
    "})\n",
    "\n",
    "print(\"\\nDetailed Comparison Table:\")\n",
    "print(comparison_df.round(2))"
   ]
  },
  {
   "cell_type": "code",
   "execution_count": null,
   "id": "4d8e4456-b5b6-49de-bad1-240b2036d5d9",
   "metadata": {},
   "outputs": [],
   "source": []
  },
  {
   "cell_type": "code",
   "execution_count": null,
   "id": "0ae70506-85ce-4d97-9ab6-37dc57958c22",
   "metadata": {},
   "outputs": [],
   "source": []
  },
  {
   "cell_type": "code",
   "execution_count": null,
   "id": "e874fc75-f286-4750-9c13-a72fff36bc9b",
   "metadata": {},
   "outputs": [],
   "source": []
  }
 ],
 "metadata": {
  "kernelspec": {
   "display_name": "Python 3 (ipykernel)",
   "language": "python",
   "name": "python3"
  },
  "language_info": {
   "codemirror_mode": {
    "name": "ipython",
    "version": 3
   },
   "file_extension": ".py",
   "mimetype": "text/x-python",
   "name": "python",
   "nbconvert_exporter": "python",
   "pygments_lexer": "ipython3",
   "version": "3.13.5"
  }
 },
 "nbformat": 4,
 "nbformat_minor": 5
}
