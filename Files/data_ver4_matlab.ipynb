{
 "cells": [
  {
   "cell_type": "code",
   "execution_count": 2,
   "id": "406ab404-cbb2-4497-b158-bca086a8b6e0",
   "metadata": {},
   "outputs": [],
   "source": [
    "#Dataset characteristics:\n",
    "#4 input factors (A, B, C, D)\n",
    "#2 output responses (Mn, Mw)\n",
    "#25 data points\n",
    "#Experimental design data\n",
    "\n",
    "#Recommended MATLAB algorithms:\n",
    "\n",
    "#fitlm() - Linear regression (good baseline)\n",
    "#fitrnet() - Neural network regression (matches your current approach)\n",
    "#fitrsvm() - Support Vector Machine regression\n",
    "#fitrtree() or TreeBagger() - Tree-based methods\n",
    "#mvregress() - Multivariate regression (for multiple outputs)"
   ]
  },
  {
   "cell_type": "code",
   "execution_count": null,
   "id": "555d732c-c0d5-42b0-bd8c-fa7aab73a1fc",
   "metadata": {},
   "outputs": [],
   "source": []
  }
 ],
 "metadata": {
  "kernelspec": {
   "display_name": "Python 3 (ipykernel)",
   "language": "python",
   "name": "python3"
  },
  "language_info": {
   "codemirror_mode": {
    "name": "ipython",
    "version": 3
   },
   "file_extension": ".py",
   "mimetype": "text/x-python",
   "name": "python",
   "nbconvert_exporter": "python",
   "pygments_lexer": "ipython3",
   "version": "3.13.5"
  }
 },
 "nbformat": 4,
 "nbformat_minor": 5
}
