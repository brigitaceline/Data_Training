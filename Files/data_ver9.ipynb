{
 "cells": [
  {
   "cell_type": "code",
   "execution_count": 1,
   "id": "initial_id",
   "metadata": {},
   "outputs": [
    {
     "name": "stdout",
     "output_type": "stream",
     "text": [
      "Requirement already satisfied: numpy in c:\\users\\brian\\pycharmprojects\\pythonproject1\\.venv\\lib\\site-packages (2.3.2)\n",
      "Requirement already satisfied: pandas in c:\\users\\brian\\pycharmprojects\\pythonproject1\\.venv\\lib\\site-packages (2.3.1)\n",
      "Requirement already satisfied: tensorflow in c:\\users\\brian\\pycharmprojects\\pythonproject1\\.venv\\lib\\site-packages (2.20.0rc0)\n",
      "Requirement already satisfied: scikit-learn in c:\\users\\brian\\pycharmprojects\\pythonproject1\\.venv\\lib\\site-packages (1.7.1)\n",
      "Requirement already satisfied: matplotlib in c:\\users\\brian\\pycharmprojects\\pythonproject1\\.venv\\lib\\site-packages (3.10.5)\n",
      "Requirement already satisfied: python-dateutil>=2.8.2 in c:\\users\\brian\\pycharmprojects\\pythonproject1\\.venv\\lib\\site-packages (from pandas) (2.9.0.post0)\n",
      "Requirement already satisfied: pytz>=2020.1 in c:\\users\\brian\\pycharmprojects\\pythonproject1\\.venv\\lib\\site-packages (from pandas) (2025.2)\n",
      "Requirement already satisfied: tzdata>=2022.7 in c:\\users\\brian\\pycharmprojects\\pythonproject1\\.venv\\lib\\site-packages (from pandas) (2025.2)\n",
      "Requirement already satisfied: absl-py>=1.0.0 in c:\\users\\brian\\pycharmprojects\\pythonproject1\\.venv\\lib\\site-packages (from tensorflow) (2.3.1)\n",
      "Requirement already satisfied: astunparse>=1.6.0 in c:\\users\\brian\\pycharmprojects\\pythonproject1\\.venv\\lib\\site-packages (from tensorflow) (1.6.3)\n",
      "Requirement already satisfied: flatbuffers>=24.3.25 in c:\\users\\brian\\pycharmprojects\\pythonproject1\\.venv\\lib\\site-packages (from tensorflow) (25.2.10)\n",
      "Requirement already satisfied: gast!=0.5.0,!=0.5.1,!=0.5.2,>=0.2.1 in c:\\users\\brian\\pycharmprojects\\pythonproject1\\.venv\\lib\\site-packages (from tensorflow) (0.6.0)\n",
      "Requirement already satisfied: google_pasta>=0.1.1 in c:\\users\\brian\\pycharmprojects\\pythonproject1\\.venv\\lib\\site-packages (from tensorflow) (0.2.0)\n",
      "Requirement already satisfied: libclang>=13.0.0 in c:\\users\\brian\\pycharmprojects\\pythonproject1\\.venv\\lib\\site-packages (from tensorflow) (18.1.1)\n",
      "Requirement already satisfied: opt_einsum>=2.3.2 in c:\\users\\brian\\pycharmprojects\\pythonproject1\\.venv\\lib\\site-packages (from tensorflow) (3.4.0)\n",
      "Requirement already satisfied: packaging in c:\\users\\brian\\pycharmprojects\\pythonproject1\\.venv\\lib\\site-packages (from tensorflow) (25.0)\n",
      "Requirement already satisfied: protobuf>=5.28.0 in c:\\users\\brian\\pycharmprojects\\pythonproject1\\.venv\\lib\\site-packages (from tensorflow) (6.31.1)\n",
      "Requirement already satisfied: requests<3,>=2.21.0 in c:\\users\\brian\\pycharmprojects\\pythonproject1\\.venv\\lib\\site-packages (from tensorflow) (2.32.4)\n",
      "Requirement already satisfied: setuptools in c:\\users\\brian\\pycharmprojects\\pythonproject1\\.venv\\lib\\site-packages (from tensorflow) (80.9.0)\n",
      "Requirement already satisfied: six>=1.12.0 in c:\\users\\brian\\pycharmprojects\\pythonproject1\\.venv\\lib\\site-packages (from tensorflow) (1.17.0)\n",
      "Requirement already satisfied: termcolor>=1.1.0 in c:\\users\\brian\\pycharmprojects\\pythonproject1\\.venv\\lib\\site-packages (from tensorflow) (3.1.0)\n",
      "Requirement already satisfied: typing_extensions>=3.6.6 in c:\\users\\brian\\pycharmprojects\\pythonproject1\\.venv\\lib\\site-packages (from tensorflow) (4.14.1)\n",
      "Requirement already satisfied: wrapt>=1.11.0 in c:\\users\\brian\\pycharmprojects\\pythonproject1\\.venv\\lib\\site-packages (from tensorflow) (1.17.2)\n",
      "Requirement already satisfied: grpcio<2.0,>=1.24.3 in c:\\users\\brian\\pycharmprojects\\pythonproject1\\.venv\\lib\\site-packages (from tensorflow) (1.74.0)\n",
      "Requirement already satisfied: tensorboard~=2.20.0 in c:\\users\\brian\\pycharmprojects\\pythonproject1\\.venv\\lib\\site-packages (from tensorflow) (2.20.0)\n",
      "Requirement already satisfied: keras>=3.10.0 in c:\\users\\brian\\pycharmprojects\\pythonproject1\\.venv\\lib\\site-packages (from tensorflow) (3.11.1)\n",
      "Requirement already satisfied: h5py>=3.11.0 in c:\\users\\brian\\pycharmprojects\\pythonproject1\\.venv\\lib\\site-packages (from tensorflow) (3.14.0)\n",
      "Requirement already satisfied: ml_dtypes<1.0.0,>=0.5.1 in c:\\users\\brian\\pycharmprojects\\pythonproject1\\.venv\\lib\\site-packages (from tensorflow) (0.5.3)\n",
      "Requirement already satisfied: charset_normalizer<4,>=2 in c:\\users\\brian\\pycharmprojects\\pythonproject1\\.venv\\lib\\site-packages (from requests<3,>=2.21.0->tensorflow) (3.4.2)\n",
      "Requirement already satisfied: idna<4,>=2.5 in c:\\users\\brian\\pycharmprojects\\pythonproject1\\.venv\\lib\\site-packages (from requests<3,>=2.21.0->tensorflow) (3.10)\n",
      "Requirement already satisfied: urllib3<3,>=1.21.1 in c:\\users\\brian\\pycharmprojects\\pythonproject1\\.venv\\lib\\site-packages (from requests<3,>=2.21.0->tensorflow) (2.5.0)\n",
      "Requirement already satisfied: certifi>=2017.4.17 in c:\\users\\brian\\pycharmprojects\\pythonproject1\\.venv\\lib\\site-packages (from requests<3,>=2.21.0->tensorflow) (2025.8.3)\n",
      "Requirement already satisfied: markdown>=2.6.8 in c:\\users\\brian\\pycharmprojects\\pythonproject1\\.venv\\lib\\site-packages (from tensorboard~=2.20.0->tensorflow) (3.8.2)\n",
      "Requirement already satisfied: pillow in c:\\users\\brian\\pycharmprojects\\pythonproject1\\.venv\\lib\\site-packages (from tensorboard~=2.20.0->tensorflow) (11.3.0)\n",
      "Requirement already satisfied: tensorboard-data-server<0.8.0,>=0.7.0 in c:\\users\\brian\\pycharmprojects\\pythonproject1\\.venv\\lib\\site-packages (from tensorboard~=2.20.0->tensorflow) (0.7.2)\n",
      "Requirement already satisfied: werkzeug>=1.0.1 in c:\\users\\brian\\pycharmprojects\\pythonproject1\\.venv\\lib\\site-packages (from tensorboard~=2.20.0->tensorflow) (3.1.3)\n",
      "Requirement already satisfied: scipy>=1.8.0 in c:\\users\\brian\\pycharmprojects\\pythonproject1\\.venv\\lib\\site-packages (from scikit-learn) (1.16.1)\n",
      "Requirement already satisfied: joblib>=1.2.0 in c:\\users\\brian\\pycharmprojects\\pythonproject1\\.venv\\lib\\site-packages (from scikit-learn) (1.5.1)\n",
      "Requirement already satisfied: threadpoolctl>=3.1.0 in c:\\users\\brian\\pycharmprojects\\pythonproject1\\.venv\\lib\\site-packages (from scikit-learn) (3.6.0)\n",
      "Requirement already satisfied: contourpy>=1.0.1 in c:\\users\\brian\\pycharmprojects\\pythonproject1\\.venv\\lib\\site-packages (from matplotlib) (1.3.3)\n",
      "Requirement already satisfied: cycler>=0.10 in c:\\users\\brian\\pycharmprojects\\pythonproject1\\.venv\\lib\\site-packages (from matplotlib) (0.12.1)\n",
      "Requirement already satisfied: fonttools>=4.22.0 in c:\\users\\brian\\pycharmprojects\\pythonproject1\\.venv\\lib\\site-packages (from matplotlib) (4.59.0)\n",
      "Requirement already satisfied: kiwisolver>=1.3.1 in c:\\users\\brian\\pycharmprojects\\pythonproject1\\.venv\\lib\\site-packages (from matplotlib) (1.4.8)\n",
      "Requirement already satisfied: pyparsing>=2.3.1 in c:\\users\\brian\\pycharmprojects\\pythonproject1\\.venv\\lib\\site-packages (from matplotlib) (3.2.3)\n",
      "Requirement already satisfied: wheel<1.0,>=0.23.0 in c:\\users\\brian\\pycharmprojects\\pythonproject1\\.venv\\lib\\site-packages (from astunparse>=1.6.0->tensorflow) (0.45.1)\n",
      "Requirement already satisfied: rich in c:\\users\\brian\\pycharmprojects\\pythonproject1\\.venv\\lib\\site-packages (from keras>=3.10.0->tensorflow) (14.1.0)\n",
      "Requirement already satisfied: namex in c:\\users\\brian\\pycharmprojects\\pythonproject1\\.venv\\lib\\site-packages (from keras>=3.10.0->tensorflow) (0.1.0)\n",
      "Requirement already satisfied: optree in c:\\users\\brian\\pycharmprojects\\pythonproject1\\.venv\\lib\\site-packages (from keras>=3.10.0->tensorflow) (0.17.0)\n",
      "Requirement already satisfied: MarkupSafe>=2.1.1 in c:\\users\\brian\\pycharmprojects\\pythonproject1\\.venv\\lib\\site-packages (from werkzeug>=1.0.1->tensorboard~=2.20.0->tensorflow) (3.0.2)\n",
      "Requirement already satisfied: markdown-it-py>=2.2.0 in c:\\users\\brian\\pycharmprojects\\pythonproject1\\.venv\\lib\\site-packages (from rich->keras>=3.10.0->tensorflow) (3.0.0)\n",
      "Requirement already satisfied: pygments<3.0.0,>=2.13.0 in c:\\users\\brian\\pycharmprojects\\pythonproject1\\.venv\\lib\\site-packages (from rich->keras>=3.10.0->tensorflow) (2.19.2)\n",
      "Requirement already satisfied: mdurl~=0.1 in c:\\users\\brian\\pycharmprojects\\pythonproject1\\.venv\\lib\\site-packages (from markdown-it-py>=2.2.0->rich->keras>=3.10.0->tensorflow) (0.1.2)\n"
     ]
    }
   ],
   "source": [
    "!pip install numpy pandas tensorflow scikit-learn matplotlib"
   ]
  },
  {
   "cell_type": "code",
   "execution_count": 3,
   "id": "55b0d36e-a3d5-45f8-9ed6-db06a37eb828",
   "metadata": {},
   "outputs": [],
   "source": [
    "import numpy as np\n",
    "import pandas as pd\n",
    "import matplotlib.pyplot as plt\n",
    "from sklearn.model_selection import train_test_split, cross_val_score, KFold\n",
    "from sklearn.preprocessing import StandardScaler\n",
    "from sklearn.metrics import mean_squared_error, r2_score\n",
    "from sklearn.svm import SVR\n",
    "from sklearn.multioutput import MultiOutputRegressor\n",
    "import tensorflow as tf\n",
    "from tensorflow.keras.models import Sequential\n",
    "from tensorflow.keras.layers import Dense\n",
    "from tensorflow.keras.callbacks import EarlyStopping"
   ]
  },
  {
   "cell_type": "code",
   "execution_count": 4,
   "id": "2c03f7a8-e301-469c-8844-c20a42a55537",
   "metadata": {},
   "outputs": [
    {
     "data": {
      "text/html": [
       "<div>\n",
       "<style scoped>\n",
       "    .dataframe tbody tr th:only-of-type {\n",
       "        vertical-align: middle;\n",
       "    }\n",
       "\n",
       "    .dataframe tbody tr th {\n",
       "        vertical-align: top;\n",
       "    }\n",
       "\n",
       "    .dataframe thead th {\n",
       "        text-align: right;\n",
       "    }\n",
       "</style>\n",
       "<table border=\"1\" class=\"dataframe\">\n",
       "  <thead>\n",
       "    <tr style=\"text-align: right;\">\n",
       "      <th></th>\n",
       "      <th>Run</th>\n",
       "      <th>Factor A</th>\n",
       "      <th>Factor B</th>\n",
       "      <th>Factor C</th>\n",
       "      <th>Factor D</th>\n",
       "      <th>Response 1 (Experimental)</th>\n",
       "      <th>Response 2 (Experimental)</th>\n",
       "    </tr>\n",
       "  </thead>\n",
       "  <tbody>\n",
       "    <tr>\n",
       "      <th>0</th>\n",
       "      <td>1</td>\n",
       "      <td>110</td>\n",
       "      <td>7</td>\n",
       "      <td>50</td>\n",
       "      <td>10</td>\n",
       "      <td>1127.19</td>\n",
       "      <td>1321.65</td>\n",
       "    </tr>\n",
       "    <tr>\n",
       "      <th>1</th>\n",
       "      <td>2</td>\n",
       "      <td>85</td>\n",
       "      <td>13</td>\n",
       "      <td>50</td>\n",
       "      <td>10</td>\n",
       "      <td>1024.97</td>\n",
       "      <td>1339.35</td>\n",
       "    </tr>\n",
       "    <tr>\n",
       "      <th>2</th>\n",
       "      <td>3</td>\n",
       "      <td>101</td>\n",
       "      <td>1</td>\n",
       "      <td>500</td>\n",
       "      <td>60</td>\n",
       "      <td>1950.00</td>\n",
       "      <td>2878.90</td>\n",
       "    </tr>\n",
       "    <tr>\n",
       "      <th>3</th>\n",
       "      <td>4</td>\n",
       "      <td>101</td>\n",
       "      <td>1</td>\n",
       "      <td>500</td>\n",
       "      <td>60</td>\n",
       "      <td>2223.17</td>\n",
       "      <td>2989.00</td>\n",
       "    </tr>\n",
       "    <tr>\n",
       "      <th>4</th>\n",
       "      <td>5</td>\n",
       "      <td>50</td>\n",
       "      <td>10</td>\n",
       "      <td>50</td>\n",
       "      <td>10</td>\n",
       "      <td>1845.60</td>\n",
       "      <td>2690.50</td>\n",
       "    </tr>\n",
       "  </tbody>\n",
       "</table>\n",
       "</div>"
      ],
      "text/plain": [
       "   Run  Factor A  Factor B  Factor C  Factor D  Response 1 (Experimental)  \\\n",
       "0    1       110         7        50        10                    1127.19   \n",
       "1    2        85        13        50        10                    1024.97   \n",
       "2    3       101         1       500        60                    1950.00   \n",
       "3    4       101         1       500        60                    2223.17   \n",
       "4    5        50        10        50        10                    1845.60   \n",
       "\n",
       "   Response 2 (Experimental)  \n",
       "0                    1321.65  \n",
       "1                    1339.35  \n",
       "2                    2878.90  \n",
       "3                    2989.00  \n",
       "4                    2690.50  "
      ]
     },
     "execution_count": 4,
     "metadata": {},
     "output_type": "execute_result"
    }
   ],
   "source": [
    "dataset = pd.read_csv('Exp_Mn_Mw_Value.txt', sep='\\t')\n",
    "X = dataset.iloc[:, 1:5].values   # columns 1–4: Factor A–D\n",
    "y = dataset.iloc[:, 5:7].values   # columns 5–6: Responses Mn, Mw\n",
    "dataset.head()"
   ]
  },
  {
   "cell_type": "code",
   "execution_count": 5,
   "id": "1b78c523-9cf3-4e50-bd3e-9b3c4b3f17bc",
   "metadata": {},
   "outputs": [],
   "source": [
    "#normalize the data\n",
    "scaler_X = StandardScaler()\n",
    "scaler_y = StandardScaler()\n",
    "X_normalized = scaler_X.fit_transform(X)\n",
    "y_normalized = scaler_y.fit_transform(y)"
   ]
  },
  {
   "cell_type": "code",
   "execution_count": 6,
   "id": "bdc9f236-10fb-48b7-9134-a71cac606209",
   "metadata": {},
   "outputs": [
    {
     "name": "stdout",
     "output_type": "stream",
     "text": [
      "\n",
      "Dataset split:\n",
      "Total samples: 25\n",
      "Training set: 15 samples (60.0%)\n",
      "Validation set: 5 samples (20.0%)\n",
      "Test set: 5 samples (20.0%)\n",
      "\n",
      "Feature shapes:\n",
      "X_train: (15, 4)\n",
      "X_val: (5, 4)\n",
      "X_test: (5, 4)\n",
      "\n",
      "Target shapes:\n",
      "y_train: (15, 2)\n",
      "y_val: (5, 2)\n",
      "y_test: (5, 2)\n"
     ]
    }
   ],
   "source": [
    "# Split data into 60% train, 20% validation, 20% test\n",
    "# First split: 60% train, 40% temp (which will become 20% val + 20% test)\n",
    "X_train, X_temp, y_train, y_temp = train_test_split(\n",
    "    X_normalized, y_normalized, test_size=0.4, random_state=42\n",
    ")\n",
    "\n",
    "# Second split: split the 40% temp into 20% validation and 20% test\n",
    "# Since temp is 40% of total, splitting it 50/50 gives us 20%/20% of total\n",
    "X_val, X_test, y_val, y_test = train_test_split(\n",
    "    X_temp, y_temp, test_size=0.5, random_state=42\n",
    ")\n",
    "# Print the sizes to verify\n",
    "print(f\"\\nDataset split:\")\n",
    "print(f\"Total samples: {len(X_normalized)}\")\n",
    "print(f\"Training set: {X_train.shape[0]} samples ({X_train.shape[0]/len(X_normalized)*100:.1f}%)\")\n",
    "print(f\"Validation set: {X_val.shape[0]} samples ({X_val.shape[0]/len(X_normalized)*100:.1f}%)\")\n",
    "print(f\"Test set: {X_test.shape[0]} samples ({X_test.shape[0]/len(X_normalized)*100:.1f}%)\")\n",
    "\n",
    "print(f\"\\nFeature shapes:\")\n",
    "print(f\"X_train: {X_train.shape}\")\n",
    "print(f\"X_val: {X_val.shape}\")\n",
    "print(f\"X_test: {X_test.shape}\")\n",
    "\n",
    "print(f\"\\nTarget shapes:\")\n",
    "print(f\"y_train: {y_train.shape}\")\n",
    "print(f\"y_val: {y_val.shape}\")\n",
    "print(f\"y_test: {y_test.shape}\")"
   ]
  },
  {
   "cell_type": "code",
   "execution_count": 7,
   "id": "3c06aa06-06a3-44a4-a96e-47056b0fbb97",
   "metadata": {},
   "outputs": [
    {
     "name": "stdout",
     "output_type": "stream",
     "text": [
      "NEURAL NETWORK ANALYSIS\n",
      "Testing different neural network configurations...\n",
      "Testing activation function: RELU\n",
      "  → Testing 8 neurons with relu activation...\n"
     ]
    },
    {
     "name": "stderr",
     "output_type": "stream",
     "text": [
      "C:\\Users\\brian\\PycharmProjects\\PythonProject1\\.venv\\Lib\\site-packages\\keras\\src\\layers\\core\\dense.py:92: UserWarning: Do not pass an `input_shape`/`input_dim` argument to a layer. When using Sequential models, prefer using an `Input(shape)` object as the first layer in the model instead.\n",
      "  super().__init__(activity_regularizer=activity_regularizer, **kwargs)\n"
     ]
    },
    {
     "name": "stdout",
     "output_type": "stream",
     "text": [
      "     Fold 1: R² = -0.4927\n"
     ]
    },
    {
     "name": "stderr",
     "output_type": "stream",
     "text": [
      "C:\\Users\\brian\\PycharmProjects\\PythonProject1\\.venv\\Lib\\site-packages\\keras\\src\\layers\\core\\dense.py:92: UserWarning: Do not pass an `input_shape`/`input_dim` argument to a layer. When using Sequential models, prefer using an `Input(shape)` object as the first layer in the model instead.\n",
      "  super().__init__(activity_regularizer=activity_regularizer, **kwargs)\n"
     ]
    },
    {
     "name": "stdout",
     "output_type": "stream",
     "text": [
      "     Fold 2: R² = -0.2591\n"
     ]
    },
    {
     "name": "stderr",
     "output_type": "stream",
     "text": [
      "C:\\Users\\brian\\PycharmProjects\\PythonProject1\\.venv\\Lib\\site-packages\\keras\\src\\layers\\core\\dense.py:92: UserWarning: Do not pass an `input_shape`/`input_dim` argument to a layer. When using Sequential models, prefer using an `Input(shape)` object as the first layer in the model instead.\n",
      "  super().__init__(activity_regularizer=activity_regularizer, **kwargs)\n"
     ]
    },
    {
     "name": "stdout",
     "output_type": "stream",
     "text": [
      "     Fold 3: R² = 0.1407\n"
     ]
    },
    {
     "name": "stderr",
     "output_type": "stream",
     "text": [
      "C:\\Users\\brian\\PycharmProjects\\PythonProject1\\.venv\\Lib\\site-packages\\keras\\src\\layers\\core\\dense.py:92: UserWarning: Do not pass an `input_shape`/`input_dim` argument to a layer. When using Sequential models, prefer using an `Input(shape)` object as the first layer in the model instead.\n",
      "  super().__init__(activity_regularizer=activity_regularizer, **kwargs)\n"
     ]
    },
    {
     "name": "stdout",
     "output_type": "stream",
     "text": [
      "     Fold 4: R² = -3.0813\n"
     ]
    },
    {
     "name": "stderr",
     "output_type": "stream",
     "text": [
      "C:\\Users\\brian\\PycharmProjects\\PythonProject1\\.venv\\Lib\\site-packages\\keras\\src\\layers\\core\\dense.py:92: UserWarning: Do not pass an `input_shape`/`input_dim` argument to a layer. When using Sequential models, prefer using an `Input(shape)` object as the first layer in the model instead.\n",
      "  super().__init__(activity_regularizer=activity_regularizer, **kwargs)\n"
     ]
    },
    {
     "name": "stdout",
     "output_type": "stream",
     "text": [
      "WARNING:tensorflow:5 out of the last 5 calls to <function TensorFlowTrainer.make_predict_function.<locals>.one_step_on_data_distributed at 0x000001F2EB142840> triggered tf.function retracing. Tracing is expensive and the excessive number of tracings could be due to (1) creating @tf.function repeatedly in a loop, (2) passing tensors with different shapes, (3) passing Python objects instead of tensors. For (1), please define your @tf.function outside of the loop. For (2), @tf.function has reduce_retracing=True option that can avoid unnecessary retracing. For (3), please refer to https://www.tensorflow.org/guide/function#controlling_retracing and https://www.tensorflow.org/api_docs/python/tf/function for  more details.\n",
      "     Fold 5: R² = 0.6877\n",
      "     → Average R²: -0.6009 ± 1.3032\n",
      "\n",
      "  → Testing 13 neurons with relu activation...\n"
     ]
    },
    {
     "name": "stderr",
     "output_type": "stream",
     "text": [
      "C:\\Users\\brian\\PycharmProjects\\PythonProject1\\.venv\\Lib\\site-packages\\keras\\src\\layers\\core\\dense.py:92: UserWarning: Do not pass an `input_shape`/`input_dim` argument to a layer. When using Sequential models, prefer using an `Input(shape)` object as the first layer in the model instead.\n",
      "  super().__init__(activity_regularizer=activity_regularizer, **kwargs)\n"
     ]
    },
    {
     "name": "stdout",
     "output_type": "stream",
     "text": [
      "WARNING:tensorflow:6 out of the last 6 calls to <function TensorFlowTrainer.make_predict_function.<locals>.one_step_on_data_distributed at 0x000001F2EB2968E0> triggered tf.function retracing. Tracing is expensive and the excessive number of tracings could be due to (1) creating @tf.function repeatedly in a loop, (2) passing tensors with different shapes, (3) passing Python objects instead of tensors. For (1), please define your @tf.function outside of the loop. For (2), @tf.function has reduce_retracing=True option that can avoid unnecessary retracing. For (3), please refer to https://www.tensorflow.org/guide/function#controlling_retracing and https://www.tensorflow.org/api_docs/python/tf/function for  more details.\n",
      "     Fold 1: R² = -0.6184\n"
     ]
    },
    {
     "name": "stderr",
     "output_type": "stream",
     "text": [
      "C:\\Users\\brian\\PycharmProjects\\PythonProject1\\.venv\\Lib\\site-packages\\keras\\src\\layers\\core\\dense.py:92: UserWarning: Do not pass an `input_shape`/`input_dim` argument to a layer. When using Sequential models, prefer using an `Input(shape)` object as the first layer in the model instead.\n",
      "  super().__init__(activity_regularizer=activity_regularizer, **kwargs)\n"
     ]
    },
    {
     "name": "stdout",
     "output_type": "stream",
     "text": [
      "     Fold 2: R² = -0.1710\n"
     ]
    },
    {
     "name": "stderr",
     "output_type": "stream",
     "text": [
      "C:\\Users\\brian\\PycharmProjects\\PythonProject1\\.venv\\Lib\\site-packages\\keras\\src\\layers\\core\\dense.py:92: UserWarning: Do not pass an `input_shape`/`input_dim` argument to a layer. When using Sequential models, prefer using an `Input(shape)` object as the first layer in the model instead.\n",
      "  super().__init__(activity_regularizer=activity_regularizer, **kwargs)\n"
     ]
    },
    {
     "name": "stdout",
     "output_type": "stream",
     "text": [
      "     Fold 3: R² = 0.1943\n"
     ]
    },
    {
     "name": "stderr",
     "output_type": "stream",
     "text": [
      "C:\\Users\\brian\\PycharmProjects\\PythonProject1\\.venv\\Lib\\site-packages\\keras\\src\\layers\\core\\dense.py:92: UserWarning: Do not pass an `input_shape`/`input_dim` argument to a layer. When using Sequential models, prefer using an `Input(shape)` object as the first layer in the model instead.\n",
      "  super().__init__(activity_regularizer=activity_regularizer, **kwargs)\n"
     ]
    },
    {
     "name": "stdout",
     "output_type": "stream",
     "text": [
      "     Fold 4: R² = -0.3155\n"
     ]
    },
    {
     "name": "stderr",
     "output_type": "stream",
     "text": [
      "C:\\Users\\brian\\PycharmProjects\\PythonProject1\\.venv\\Lib\\site-packages\\keras\\src\\layers\\core\\dense.py:92: UserWarning: Do not pass an `input_shape`/`input_dim` argument to a layer. When using Sequential models, prefer using an `Input(shape)` object as the first layer in the model instead.\n",
      "  super().__init__(activity_regularizer=activity_regularizer, **kwargs)\n"
     ]
    },
    {
     "name": "stdout",
     "output_type": "stream",
     "text": [
      "     Fold 5: R² = 0.3701\n",
      "     → Average R²: -0.1081 ± 0.3543\n",
      "\n",
      "  → Testing 20 neurons with relu activation...\n"
     ]
    },
    {
     "name": "stderr",
     "output_type": "stream",
     "text": [
      "C:\\Users\\brian\\PycharmProjects\\PythonProject1\\.venv\\Lib\\site-packages\\keras\\src\\layers\\core\\dense.py:92: UserWarning: Do not pass an `input_shape`/`input_dim` argument to a layer. When using Sequential models, prefer using an `Input(shape)` object as the first layer in the model instead.\n",
      "  super().__init__(activity_regularizer=activity_regularizer, **kwargs)\n"
     ]
    },
    {
     "name": "stdout",
     "output_type": "stream",
     "text": [
      "     Fold 1: R² = -2.8653\n"
     ]
    },
    {
     "name": "stderr",
     "output_type": "stream",
     "text": [
      "C:\\Users\\brian\\PycharmProjects\\PythonProject1\\.venv\\Lib\\site-packages\\keras\\src\\layers\\core\\dense.py:92: UserWarning: Do not pass an `input_shape`/`input_dim` argument to a layer. When using Sequential models, prefer using an `Input(shape)` object as the first layer in the model instead.\n",
      "  super().__init__(activity_regularizer=activity_regularizer, **kwargs)\n"
     ]
    },
    {
     "name": "stdout",
     "output_type": "stream",
     "text": [
      "     Fold 2: R² = 0.4327\n"
     ]
    },
    {
     "name": "stderr",
     "output_type": "stream",
     "text": [
      "C:\\Users\\brian\\PycharmProjects\\PythonProject1\\.venv\\Lib\\site-packages\\keras\\src\\layers\\core\\dense.py:92: UserWarning: Do not pass an `input_shape`/`input_dim` argument to a layer. When using Sequential models, prefer using an `Input(shape)` object as the first layer in the model instead.\n",
      "  super().__init__(activity_regularizer=activity_regularizer, **kwargs)\n"
     ]
    },
    {
     "name": "stdout",
     "output_type": "stream",
     "text": [
      "     Fold 3: R² = -2.1617\n"
     ]
    },
    {
     "name": "stderr",
     "output_type": "stream",
     "text": [
      "C:\\Users\\brian\\PycharmProjects\\PythonProject1\\.venv\\Lib\\site-packages\\keras\\src\\layers\\core\\dense.py:92: UserWarning: Do not pass an `input_shape`/`input_dim` argument to a layer. When using Sequential models, prefer using an `Input(shape)` object as the first layer in the model instead.\n",
      "  super().__init__(activity_regularizer=activity_regularizer, **kwargs)\n"
     ]
    },
    {
     "name": "stdout",
     "output_type": "stream",
     "text": [
      "     Fold 4: R² = 0.4531\n"
     ]
    },
    {
     "name": "stderr",
     "output_type": "stream",
     "text": [
      "C:\\Users\\brian\\PycharmProjects\\PythonProject1\\.venv\\Lib\\site-packages\\keras\\src\\layers\\core\\dense.py:92: UserWarning: Do not pass an `input_shape`/`input_dim` argument to a layer. When using Sequential models, prefer using an `Input(shape)` object as the first layer in the model instead.\n",
      "  super().__init__(activity_regularizer=activity_regularizer, **kwargs)\n"
     ]
    },
    {
     "name": "stdout",
     "output_type": "stream",
     "text": [
      "     Fold 5: R² = 0.8532\n",
      "     → Average R²: -0.6576 ± 1.5389\n",
      "\n",
      "\n",
      "Testing activation function: TANH\n",
      "  → Testing 8 neurons with tanh activation...\n"
     ]
    },
    {
     "name": "stderr",
     "output_type": "stream",
     "text": [
      "C:\\Users\\brian\\PycharmProjects\\PythonProject1\\.venv\\Lib\\site-packages\\keras\\src\\layers\\core\\dense.py:92: UserWarning: Do not pass an `input_shape`/`input_dim` argument to a layer. When using Sequential models, prefer using an `Input(shape)` object as the first layer in the model instead.\n",
      "  super().__init__(activity_regularizer=activity_regularizer, **kwargs)\n"
     ]
    },
    {
     "name": "stdout",
     "output_type": "stream",
     "text": [
      "     Fold 1: R² = -2.3155\n"
     ]
    },
    {
     "name": "stderr",
     "output_type": "stream",
     "text": [
      "C:\\Users\\brian\\PycharmProjects\\PythonProject1\\.venv\\Lib\\site-packages\\keras\\src\\layers\\core\\dense.py:92: UserWarning: Do not pass an `input_shape`/`input_dim` argument to a layer. When using Sequential models, prefer using an `Input(shape)` object as the first layer in the model instead.\n",
      "  super().__init__(activity_regularizer=activity_regularizer, **kwargs)\n"
     ]
    },
    {
     "name": "stdout",
     "output_type": "stream",
     "text": [
      "     Fold 2: R² = -0.1393\n"
     ]
    },
    {
     "name": "stderr",
     "output_type": "stream",
     "text": [
      "C:\\Users\\brian\\PycharmProjects\\PythonProject1\\.venv\\Lib\\site-packages\\keras\\src\\layers\\core\\dense.py:92: UserWarning: Do not pass an `input_shape`/`input_dim` argument to a layer. When using Sequential models, prefer using an `Input(shape)` object as the first layer in the model instead.\n",
      "  super().__init__(activity_regularizer=activity_regularizer, **kwargs)\n"
     ]
    },
    {
     "name": "stdout",
     "output_type": "stream",
     "text": [
      "     Fold 3: R² = -3.5832\n"
     ]
    },
    {
     "name": "stderr",
     "output_type": "stream",
     "text": [
      "C:\\Users\\brian\\PycharmProjects\\PythonProject1\\.venv\\Lib\\site-packages\\keras\\src\\layers\\core\\dense.py:92: UserWarning: Do not pass an `input_shape`/`input_dim` argument to a layer. When using Sequential models, prefer using an `Input(shape)` object as the first layer in the model instead.\n",
      "  super().__init__(activity_regularizer=activity_regularizer, **kwargs)\n"
     ]
    },
    {
     "name": "stdout",
     "output_type": "stream",
     "text": [
      "     Fold 4: R² = -0.2749\n"
     ]
    },
    {
     "name": "stderr",
     "output_type": "stream",
     "text": [
      "C:\\Users\\brian\\PycharmProjects\\PythonProject1\\.venv\\Lib\\site-packages\\keras\\src\\layers\\core\\dense.py:92: UserWarning: Do not pass an `input_shape`/`input_dim` argument to a layer. When using Sequential models, prefer using an `Input(shape)` object as the first layer in the model instead.\n",
      "  super().__init__(activity_regularizer=activity_regularizer, **kwargs)\n"
     ]
    },
    {
     "name": "stdout",
     "output_type": "stream",
     "text": [
      "     Fold 5: R² = 0.6157\n",
      "     → Average R²: -1.1394 ± 1.5610\n",
      "\n",
      "  → Testing 13 neurons with tanh activation...\n"
     ]
    },
    {
     "name": "stderr",
     "output_type": "stream",
     "text": [
      "C:\\Users\\brian\\PycharmProjects\\PythonProject1\\.venv\\Lib\\site-packages\\keras\\src\\layers\\core\\dense.py:92: UserWarning: Do not pass an `input_shape`/`input_dim` argument to a layer. When using Sequential models, prefer using an `Input(shape)` object as the first layer in the model instead.\n",
      "  super().__init__(activity_regularizer=activity_regularizer, **kwargs)\n"
     ]
    },
    {
     "name": "stdout",
     "output_type": "stream",
     "text": [
      "     Fold 1: R² = -3.4011\n"
     ]
    },
    {
     "name": "stderr",
     "output_type": "stream",
     "text": [
      "C:\\Users\\brian\\PycharmProjects\\PythonProject1\\.venv\\Lib\\site-packages\\keras\\src\\layers\\core\\dense.py:92: UserWarning: Do not pass an `input_shape`/`input_dim` argument to a layer. When using Sequential models, prefer using an `Input(shape)` object as the first layer in the model instead.\n",
      "  super().__init__(activity_regularizer=activity_regularizer, **kwargs)\n"
     ]
    },
    {
     "name": "stdout",
     "output_type": "stream",
     "text": [
      "     Fold 2: R² = 0.3952\n"
     ]
    },
    {
     "name": "stderr",
     "output_type": "stream",
     "text": [
      "C:\\Users\\brian\\PycharmProjects\\PythonProject1\\.venv\\Lib\\site-packages\\keras\\src\\layers\\core\\dense.py:92: UserWarning: Do not pass an `input_shape`/`input_dim` argument to a layer. When using Sequential models, prefer using an `Input(shape)` object as the first layer in the model instead.\n",
      "  super().__init__(activity_regularizer=activity_regularizer, **kwargs)\n"
     ]
    },
    {
     "name": "stdout",
     "output_type": "stream",
     "text": [
      "     Fold 3: R² = 0.4040\n"
     ]
    },
    {
     "name": "stderr",
     "output_type": "stream",
     "text": [
      "C:\\Users\\brian\\PycharmProjects\\PythonProject1\\.venv\\Lib\\site-packages\\keras\\src\\layers\\core\\dense.py:92: UserWarning: Do not pass an `input_shape`/`input_dim` argument to a layer. When using Sequential models, prefer using an `Input(shape)` object as the first layer in the model instead.\n",
      "  super().__init__(activity_regularizer=activity_regularizer, **kwargs)\n"
     ]
    },
    {
     "name": "stdout",
     "output_type": "stream",
     "text": [
      "     Fold 4: R² = -0.1798\n"
     ]
    },
    {
     "name": "stderr",
     "output_type": "stream",
     "text": [
      "C:\\Users\\brian\\PycharmProjects\\PythonProject1\\.venv\\Lib\\site-packages\\keras\\src\\layers\\core\\dense.py:92: UserWarning: Do not pass an `input_shape`/`input_dim` argument to a layer. When using Sequential models, prefer using an `Input(shape)` object as the first layer in the model instead.\n",
      "  super().__init__(activity_regularizer=activity_regularizer, **kwargs)\n"
     ]
    },
    {
     "name": "stdout",
     "output_type": "stream",
     "text": [
      "     Fold 5: R² = 0.7336\n",
      "     → Average R²: -0.4096 ± 1.5244\n",
      "\n",
      "  → Testing 20 neurons with tanh activation...\n"
     ]
    },
    {
     "name": "stderr",
     "output_type": "stream",
     "text": [
      "C:\\Users\\brian\\PycharmProjects\\PythonProject1\\.venv\\Lib\\site-packages\\keras\\src\\layers\\core\\dense.py:92: UserWarning: Do not pass an `input_shape`/`input_dim` argument to a layer. When using Sequential models, prefer using an `Input(shape)` object as the first layer in the model instead.\n",
      "  super().__init__(activity_regularizer=activity_regularizer, **kwargs)\n"
     ]
    },
    {
     "name": "stdout",
     "output_type": "stream",
     "text": [
      "     Fold 1: R² = -3.1798\n"
     ]
    },
    {
     "name": "stderr",
     "output_type": "stream",
     "text": [
      "C:\\Users\\brian\\PycharmProjects\\PythonProject1\\.venv\\Lib\\site-packages\\keras\\src\\layers\\core\\dense.py:92: UserWarning: Do not pass an `input_shape`/`input_dim` argument to a layer. When using Sequential models, prefer using an `Input(shape)` object as the first layer in the model instead.\n",
      "  super().__init__(activity_regularizer=activity_regularizer, **kwargs)\n"
     ]
    },
    {
     "name": "stdout",
     "output_type": "stream",
     "text": [
      "     Fold 2: R² = 0.6319\n"
     ]
    },
    {
     "name": "stderr",
     "output_type": "stream",
     "text": [
      "C:\\Users\\brian\\PycharmProjects\\PythonProject1\\.venv\\Lib\\site-packages\\keras\\src\\layers\\core\\dense.py:92: UserWarning: Do not pass an `input_shape`/`input_dim` argument to a layer. When using Sequential models, prefer using an `Input(shape)` object as the first layer in the model instead.\n",
      "  super().__init__(activity_regularizer=activity_regularizer, **kwargs)\n"
     ]
    },
    {
     "name": "stdout",
     "output_type": "stream",
     "text": [
      "     Fold 3: R² = -1.8454\n"
     ]
    },
    {
     "name": "stderr",
     "output_type": "stream",
     "text": [
      "C:\\Users\\brian\\PycharmProjects\\PythonProject1\\.venv\\Lib\\site-packages\\keras\\src\\layers\\core\\dense.py:92: UserWarning: Do not pass an `input_shape`/`input_dim` argument to a layer. When using Sequential models, prefer using an `Input(shape)` object as the first layer in the model instead.\n",
      "  super().__init__(activity_regularizer=activity_regularizer, **kwargs)\n"
     ]
    },
    {
     "name": "stdout",
     "output_type": "stream",
     "text": [
      "     Fold 4: R² = -0.0451\n"
     ]
    },
    {
     "name": "stderr",
     "output_type": "stream",
     "text": [
      "C:\\Users\\brian\\PycharmProjects\\PythonProject1\\.venv\\Lib\\site-packages\\keras\\src\\layers\\core\\dense.py:92: UserWarning: Do not pass an `input_shape`/`input_dim` argument to a layer. When using Sequential models, prefer using an `Input(shape)` object as the first layer in the model instead.\n",
      "  super().__init__(activity_regularizer=activity_regularizer, **kwargs)\n"
     ]
    },
    {
     "name": "stdout",
     "output_type": "stream",
     "text": [
      "     Fold 5: R² = 0.7973\n",
      "     → Average R²: -0.7282 ± 1.5429\n",
      "\n",
      "\n",
      "Testing activation function: SIGMOID\n",
      "  → Testing 8 neurons with sigmoid activation...\n"
     ]
    },
    {
     "name": "stderr",
     "output_type": "stream",
     "text": [
      "C:\\Users\\brian\\PycharmProjects\\PythonProject1\\.venv\\Lib\\site-packages\\keras\\src\\layers\\core\\dense.py:92: UserWarning: Do not pass an `input_shape`/`input_dim` argument to a layer. When using Sequential models, prefer using an `Input(shape)` object as the first layer in the model instead.\n",
      "  super().__init__(activity_regularizer=activity_regularizer, **kwargs)\n"
     ]
    },
    {
     "name": "stdout",
     "output_type": "stream",
     "text": [
      "     Fold 1: R² = -7.0743\n"
     ]
    },
    {
     "name": "stderr",
     "output_type": "stream",
     "text": [
      "C:\\Users\\brian\\PycharmProjects\\PythonProject1\\.venv\\Lib\\site-packages\\keras\\src\\layers\\core\\dense.py:92: UserWarning: Do not pass an `input_shape`/`input_dim` argument to a layer. When using Sequential models, prefer using an `Input(shape)` object as the first layer in the model instead.\n",
      "  super().__init__(activity_regularizer=activity_regularizer, **kwargs)\n"
     ]
    },
    {
     "name": "stdout",
     "output_type": "stream",
     "text": [
      "     Fold 2: R² = -0.4039\n"
     ]
    },
    {
     "name": "stderr",
     "output_type": "stream",
     "text": [
      "C:\\Users\\brian\\PycharmProjects\\PythonProject1\\.venv\\Lib\\site-packages\\keras\\src\\layers\\core\\dense.py:92: UserWarning: Do not pass an `input_shape`/`input_dim` argument to a layer. When using Sequential models, prefer using an `Input(shape)` object as the first layer in the model instead.\n",
      "  super().__init__(activity_regularizer=activity_regularizer, **kwargs)\n"
     ]
    },
    {
     "name": "stdout",
     "output_type": "stream",
     "text": [
      "     Fold 3: R² = -0.7951\n"
     ]
    },
    {
     "name": "stderr",
     "output_type": "stream",
     "text": [
      "C:\\Users\\brian\\PycharmProjects\\PythonProject1\\.venv\\Lib\\site-packages\\keras\\src\\layers\\core\\dense.py:92: UserWarning: Do not pass an `input_shape`/`input_dim` argument to a layer. When using Sequential models, prefer using an `Input(shape)` object as the first layer in the model instead.\n",
      "  super().__init__(activity_regularizer=activity_regularizer, **kwargs)\n"
     ]
    },
    {
     "name": "stdout",
     "output_type": "stream",
     "text": [
      "     Fold 4: R² = -4.3638\n"
     ]
    },
    {
     "name": "stderr",
     "output_type": "stream",
     "text": [
      "C:\\Users\\brian\\PycharmProjects\\PythonProject1\\.venv\\Lib\\site-packages\\keras\\src\\layers\\core\\dense.py:92: UserWarning: Do not pass an `input_shape`/`input_dim` argument to a layer. When using Sequential models, prefer using an `Input(shape)` object as the first layer in the model instead.\n",
      "  super().__init__(activity_regularizer=activity_regularizer, **kwargs)\n"
     ]
    },
    {
     "name": "stdout",
     "output_type": "stream",
     "text": [
      "     Fold 5: R² = -0.1163\n",
      "     → Average R²: -2.5507 ± 2.7338\n",
      "\n",
      "  → Testing 13 neurons with sigmoid activation...\n"
     ]
    },
    {
     "name": "stderr",
     "output_type": "stream",
     "text": [
      "C:\\Users\\brian\\PycharmProjects\\PythonProject1\\.venv\\Lib\\site-packages\\keras\\src\\layers\\core\\dense.py:92: UserWarning: Do not pass an `input_shape`/`input_dim` argument to a layer. When using Sequential models, prefer using an `Input(shape)` object as the first layer in the model instead.\n",
      "  super().__init__(activity_regularizer=activity_regularizer, **kwargs)\n"
     ]
    },
    {
     "name": "stdout",
     "output_type": "stream",
     "text": [
      "     Fold 1: R² = -0.5028\n"
     ]
    },
    {
     "name": "stderr",
     "output_type": "stream",
     "text": [
      "C:\\Users\\brian\\PycharmProjects\\PythonProject1\\.venv\\Lib\\site-packages\\keras\\src\\layers\\core\\dense.py:92: UserWarning: Do not pass an `input_shape`/`input_dim` argument to a layer. When using Sequential models, prefer using an `Input(shape)` object as the first layer in the model instead.\n",
      "  super().__init__(activity_regularizer=activity_regularizer, **kwargs)\n"
     ]
    },
    {
     "name": "stdout",
     "output_type": "stream",
     "text": [
      "     Fold 2: R² = -0.0688\n"
     ]
    },
    {
     "name": "stderr",
     "output_type": "stream",
     "text": [
      "C:\\Users\\brian\\PycharmProjects\\PythonProject1\\.venv\\Lib\\site-packages\\keras\\src\\layers\\core\\dense.py:92: UserWarning: Do not pass an `input_shape`/`input_dim` argument to a layer. When using Sequential models, prefer using an `Input(shape)` object as the first layer in the model instead.\n",
      "  super().__init__(activity_regularizer=activity_regularizer, **kwargs)\n"
     ]
    },
    {
     "name": "stdout",
     "output_type": "stream",
     "text": [
      "     Fold 3: R² = -2.0331\n"
     ]
    },
    {
     "name": "stderr",
     "output_type": "stream",
     "text": [
      "C:\\Users\\brian\\PycharmProjects\\PythonProject1\\.venv\\Lib\\site-packages\\keras\\src\\layers\\core\\dense.py:92: UserWarning: Do not pass an `input_shape`/`input_dim` argument to a layer. When using Sequential models, prefer using an `Input(shape)` object as the first layer in the model instead.\n",
      "  super().__init__(activity_regularizer=activity_regularizer, **kwargs)\n"
     ]
    },
    {
     "name": "stdout",
     "output_type": "stream",
     "text": [
      "     Fold 4: R² = -2.9502\n"
     ]
    },
    {
     "name": "stderr",
     "output_type": "stream",
     "text": [
      "C:\\Users\\brian\\PycharmProjects\\PythonProject1\\.venv\\Lib\\site-packages\\keras\\src\\layers\\core\\dense.py:92: UserWarning: Do not pass an `input_shape`/`input_dim` argument to a layer. When using Sequential models, prefer using an `Input(shape)` object as the first layer in the model instead.\n",
      "  super().__init__(activity_regularizer=activity_regularizer, **kwargs)\n"
     ]
    },
    {
     "name": "stdout",
     "output_type": "stream",
     "text": [
      "     Fold 5: R² = -0.4226\n",
      "     → Average R²: -1.1955 ± 1.1070\n",
      "\n",
      "  → Testing 20 neurons with sigmoid activation...\n"
     ]
    },
    {
     "name": "stderr",
     "output_type": "stream",
     "text": [
      "C:\\Users\\brian\\PycharmProjects\\PythonProject1\\.venv\\Lib\\site-packages\\keras\\src\\layers\\core\\dense.py:92: UserWarning: Do not pass an `input_shape`/`input_dim` argument to a layer. When using Sequential models, prefer using an `Input(shape)` object as the first layer in the model instead.\n",
      "  super().__init__(activity_regularizer=activity_regularizer, **kwargs)\n"
     ]
    },
    {
     "name": "stdout",
     "output_type": "stream",
     "text": [
      "     Fold 1: R² = -3.1351\n"
     ]
    },
    {
     "name": "stderr",
     "output_type": "stream",
     "text": [
      "C:\\Users\\brian\\PycharmProjects\\PythonProject1\\.venv\\Lib\\site-packages\\keras\\src\\layers\\core\\dense.py:92: UserWarning: Do not pass an `input_shape`/`input_dim` argument to a layer. When using Sequential models, prefer using an `Input(shape)` object as the first layer in the model instead.\n",
      "  super().__init__(activity_regularizer=activity_regularizer, **kwargs)\n"
     ]
    },
    {
     "name": "stdout",
     "output_type": "stream",
     "text": [
      "     Fold 2: R² = -0.0216\n"
     ]
    },
    {
     "name": "stderr",
     "output_type": "stream",
     "text": [
      "C:\\Users\\brian\\PycharmProjects\\PythonProject1\\.venv\\Lib\\site-packages\\keras\\src\\layers\\core\\dense.py:92: UserWarning: Do not pass an `input_shape`/`input_dim` argument to a layer. When using Sequential models, prefer using an `Input(shape)` object as the first layer in the model instead.\n",
      "  super().__init__(activity_regularizer=activity_regularizer, **kwargs)\n"
     ]
    },
    {
     "name": "stdout",
     "output_type": "stream",
     "text": [
      "     Fold 3: R² = 0.2222\n"
     ]
    },
    {
     "name": "stderr",
     "output_type": "stream",
     "text": [
      "C:\\Users\\brian\\PycharmProjects\\PythonProject1\\.venv\\Lib\\site-packages\\keras\\src\\layers\\core\\dense.py:92: UserWarning: Do not pass an `input_shape`/`input_dim` argument to a layer. When using Sequential models, prefer using an `Input(shape)` object as the first layer in the model instead.\n",
      "  super().__init__(activity_regularizer=activity_regularizer, **kwargs)\n"
     ]
    },
    {
     "name": "stdout",
     "output_type": "stream",
     "text": [
      "     Fold 4: R² = -2.5345\n"
     ]
    },
    {
     "name": "stderr",
     "output_type": "stream",
     "text": [
      "C:\\Users\\brian\\PycharmProjects\\PythonProject1\\.venv\\Lib\\site-packages\\keras\\src\\layers\\core\\dense.py:92: UserWarning: Do not pass an `input_shape`/`input_dim` argument to a layer. When using Sequential models, prefer using an `Input(shape)` object as the first layer in the model instead.\n",
      "  super().__init__(activity_regularizer=activity_regularizer, **kwargs)\n"
     ]
    },
    {
     "name": "stdout",
     "output_type": "stream",
     "text": [
      "     Fold 5: R² = 0.1211\n",
      "     → Average R²: -1.0696 ± 1.4558\n",
      "\n",
      "\n",
      "Testing activation function: LINEAR\n",
      "  → Testing 8 neurons with linear activation...\n"
     ]
    },
    {
     "name": "stderr",
     "output_type": "stream",
     "text": [
      "C:\\Users\\brian\\PycharmProjects\\PythonProject1\\.venv\\Lib\\site-packages\\keras\\src\\layers\\core\\dense.py:92: UserWarning: Do not pass an `input_shape`/`input_dim` argument to a layer. When using Sequential models, prefer using an `Input(shape)` object as the first layer in the model instead.\n",
      "  super().__init__(activity_regularizer=activity_regularizer, **kwargs)\n"
     ]
    },
    {
     "name": "stdout",
     "output_type": "stream",
     "text": [
      "     Fold 1: R² = -4.7004\n"
     ]
    },
    {
     "name": "stderr",
     "output_type": "stream",
     "text": [
      "C:\\Users\\brian\\PycharmProjects\\PythonProject1\\.venv\\Lib\\site-packages\\keras\\src\\layers\\core\\dense.py:92: UserWarning: Do not pass an `input_shape`/`input_dim` argument to a layer. When using Sequential models, prefer using an `Input(shape)` object as the first layer in the model instead.\n",
      "  super().__init__(activity_regularizer=activity_regularizer, **kwargs)\n"
     ]
    },
    {
     "name": "stdout",
     "output_type": "stream",
     "text": [
      "     Fold 2: R² = 0.1887\n"
     ]
    },
    {
     "name": "stderr",
     "output_type": "stream",
     "text": [
      "C:\\Users\\brian\\PycharmProjects\\PythonProject1\\.venv\\Lib\\site-packages\\keras\\src\\layers\\core\\dense.py:92: UserWarning: Do not pass an `input_shape`/`input_dim` argument to a layer. When using Sequential models, prefer using an `Input(shape)` object as the first layer in the model instead.\n",
      "  super().__init__(activity_regularizer=activity_regularizer, **kwargs)\n"
     ]
    },
    {
     "name": "stdout",
     "output_type": "stream",
     "text": [
      "     Fold 3: R² = -0.0879\n"
     ]
    },
    {
     "name": "stderr",
     "output_type": "stream",
     "text": [
      "C:\\Users\\brian\\PycharmProjects\\PythonProject1\\.venv\\Lib\\site-packages\\keras\\src\\layers\\core\\dense.py:92: UserWarning: Do not pass an `input_shape`/`input_dim` argument to a layer. When using Sequential models, prefer using an `Input(shape)` object as the first layer in the model instead.\n",
      "  super().__init__(activity_regularizer=activity_regularizer, **kwargs)\n"
     ]
    },
    {
     "name": "stdout",
     "output_type": "stream",
     "text": [
      "     Fold 4: R² = -3.4414\n"
     ]
    },
    {
     "name": "stderr",
     "output_type": "stream",
     "text": [
      "C:\\Users\\brian\\PycharmProjects\\PythonProject1\\.venv\\Lib\\site-packages\\keras\\src\\layers\\core\\dense.py:92: UserWarning: Do not pass an `input_shape`/`input_dim` argument to a layer. When using Sequential models, prefer using an `Input(shape)` object as the first layer in the model instead.\n",
      "  super().__init__(activity_regularizer=activity_regularizer, **kwargs)\n"
     ]
    },
    {
     "name": "stdout",
     "output_type": "stream",
     "text": [
      "     Fold 5: R² = 0.7995\n",
      "     → Average R²: -1.4483 ± 2.1969\n",
      "\n",
      "  → Testing 13 neurons with linear activation...\n"
     ]
    },
    {
     "name": "stderr",
     "output_type": "stream",
     "text": [
      "C:\\Users\\brian\\PycharmProjects\\PythonProject1\\.venv\\Lib\\site-packages\\keras\\src\\layers\\core\\dense.py:92: UserWarning: Do not pass an `input_shape`/`input_dim` argument to a layer. When using Sequential models, prefer using an `Input(shape)` object as the first layer in the model instead.\n",
      "  super().__init__(activity_regularizer=activity_regularizer, **kwargs)\n"
     ]
    },
    {
     "name": "stdout",
     "output_type": "stream",
     "text": [
      "     Fold 1: R² = -7.0470\n"
     ]
    },
    {
     "name": "stderr",
     "output_type": "stream",
     "text": [
      "C:\\Users\\brian\\PycharmProjects\\PythonProject1\\.venv\\Lib\\site-packages\\keras\\src\\layers\\core\\dense.py:92: UserWarning: Do not pass an `input_shape`/`input_dim` argument to a layer. When using Sequential models, prefer using an `Input(shape)` object as the first layer in the model instead.\n",
      "  super().__init__(activity_regularizer=activity_regularizer, **kwargs)\n"
     ]
    },
    {
     "name": "stdout",
     "output_type": "stream",
     "text": [
      "     Fold 2: R² = 0.6413\n"
     ]
    },
    {
     "name": "stderr",
     "output_type": "stream",
     "text": [
      "C:\\Users\\brian\\PycharmProjects\\PythonProject1\\.venv\\Lib\\site-packages\\keras\\src\\layers\\core\\dense.py:92: UserWarning: Do not pass an `input_shape`/`input_dim` argument to a layer. When using Sequential models, prefer using an `Input(shape)` object as the first layer in the model instead.\n",
      "  super().__init__(activity_regularizer=activity_regularizer, **kwargs)\n"
     ]
    },
    {
     "name": "stdout",
     "output_type": "stream",
     "text": [
      "     Fold 3: R² = -1.2287\n"
     ]
    },
    {
     "name": "stderr",
     "output_type": "stream",
     "text": [
      "C:\\Users\\brian\\PycharmProjects\\PythonProject1\\.venv\\Lib\\site-packages\\keras\\src\\layers\\core\\dense.py:92: UserWarning: Do not pass an `input_shape`/`input_dim` argument to a layer. When using Sequential models, prefer using an `Input(shape)` object as the first layer in the model instead.\n",
      "  super().__init__(activity_regularizer=activity_regularizer, **kwargs)\n"
     ]
    },
    {
     "name": "stdout",
     "output_type": "stream",
     "text": [
      "     Fold 4: R² = -0.1429\n"
     ]
    },
    {
     "name": "stderr",
     "output_type": "stream",
     "text": [
      "C:\\Users\\brian\\PycharmProjects\\PythonProject1\\.venv\\Lib\\site-packages\\keras\\src\\layers\\core\\dense.py:92: UserWarning: Do not pass an `input_shape`/`input_dim` argument to a layer. When using Sequential models, prefer using an `Input(shape)` object as the first layer in the model instead.\n",
      "  super().__init__(activity_regularizer=activity_regularizer, **kwargs)\n"
     ]
    },
    {
     "name": "stdout",
     "output_type": "stream",
     "text": [
      "     Fold 5: R² = 0.7023\n",
      "     → Average R²: -1.4150 ± 2.9012\n",
      "\n",
      "  → Testing 20 neurons with linear activation...\n"
     ]
    },
    {
     "name": "stderr",
     "output_type": "stream",
     "text": [
      "C:\\Users\\brian\\PycharmProjects\\PythonProject1\\.venv\\Lib\\site-packages\\keras\\src\\layers\\core\\dense.py:92: UserWarning: Do not pass an `input_shape`/`input_dim` argument to a layer. When using Sequential models, prefer using an `Input(shape)` object as the first layer in the model instead.\n",
      "  super().__init__(activity_regularizer=activity_regularizer, **kwargs)\n"
     ]
    },
    {
     "name": "stdout",
     "output_type": "stream",
     "text": [
      "     Fold 1: R² = -4.5346\n"
     ]
    },
    {
     "name": "stderr",
     "output_type": "stream",
     "text": [
      "C:\\Users\\brian\\PycharmProjects\\PythonProject1\\.venv\\Lib\\site-packages\\keras\\src\\layers\\core\\dense.py:92: UserWarning: Do not pass an `input_shape`/`input_dim` argument to a layer. When using Sequential models, prefer using an `Input(shape)` object as the first layer in the model instead.\n",
      "  super().__init__(activity_regularizer=activity_regularizer, **kwargs)\n"
     ]
    },
    {
     "name": "stdout",
     "output_type": "stream",
     "text": [
      "     Fold 2: R² = 0.1656\n"
     ]
    },
    {
     "name": "stderr",
     "output_type": "stream",
     "text": [
      "C:\\Users\\brian\\PycharmProjects\\PythonProject1\\.venv\\Lib\\site-packages\\keras\\src\\layers\\core\\dense.py:92: UserWarning: Do not pass an `input_shape`/`input_dim` argument to a layer. When using Sequential models, prefer using an `Input(shape)` object as the first layer in the model instead.\n",
      "  super().__init__(activity_regularizer=activity_regularizer, **kwargs)\n"
     ]
    },
    {
     "name": "stdout",
     "output_type": "stream",
     "text": [
      "     Fold 3: R² = -1.4955\n"
     ]
    },
    {
     "name": "stderr",
     "output_type": "stream",
     "text": [
      "C:\\Users\\brian\\PycharmProjects\\PythonProject1\\.venv\\Lib\\site-packages\\keras\\src\\layers\\core\\dense.py:92: UserWarning: Do not pass an `input_shape`/`input_dim` argument to a layer. When using Sequential models, prefer using an `Input(shape)` object as the first layer in the model instead.\n",
      "  super().__init__(activity_regularizer=activity_regularizer, **kwargs)\n"
     ]
    },
    {
     "name": "stdout",
     "output_type": "stream",
     "text": [
      "     Fold 4: R² = 0.0862\n"
     ]
    },
    {
     "name": "stderr",
     "output_type": "stream",
     "text": [
      "C:\\Users\\brian\\PycharmProjects\\PythonProject1\\.venv\\Lib\\site-packages\\keras\\src\\layers\\core\\dense.py:92: UserWarning: Do not pass an `input_shape`/`input_dim` argument to a layer. When using Sequential models, prefer using an `Input(shape)` object as the first layer in the model instead.\n",
      "  super().__init__(activity_regularizer=activity_regularizer, **kwargs)\n"
     ]
    },
    {
     "name": "stdout",
     "output_type": "stream",
     "text": [
      "     Fold 5: R² = 0.8405\n",
      "     → Average R²: -0.9875 ± 1.9320\n",
      "\n",
      "\n",
      "RESULTS SUMMARY\n",
      "All configurations tested:\n",
      "\n",
      "1. RELU with 13 neurons: R² = -0.1081 ± 0.3543\n",
      "2. TANH with 13 neurons: R² = -0.4096 ± 1.5244\n",
      "3. RELU with 8 neurons: R² = -0.6009 ± 1.3032\n",
      "4. RELU with 20 neurons: R² = -0.6576 ± 1.5389\n",
      "5. TANH with 20 neurons: R² = -0.7282 ± 1.5429\n",
      "6. LINEAR with 20 neurons: R² = -0.9875 ± 1.9320\n",
      "7. SIGMOID with 20 neurons: R² = -1.0696 ± 1.4558\n",
      "8. TANH with 8 neurons: R² = -1.1394 ± 1.5610\n",
      "9. SIGMOID with 13 neurons: R² = -1.1955 ± 1.1070\n",
      "10. LINEAR with 13 neurons: R² = -1.4150 ± 2.9012\n",
      "11. LINEAR with 8 neurons: R² = -1.4483 ± 2.1969\n",
      "12. SIGMOID with 8 neurons: R² = -2.5507 ± 2.7338\n",
      "\n",
      " BEST CONFIGURATION:\n",
      "   Activation function: RELU\n",
      "   Number of neurons: 13\n",
      "   Average R²: -0.1081\n",
      "TRAINING FINAL MODEL\n",
      "Training final model with relu activation and 13 neurons...\n",
      "Epoch 1/300\n"
     ]
    },
    {
     "name": "stderr",
     "output_type": "stream",
     "text": [
      "C:\\Users\\brian\\PycharmProjects\\PythonProject1\\.venv\\Lib\\site-packages\\keras\\src\\layers\\core\\dense.py:92: UserWarning: Do not pass an `input_shape`/`input_dim` argument to a layer. When using Sequential models, prefer using an `Input(shape)` object as the first layer in the model instead.\n",
      "  super().__init__(activity_regularizer=activity_regularizer, **kwargs)\n"
     ]
    },
    {
     "name": "stdout",
     "output_type": "stream",
     "text": [
      "\u001b[1m2/2\u001b[0m \u001b[32m━━━━━━━━━━━━━━━━━━━━\u001b[0m\u001b[37m\u001b[0m \u001b[1m1s\u001b[0m 128ms/step - loss: 2.0391 - mae: 1.0073 - val_loss: 0.6467 - val_mae: 0.5361\n",
      "Epoch 2/300\n",
      "\u001b[1m2/2\u001b[0m \u001b[32m━━━━━━━━━━━━━━━━━━━━\u001b[0m\u001b[37m\u001b[0m \u001b[1m0s\u001b[0m 44ms/step - loss: 1.9916 - mae: 0.9924 - val_loss: 0.6363 - val_mae: 0.5287\n",
      "Epoch 3/300\n",
      "\u001b[1m2/2\u001b[0m \u001b[32m━━━━━━━━━━━━━━━━━━━━\u001b[0m\u001b[37m\u001b[0m \u001b[1m0s\u001b[0m 42ms/step - loss: 1.9551 - mae: 0.9823 - val_loss: 0.6270 - val_mae: 0.5214\n",
      "Epoch 4/300\n",
      "\u001b[1m2/2\u001b[0m \u001b[32m━━━━━━━━━━━━━━━━━━━━\u001b[0m\u001b[37m\u001b[0m \u001b[1m0s\u001b[0m 43ms/step - loss: 1.9159 - mae: 0.9703 - val_loss: 0.6173 - val_mae: 0.5139\n",
      "Epoch 5/300\n",
      "\u001b[1m2/2\u001b[0m \u001b[32m━━━━━━━━━━━━━━━━━━━━\u001b[0m\u001b[37m\u001b[0m \u001b[1m0s\u001b[0m 43ms/step - loss: 1.8791 - mae: 0.9576 - val_loss: 0.6079 - val_mae: 0.5075\n",
      "Epoch 6/300\n",
      "\u001b[1m2/2\u001b[0m \u001b[32m━━━━━━━━━━━━━━━━━━━━\u001b[0m\u001b[37m\u001b[0m \u001b[1m0s\u001b[0m 43ms/step - loss: 1.8375 - mae: 0.9461 - val_loss: 0.5990 - val_mae: 0.5033\n",
      "Epoch 7/300\n",
      "\u001b[1m2/2\u001b[0m \u001b[32m━━━━━━━━━━━━━━━━━━━━\u001b[0m\u001b[37m\u001b[0m \u001b[1m0s\u001b[0m 43ms/step - loss: 1.8027 - mae: 0.9347 - val_loss: 0.5908 - val_mae: 0.4992\n",
      "Epoch 8/300\n",
      "\u001b[1m2/2\u001b[0m \u001b[32m━━━━━━━━━━━━━━━━━━━━\u001b[0m\u001b[37m\u001b[0m \u001b[1m0s\u001b[0m 43ms/step - loss: 1.7638 - mae: 0.9222 - val_loss: 0.5827 - val_mae: 0.4951\n",
      "Epoch 9/300\n",
      "\u001b[1m2/2\u001b[0m \u001b[32m━━━━━━━━━━━━━━━━━━━━\u001b[0m\u001b[37m\u001b[0m \u001b[1m0s\u001b[0m 45ms/step - loss: 1.7340 - mae: 0.9109 - val_loss: 0.5748 - val_mae: 0.4926\n",
      "Epoch 10/300\n",
      "\u001b[1m2/2\u001b[0m \u001b[32m━━━━━━━━━━━━━━━━━━━━\u001b[0m\u001b[37m\u001b[0m \u001b[1m0s\u001b[0m 46ms/step - loss: 1.6957 - mae: 0.9007 - val_loss: 0.5674 - val_mae: 0.4906\n",
      "Epoch 11/300\n",
      "\u001b[1m2/2\u001b[0m \u001b[32m━━━━━━━━━━━━━━━━━━━━\u001b[0m\u001b[37m\u001b[0m \u001b[1m0s\u001b[0m 46ms/step - loss: 1.6605 - mae: 0.8887 - val_loss: 0.5594 - val_mae: 0.4883\n",
      "Epoch 12/300\n",
      "\u001b[1m2/2\u001b[0m \u001b[32m━━━━━━━━━━━━━━━━━━━━\u001b[0m\u001b[37m\u001b[0m \u001b[1m0s\u001b[0m 50ms/step - loss: 1.6333 - mae: 0.8795 - val_loss: 0.5519 - val_mae: 0.4862\n",
      "Epoch 13/300\n",
      "\u001b[1m2/2\u001b[0m \u001b[32m━━━━━━━━━━━━━━━━━━━━\u001b[0m\u001b[37m\u001b[0m \u001b[1m0s\u001b[0m 49ms/step - loss: 1.6001 - mae: 0.8696 - val_loss: 0.5449 - val_mae: 0.4843\n",
      "Epoch 14/300\n",
      "\u001b[1m2/2\u001b[0m \u001b[32m━━━━━━━━━━━━━━━━━━━━\u001b[0m\u001b[37m\u001b[0m \u001b[1m0s\u001b[0m 43ms/step - loss: 1.5765 - mae: 0.8588 - val_loss: 0.5379 - val_mae: 0.4822\n",
      "Epoch 15/300\n",
      "\u001b[1m2/2\u001b[0m \u001b[32m━━━━━━━━━━━━━━━━━━━━\u001b[0m\u001b[37m\u001b[0m \u001b[1m0s\u001b[0m 43ms/step - loss: 1.5483 - mae: 0.8496 - val_loss: 0.5314 - val_mae: 0.4802\n",
      "Epoch 16/300\n",
      "\u001b[1m2/2\u001b[0m \u001b[32m━━━━━━━━━━━━━━━━━━━━\u001b[0m\u001b[37m\u001b[0m \u001b[1m0s\u001b[0m 42ms/step - loss: 1.5166 - mae: 0.8375 - val_loss: 0.5248 - val_mae: 0.4782\n",
      "Epoch 17/300\n",
      "\u001b[1m2/2\u001b[0m \u001b[32m━━━━━━━━━━━━━━━━━━━━\u001b[0m\u001b[37m\u001b[0m \u001b[1m0s\u001b[0m 43ms/step - loss: 1.4900 - mae: 0.8285 - val_loss: 0.5186 - val_mae: 0.4762\n",
      "Epoch 18/300\n",
      "\u001b[1m2/2\u001b[0m \u001b[32m━━━━━━━━━━━━━━━━━━━━\u001b[0m\u001b[37m\u001b[0m \u001b[1m0s\u001b[0m 43ms/step - loss: 1.4607 - mae: 0.8184 - val_loss: 0.5122 - val_mae: 0.4741\n",
      "Epoch 19/300\n",
      "\u001b[1m2/2\u001b[0m \u001b[32m━━━━━━━━━━━━━━━━━━━━\u001b[0m\u001b[37m\u001b[0m \u001b[1m0s\u001b[0m 42ms/step - loss: 1.4414 - mae: 0.8109 - val_loss: 0.5064 - val_mae: 0.4721\n",
      "Epoch 20/300\n",
      "\u001b[1m2/2\u001b[0m \u001b[32m━━━━━━━━━━━━━━━━━━━━\u001b[0m\u001b[37m\u001b[0m \u001b[1m0s\u001b[0m 42ms/step - loss: 1.4179 - mae: 0.8021 - val_loss: 0.5011 - val_mae: 0.4704\n",
      "Epoch 21/300\n",
      "\u001b[1m2/2\u001b[0m \u001b[32m━━━━━━━━━━━━━━━━━━━━\u001b[0m\u001b[37m\u001b[0m \u001b[1m0s\u001b[0m 42ms/step - loss: 1.3898 - mae: 0.7947 - val_loss: 0.4955 - val_mae: 0.4687\n",
      "Epoch 22/300\n",
      "\u001b[1m2/2\u001b[0m \u001b[32m━━━━━━━━━━━━━━━━━━━━\u001b[0m\u001b[37m\u001b[0m \u001b[1m0s\u001b[0m 42ms/step - loss: 1.3661 - mae: 0.7860 - val_loss: 0.4896 - val_mae: 0.4667\n",
      "Epoch 23/300\n",
      "\u001b[1m2/2\u001b[0m \u001b[32m━━━━━━━━━━━━━━━━━━━━\u001b[0m\u001b[37m\u001b[0m \u001b[1m0s\u001b[0m 47ms/step - loss: 1.3472 - mae: 0.7783 - val_loss: 0.4843 - val_mae: 0.4648\n",
      "Epoch 24/300\n",
      "\u001b[1m2/2\u001b[0m \u001b[32m━━━━━━━━━━━━━━━━━━━━\u001b[0m\u001b[37m\u001b[0m \u001b[1m0s\u001b[0m 44ms/step - loss: 1.3241 - mae: 0.7699 - val_loss: 0.4789 - val_mae: 0.4629\n",
      "Epoch 25/300\n",
      "\u001b[1m2/2\u001b[0m \u001b[32m━━━━━━━━━━━━━━━━━━━━\u001b[0m\u001b[37m\u001b[0m \u001b[1m0s\u001b[0m 44ms/step - loss: 1.3038 - mae: 0.7625 - val_loss: 0.4734 - val_mae: 0.4608\n",
      "Epoch 26/300\n",
      "\u001b[1m2/2\u001b[0m \u001b[32m━━━━━━━━━━━━━━━━━━━━\u001b[0m\u001b[37m\u001b[0m \u001b[1m0s\u001b[0m 44ms/step - loss: 1.2831 - mae: 0.7553 - val_loss: 0.4684 - val_mae: 0.4588\n",
      "Epoch 27/300\n",
      "\u001b[1m2/2\u001b[0m \u001b[32m━━━━━━━━━━━━━━━━━━━━\u001b[0m\u001b[37m\u001b[0m \u001b[1m0s\u001b[0m 48ms/step - loss: 1.2603 - mae: 0.7467 - val_loss: 0.4633 - val_mae: 0.4568\n",
      "Epoch 28/300\n",
      "\u001b[1m2/2\u001b[0m \u001b[32m━━━━━━━━━━━━━━━━━━━━\u001b[0m\u001b[37m\u001b[0m \u001b[1m0s\u001b[0m 45ms/step - loss: 1.2452 - mae: 0.7402 - val_loss: 0.4586 - val_mae: 0.4548\n",
      "Epoch 29/300\n",
      "\u001b[1m2/2\u001b[0m \u001b[32m━━━━━━━━━━━━━━━━━━━━\u001b[0m\u001b[37m\u001b[0m \u001b[1m0s\u001b[0m 44ms/step - loss: 1.2280 - mae: 0.7338 - val_loss: 0.4536 - val_mae: 0.4527\n",
      "Epoch 30/300\n",
      "\u001b[1m2/2\u001b[0m \u001b[32m━━━━━━━━━━━━━━━━━━━━\u001b[0m\u001b[37m\u001b[0m \u001b[1m0s\u001b[0m 49ms/step - loss: 1.2058 - mae: 0.7251 - val_loss: 0.4489 - val_mae: 0.4506\n",
      "Epoch 31/300\n",
      "\u001b[1m2/2\u001b[0m \u001b[32m━━━━━━━━━━━━━━━━━━━━\u001b[0m\u001b[37m\u001b[0m \u001b[1m0s\u001b[0m 45ms/step - loss: 1.1887 - mae: 0.7181 - val_loss: 0.4440 - val_mae: 0.4484\n",
      "Epoch 32/300\n",
      "\u001b[1m2/2\u001b[0m \u001b[32m━━━━━━━━━━━━━━━━━━━━\u001b[0m\u001b[37m\u001b[0m \u001b[1m0s\u001b[0m 44ms/step - loss: 1.1728 - mae: 0.7119 - val_loss: 0.4392 - val_mae: 0.4462\n",
      "Epoch 33/300\n",
      "\u001b[1m2/2\u001b[0m \u001b[32m━━━━━━━━━━━━━━━━━━━━\u001b[0m\u001b[37m\u001b[0m \u001b[1m0s\u001b[0m 44ms/step - loss: 1.1537 - mae: 0.7055 - val_loss: 0.4342 - val_mae: 0.4439\n",
      "Epoch 34/300\n",
      "\u001b[1m2/2\u001b[0m \u001b[32m━━━━━━━━━━━━━━━━━━━━\u001b[0m\u001b[37m\u001b[0m \u001b[1m0s\u001b[0m 44ms/step - loss: 1.1376 - mae: 0.7004 - val_loss: 0.4295 - val_mae: 0.4417\n",
      "Epoch 35/300\n",
      "\u001b[1m2/2\u001b[0m \u001b[32m━━━━━━━━━━━━━━━━━━━━\u001b[0m\u001b[37m\u001b[0m \u001b[1m0s\u001b[0m 46ms/step - loss: 1.1228 - mae: 0.6951 - val_loss: 0.4255 - val_mae: 0.4397\n",
      "Epoch 36/300\n",
      "\u001b[1m2/2\u001b[0m \u001b[32m━━━━━━━━━━━━━━━━━━━━\u001b[0m\u001b[37m\u001b[0m \u001b[1m0s\u001b[0m 46ms/step - loss: 1.1064 - mae: 0.6905 - val_loss: 0.4212 - val_mae: 0.4376\n",
      "Epoch 37/300\n",
      "\u001b[1m2/2\u001b[0m \u001b[32m━━━━━━━━━━━━━━━━━━━━\u001b[0m\u001b[37m\u001b[0m \u001b[1m0s\u001b[0m 44ms/step - loss: 1.0900 - mae: 0.6848 - val_loss: 0.4169 - val_mae: 0.4354\n",
      "Epoch 38/300\n",
      "\u001b[1m2/2\u001b[0m \u001b[32m━━━━━━━━━━━━━━━━━━━━\u001b[0m\u001b[37m\u001b[0m \u001b[1m0s\u001b[0m 51ms/step - loss: 1.0771 - mae: 0.6808 - val_loss: 0.4130 - val_mae: 0.4333\n",
      "Epoch 39/300\n",
      "\u001b[1m2/2\u001b[0m \u001b[32m━━━━━━━━━━━━━━━━━━━━\u001b[0m\u001b[37m\u001b[0m \u001b[1m0s\u001b[0m 43ms/step - loss: 1.0623 - mae: 0.6758 - val_loss: 0.4090 - val_mae: 0.4312\n",
      "Epoch 40/300\n",
      "\u001b[1m2/2\u001b[0m \u001b[32m━━━━━━━━━━━━━━━━━━━━\u001b[0m\u001b[37m\u001b[0m \u001b[1m0s\u001b[0m 44ms/step - loss: 1.0505 - mae: 0.6709 - val_loss: 0.4049 - val_mae: 0.4290\n",
      "Epoch 41/300\n",
      "\u001b[1m2/2\u001b[0m \u001b[32m━━━━━━━━━━━━━━━━━━━━\u001b[0m\u001b[37m\u001b[0m \u001b[1m0s\u001b[0m 43ms/step - loss: 1.0348 - mae: 0.6654 - val_loss: 0.4008 - val_mae: 0.4268\n",
      "Epoch 42/300\n",
      "\u001b[1m2/2\u001b[0m \u001b[32m━━━━━━━━━━━━━━━━━━━━\u001b[0m\u001b[37m\u001b[0m \u001b[1m0s\u001b[0m 43ms/step - loss: 1.0190 - mae: 0.6605 - val_loss: 0.3967 - val_mae: 0.4246\n",
      "Epoch 43/300\n",
      "\u001b[1m2/2\u001b[0m \u001b[32m━━━━━━━━━━━━━━━━━━━━\u001b[0m\u001b[37m\u001b[0m \u001b[1m0s\u001b[0m 42ms/step - loss: 1.0071 - mae: 0.6563 - val_loss: 0.3928 - val_mae: 0.4225\n",
      "Epoch 44/300\n",
      "\u001b[1m2/2\u001b[0m \u001b[32m━━━━━━━━━━━━━━━━━━━━\u001b[0m\u001b[37m\u001b[0m \u001b[1m0s\u001b[0m 42ms/step - loss: 0.9957 - mae: 0.6527 - val_loss: 0.3888 - val_mae: 0.4202\n",
      "Epoch 45/300\n",
      "\u001b[1m2/2\u001b[0m \u001b[32m━━━━━━━━━━━━━━━━━━━━\u001b[0m\u001b[37m\u001b[0m \u001b[1m0s\u001b[0m 42ms/step - loss: 0.9816 - mae: 0.6478 - val_loss: 0.3848 - val_mae: 0.4178\n",
      "Epoch 46/300\n",
      "\u001b[1m2/2\u001b[0m \u001b[32m━━━━━━━━━━━━━━━━━━━━\u001b[0m\u001b[37m\u001b[0m \u001b[1m0s\u001b[0m 42ms/step - loss: 0.9680 - mae: 0.6447 - val_loss: 0.3811 - val_mae: 0.4154\n",
      "Epoch 47/300\n",
      "\u001b[1m2/2\u001b[0m \u001b[32m━━━━━━━━━━━━━━━━━━━━\u001b[0m\u001b[37m\u001b[0m \u001b[1m0s\u001b[0m 42ms/step - loss: 0.9568 - mae: 0.6416 - val_loss: 0.3776 - val_mae: 0.4131\n",
      "Epoch 48/300\n",
      "\u001b[1m2/2\u001b[0m \u001b[32m━━━━━━━━━━━━━━━━━━━━\u001b[0m\u001b[37m\u001b[0m \u001b[1m0s\u001b[0m 42ms/step - loss: 0.9452 - mae: 0.6397 - val_loss: 0.3740 - val_mae: 0.4108\n",
      "Epoch 49/300\n",
      "\u001b[1m2/2\u001b[0m \u001b[32m━━━━━━━━━━━━━━━━━━━━\u001b[0m\u001b[37m\u001b[0m \u001b[1m0s\u001b[0m 43ms/step - loss: 0.9334 - mae: 0.6376 - val_loss: 0.3705 - val_mae: 0.4085\n",
      "Epoch 50/300\n",
      "\u001b[1m2/2\u001b[0m \u001b[32m━━━━━━━━━━━━━━━━━━━━\u001b[0m\u001b[37m\u001b[0m \u001b[1m0s\u001b[0m 43ms/step - loss: 0.9222 - mae: 0.6367 - val_loss: 0.3669 - val_mae: 0.4061\n",
      "Epoch 51/300\n",
      "\u001b[1m2/2\u001b[0m \u001b[32m━━━━━━━━━━━━━━━━━━━━\u001b[0m\u001b[37m\u001b[0m \u001b[1m0s\u001b[0m 44ms/step - loss: 0.9112 - mae: 0.6352 - val_loss: 0.3634 - val_mae: 0.4038\n",
      "Epoch 52/300\n",
      "\u001b[1m2/2\u001b[0m \u001b[32m━━━━━━━━━━━━━━━━━━━━\u001b[0m\u001b[37m\u001b[0m \u001b[1m0s\u001b[0m 44ms/step - loss: 0.9000 - mae: 0.6332 - val_loss: 0.3600 - val_mae: 0.4015\n",
      "Epoch 53/300\n",
      "\u001b[1m2/2\u001b[0m \u001b[32m━━━━━━━━━━━━━━━━━━━━\u001b[0m\u001b[37m\u001b[0m \u001b[1m0s\u001b[0m 44ms/step - loss: 0.8876 - mae: 0.6312 - val_loss: 0.3563 - val_mae: 0.3992\n",
      "Epoch 54/300\n",
      "\u001b[1m2/2\u001b[0m \u001b[32m━━━━━━━━━━━━━━━━━━━━\u001b[0m\u001b[37m\u001b[0m \u001b[1m0s\u001b[0m 45ms/step - loss: 0.8803 - mae: 0.6308 - val_loss: 0.3531 - val_mae: 0.3971\n",
      "Epoch 55/300\n",
      "\u001b[1m2/2\u001b[0m \u001b[32m━━━━━━━━━━━━━━━━━━━━\u001b[0m\u001b[37m\u001b[0m \u001b[1m0s\u001b[0m 42ms/step - loss: 0.8686 - mae: 0.6281 - val_loss: 0.3499 - val_mae: 0.3949\n",
      "Epoch 56/300\n",
      "\u001b[1m2/2\u001b[0m \u001b[32m━━━━━━━━━━━━━━━━━━━━\u001b[0m\u001b[37m\u001b[0m \u001b[1m0s\u001b[0m 43ms/step - loss: 0.8591 - mae: 0.6269 - val_loss: 0.3465 - val_mae: 0.3926\n",
      "Epoch 57/300\n",
      "\u001b[1m2/2\u001b[0m \u001b[32m━━━━━━━━━━━━━━━━━━━━\u001b[0m\u001b[37m\u001b[0m \u001b[1m0s\u001b[0m 42ms/step - loss: 0.8488 - mae: 0.6258 - val_loss: 0.3434 - val_mae: 0.3905\n",
      "Epoch 58/300\n",
      "\u001b[1m2/2\u001b[0m \u001b[32m━━━━━━━━━━━━━━━━━━━━\u001b[0m\u001b[37m\u001b[0m \u001b[1m0s\u001b[0m 42ms/step - loss: 0.8381 - mae: 0.6242 - val_loss: 0.3400 - val_mae: 0.3883\n",
      "Epoch 59/300\n",
      "\u001b[1m2/2\u001b[0m \u001b[32m━━━━━━━━━━━━━━━━━━━━\u001b[0m\u001b[37m\u001b[0m \u001b[1m0s\u001b[0m 42ms/step - loss: 0.8278 - mae: 0.6222 - val_loss: 0.3366 - val_mae: 0.3860\n",
      "Epoch 60/300\n",
      "\u001b[1m2/2\u001b[0m \u001b[32m━━━━━━━━━━━━━━━━━━━━\u001b[0m\u001b[37m\u001b[0m \u001b[1m0s\u001b[0m 42ms/step - loss: 0.8182 - mae: 0.6208 - val_loss: 0.3336 - val_mae: 0.3840\n",
      "Epoch 61/300\n",
      "\u001b[1m2/2\u001b[0m \u001b[32m━━━━━━━━━━━━━━━━━━━━\u001b[0m\u001b[37m\u001b[0m \u001b[1m0s\u001b[0m 43ms/step - loss: 0.8112 - mae: 0.6201 - val_loss: 0.3307 - val_mae: 0.3819\n",
      "Epoch 62/300\n",
      "\u001b[1m2/2\u001b[0m \u001b[32m━━━━━━━━━━━━━━━━━━━━\u001b[0m\u001b[37m\u001b[0m \u001b[1m0s\u001b[0m 47ms/step - loss: 0.8030 - mae: 0.6186 - val_loss: 0.3276 - val_mae: 0.3797\n",
      "Epoch 63/300\n",
      "\u001b[1m2/2\u001b[0m \u001b[32m━━━━━━━━━━━━━━━━━━━━\u001b[0m\u001b[37m\u001b[0m \u001b[1m0s\u001b[0m 44ms/step - loss: 0.7930 - mae: 0.6167 - val_loss: 0.3248 - val_mae: 0.3777\n",
      "Epoch 64/300\n",
      "\u001b[1m2/2\u001b[0m \u001b[32m━━━━━━━━━━━━━━━━━━━━\u001b[0m\u001b[37m\u001b[0m \u001b[1m0s\u001b[0m 45ms/step - loss: 0.7831 - mae: 0.6148 - val_loss: 0.3216 - val_mae: 0.3756\n",
      "Epoch 65/300\n",
      "\u001b[1m2/2\u001b[0m \u001b[32m━━━━━━━━━━━━━━━━━━━━\u001b[0m\u001b[37m\u001b[0m \u001b[1m0s\u001b[0m 46ms/step - loss: 0.7733 - mae: 0.6127 - val_loss: 0.3186 - val_mae: 0.3736\n",
      "Epoch 66/300\n",
      "\u001b[1m2/2\u001b[0m \u001b[32m━━━━━━━━━━━━━━━━━━━━\u001b[0m\u001b[37m\u001b[0m \u001b[1m0s\u001b[0m 44ms/step - loss: 0.7666 - mae: 0.6119 - val_loss: 0.3159 - val_mae: 0.3725\n",
      "Epoch 67/300\n",
      "\u001b[1m2/2\u001b[0m \u001b[32m━━━━━━━━━━━━━━━━━━━━\u001b[0m\u001b[37m\u001b[0m \u001b[1m0s\u001b[0m 59ms/step - loss: 0.7581 - mae: 0.6100 - val_loss: 0.3130 - val_mae: 0.3714\n",
      "Epoch 68/300\n",
      "\u001b[1m2/2\u001b[0m \u001b[32m━━━━━━━━━━━━━━━━━━━━\u001b[0m\u001b[37m\u001b[0m \u001b[1m0s\u001b[0m 53ms/step - loss: 0.7492 - mae: 0.6080 - val_loss: 0.3104 - val_mae: 0.3705\n",
      "Epoch 69/300\n",
      "\u001b[1m2/2\u001b[0m \u001b[32m━━━━━━━━━━━━━━━━━━━━\u001b[0m\u001b[37m\u001b[0m \u001b[1m0s\u001b[0m 43ms/step - loss: 0.7396 - mae: 0.6057 - val_loss: 0.3076 - val_mae: 0.3694\n",
      "Epoch 70/300\n",
      "\u001b[1m2/2\u001b[0m \u001b[32m━━━━━━━━━━━━━━━━━━━━\u001b[0m\u001b[37m\u001b[0m \u001b[1m0s\u001b[0m 44ms/step - loss: 0.7308 - mae: 0.6030 - val_loss: 0.3052 - val_mae: 0.3685\n",
      "Epoch 71/300\n",
      "\u001b[1m2/2\u001b[0m \u001b[32m━━━━━━━━━━━━━━━━━━━━\u001b[0m\u001b[37m\u001b[0m \u001b[1m0s\u001b[0m 45ms/step - loss: 0.7237 - mae: 0.6015 - val_loss: 0.3023 - val_mae: 0.3674\n",
      "Epoch 72/300\n",
      "\u001b[1m2/2\u001b[0m \u001b[32m━━━━━━━━━━━━━━━━━━━━\u001b[0m\u001b[37m\u001b[0m \u001b[1m0s\u001b[0m 45ms/step - loss: 0.7163 - mae: 0.6001 - val_loss: 0.2996 - val_mae: 0.3662\n",
      "Epoch 73/300\n",
      "\u001b[1m2/2\u001b[0m \u001b[32m━━━━━━━━━━━━━━━━━━━━\u001b[0m\u001b[37m\u001b[0m \u001b[1m0s\u001b[0m 45ms/step - loss: 0.7089 - mae: 0.5979 - val_loss: 0.2972 - val_mae: 0.3653\n",
      "Epoch 74/300\n",
      "\u001b[1m2/2\u001b[0m \u001b[32m━━━━━━━━━━━━━━━━━━━━\u001b[0m\u001b[37m\u001b[0m \u001b[1m0s\u001b[0m 42ms/step - loss: 0.7016 - mae: 0.5960 - val_loss: 0.2948 - val_mae: 0.3644\n",
      "Epoch 75/300\n",
      "\u001b[1m2/2\u001b[0m \u001b[32m━━━━━━━━━━━━━━━━━━━━\u001b[0m\u001b[37m\u001b[0m \u001b[1m0s\u001b[0m 45ms/step - loss: 0.6912 - mae: 0.5932 - val_loss: 0.2922 - val_mae: 0.3633\n",
      "Epoch 76/300\n",
      "\u001b[1m2/2\u001b[0m \u001b[32m━━━━━━━━━━━━━━━━━━━━\u001b[0m\u001b[37m\u001b[0m \u001b[1m0s\u001b[0m 46ms/step - loss: 0.6851 - mae: 0.5914 - val_loss: 0.2895 - val_mae: 0.3620\n",
      "Epoch 77/300\n",
      "\u001b[1m2/2\u001b[0m \u001b[32m━━━━━━━━━━━━━━━━━━━━\u001b[0m\u001b[37m\u001b[0m \u001b[1m0s\u001b[0m 44ms/step - loss: 0.6774 - mae: 0.5891 - val_loss: 0.2872 - val_mae: 0.3610\n",
      "Epoch 78/300\n",
      "\u001b[1m2/2\u001b[0m \u001b[32m━━━━━━━━━━━━━━━━━━━━\u001b[0m\u001b[37m\u001b[0m \u001b[1m0s\u001b[0m 44ms/step - loss: 0.6696 - mae: 0.5866 - val_loss: 0.2847 - val_mae: 0.3600\n",
      "Epoch 79/300\n",
      "\u001b[1m2/2\u001b[0m \u001b[32m━━━━━━━━━━━━━━━━━━━━\u001b[0m\u001b[37m\u001b[0m \u001b[1m0s\u001b[0m 44ms/step - loss: 0.6636 - mae: 0.5849 - val_loss: 0.2825 - val_mae: 0.3590\n",
      "Epoch 80/300\n",
      "\u001b[1m2/2\u001b[0m \u001b[32m━━━━━━━━━━━━━━━━━━━━\u001b[0m\u001b[37m\u001b[0m \u001b[1m0s\u001b[0m 43ms/step - loss: 0.6532 - mae: 0.5815 - val_loss: 0.2801 - val_mae: 0.3579\n",
      "Epoch 81/300\n",
      "\u001b[1m2/2\u001b[0m \u001b[32m━━━━━━━━━━━━━━━━━━━━\u001b[0m\u001b[37m\u001b[0m \u001b[1m0s\u001b[0m 42ms/step - loss: 0.6480 - mae: 0.5795 - val_loss: 0.2777 - val_mae: 0.3568\n",
      "Epoch 82/300\n",
      "\u001b[1m2/2\u001b[0m \u001b[32m━━━━━━━━━━━━━━━━━━━━\u001b[0m\u001b[37m\u001b[0m \u001b[1m0s\u001b[0m 41ms/step - loss: 0.6396 - mae: 0.5769 - val_loss: 0.2754 - val_mae: 0.3557\n",
      "Epoch 83/300\n",
      "\u001b[1m2/2\u001b[0m \u001b[32m━━━━━━━━━━━━━━━━━━━━\u001b[0m\u001b[37m\u001b[0m \u001b[1m0s\u001b[0m 42ms/step - loss: 0.6340 - mae: 0.5750 - val_loss: 0.2732 - val_mae: 0.3546\n",
      "Epoch 84/300\n",
      "\u001b[1m2/2\u001b[0m \u001b[32m━━━━━━━━━━━━━━━━━━━━\u001b[0m\u001b[37m\u001b[0m \u001b[1m0s\u001b[0m 42ms/step - loss: 0.6246 - mae: 0.5718 - val_loss: 0.2707 - val_mae: 0.3534\n",
      "Epoch 85/300\n",
      "\u001b[1m2/2\u001b[0m \u001b[32m━━━━━━━━━━━━━━━━━━━━\u001b[0m\u001b[37m\u001b[0m \u001b[1m0s\u001b[0m 45ms/step - loss: 0.6186 - mae: 0.5696 - val_loss: 0.2684 - val_mae: 0.3521\n",
      "Epoch 86/300\n",
      "\u001b[1m2/2\u001b[0m \u001b[32m━━━━━━━━━━━━━━━━━━━━\u001b[0m\u001b[37m\u001b[0m \u001b[1m0s\u001b[0m 44ms/step - loss: 0.6110 - mae: 0.5666 - val_loss: 0.2659 - val_mae: 0.3507\n",
      "Epoch 87/300\n",
      "\u001b[1m2/2\u001b[0m \u001b[32m━━━━━━━━━━━━━━━━━━━━\u001b[0m\u001b[37m\u001b[0m \u001b[1m0s\u001b[0m 44ms/step - loss: 0.6048 - mae: 0.5640 - val_loss: 0.2637 - val_mae: 0.3494\n",
      "Epoch 88/300\n",
      "\u001b[1m2/2\u001b[0m \u001b[32m━━━━━━━━━━━━━━━━━━━━\u001b[0m\u001b[37m\u001b[0m \u001b[1m0s\u001b[0m 44ms/step - loss: 0.5981 - mae: 0.5615 - val_loss: 0.2613 - val_mae: 0.3483\n",
      "Epoch 89/300\n",
      "\u001b[1m2/2\u001b[0m \u001b[32m━━━━━━━━━━━━━━━━━━━━\u001b[0m\u001b[37m\u001b[0m \u001b[1m0s\u001b[0m 50ms/step - loss: 0.5910 - mae: 0.5587 - val_loss: 0.2590 - val_mae: 0.3471\n",
      "Epoch 90/300\n",
      "\u001b[1m2/2\u001b[0m \u001b[32m━━━━━━━━━━━━━━━━━━━━\u001b[0m\u001b[37m\u001b[0m \u001b[1m0s\u001b[0m 42ms/step - loss: 0.5826 - mae: 0.5555 - val_loss: 0.2566 - val_mae: 0.3460\n",
      "Epoch 91/300\n",
      "\u001b[1m2/2\u001b[0m \u001b[32m━━━━━━━━━━━━━━━━━━━━\u001b[0m\u001b[37m\u001b[0m \u001b[1m0s\u001b[0m 42ms/step - loss: 0.5765 - mae: 0.5528 - val_loss: 0.2545 - val_mae: 0.3450\n",
      "Epoch 92/300\n",
      "\u001b[1m2/2\u001b[0m \u001b[32m━━━━━━━━━━━━━━━━━━━━\u001b[0m\u001b[37m\u001b[0m \u001b[1m0s\u001b[0m 43ms/step - loss: 0.5695 - mae: 0.5498 - val_loss: 0.2525 - val_mae: 0.3442\n",
      "Epoch 93/300\n",
      "\u001b[1m2/2\u001b[0m \u001b[32m━━━━━━━━━━━━━━━━━━━━\u001b[0m\u001b[37m\u001b[0m \u001b[1m0s\u001b[0m 42ms/step - loss: 0.5630 - mae: 0.5473 - val_loss: 0.2505 - val_mae: 0.3434\n",
      "Epoch 94/300\n",
      "\u001b[1m2/2\u001b[0m \u001b[32m━━━━━━━━━━━━━━━━━━━━\u001b[0m\u001b[37m\u001b[0m \u001b[1m0s\u001b[0m 42ms/step - loss: 0.5561 - mae: 0.5444 - val_loss: 0.2485 - val_mae: 0.3424\n",
      "Epoch 95/300\n",
      "\u001b[1m2/2\u001b[0m \u001b[32m━━━━━━━━━━━━━━━━━━━━\u001b[0m\u001b[37m\u001b[0m \u001b[1m0s\u001b[0m 46ms/step - loss: 0.5501 - mae: 0.5419 - val_loss: 0.2465 - val_mae: 0.3414\n",
      "Epoch 96/300\n",
      "\u001b[1m2/2\u001b[0m \u001b[32m━━━━━━━━━━━━━━━━━━━━\u001b[0m\u001b[37m\u001b[0m \u001b[1m0s\u001b[0m 45ms/step - loss: 0.5434 - mae: 0.5392 - val_loss: 0.2446 - val_mae: 0.3406\n",
      "Epoch 97/300\n",
      "\u001b[1m2/2\u001b[0m \u001b[32m━━━━━━━━━━━━━━━━━━━━\u001b[0m\u001b[37m\u001b[0m \u001b[1m0s\u001b[0m 45ms/step - loss: 0.5364 - mae: 0.5362 - val_loss: 0.2426 - val_mae: 0.3397\n",
      "Epoch 98/300\n",
      "\u001b[1m2/2\u001b[0m \u001b[32m━━━━━━━━━━━━━━━━━━━━\u001b[0m\u001b[37m\u001b[0m \u001b[1m0s\u001b[0m 46ms/step - loss: 0.5297 - mae: 0.5332 - val_loss: 0.2409 - val_mae: 0.3391\n",
      "Epoch 99/300\n",
      "\u001b[1m2/2\u001b[0m \u001b[32m━━━━━━━━━━━━━━━━━━━━\u001b[0m\u001b[37m\u001b[0m \u001b[1m0s\u001b[0m 56ms/step - loss: 0.5236 - mae: 0.5307 - val_loss: 0.2390 - val_mae: 0.3382\n",
      "Epoch 100/300\n",
      "\u001b[1m2/2\u001b[0m \u001b[32m━━━━━━━━━━━━━━━━━━━━\u001b[0m\u001b[37m\u001b[0m \u001b[1m0s\u001b[0m 43ms/step - loss: 0.5166 - mae: 0.5278 - val_loss: 0.2372 - val_mae: 0.3375\n",
      "Epoch 101/300\n",
      "\u001b[1m2/2\u001b[0m \u001b[32m━━━━━━━━━━━━━━━━━━━━\u001b[0m\u001b[37m\u001b[0m \u001b[1m0s\u001b[0m 42ms/step - loss: 0.5120 - mae: 0.5255 - val_loss: 0.2355 - val_mae: 0.3367\n",
      "Epoch 102/300\n",
      "\u001b[1m2/2\u001b[0m \u001b[32m━━━━━━━━━━━━━━━━━━━━\u001b[0m\u001b[37m\u001b[0m \u001b[1m0s\u001b[0m 42ms/step - loss: 0.5054 - mae: 0.5227 - val_loss: 0.2338 - val_mae: 0.3359\n",
      "Epoch 103/300\n",
      "\u001b[1m2/2\u001b[0m \u001b[32m━━━━━━━━━━━━━━━━━━━━\u001b[0m\u001b[37m\u001b[0m \u001b[1m0s\u001b[0m 42ms/step - loss: 0.4974 - mae: 0.5193 - val_loss: 0.2320 - val_mae: 0.3350\n",
      "Epoch 104/300\n",
      "\u001b[1m2/2\u001b[0m \u001b[32m━━━━━━━━━━━━━━━━━━━━\u001b[0m\u001b[37m\u001b[0m \u001b[1m0s\u001b[0m 42ms/step - loss: 0.4924 - mae: 0.5168 - val_loss: 0.2302 - val_mae: 0.3339\n",
      "Epoch 105/300\n",
      "\u001b[1m2/2\u001b[0m \u001b[32m━━━━━━━━━━━━━━━━━━━━\u001b[0m\u001b[37m\u001b[0m \u001b[1m0s\u001b[0m 45ms/step - loss: 0.4864 - mae: 0.5141 - val_loss: 0.2286 - val_mae: 0.3329\n",
      "Epoch 106/300\n",
      "\u001b[1m2/2\u001b[0m \u001b[32m━━━━━━━━━━━━━━━━━━━━\u001b[0m\u001b[37m\u001b[0m \u001b[1m0s\u001b[0m 52ms/step - loss: 0.4799 - mae: 0.5110 - val_loss: 0.2268 - val_mae: 0.3317\n",
      "Epoch 107/300\n",
      "\u001b[1m2/2\u001b[0m \u001b[32m━━━━━━━━━━━━━━━━━━━━\u001b[0m\u001b[37m\u001b[0m \u001b[1m0s\u001b[0m 46ms/step - loss: 0.4738 - mae: 0.5080 - val_loss: 0.2251 - val_mae: 0.3306\n",
      "Epoch 108/300\n",
      "\u001b[1m2/2\u001b[0m \u001b[32m━━━━━━━━━━━━━━━━━━━━\u001b[0m\u001b[37m\u001b[0m \u001b[1m0s\u001b[0m 45ms/step - loss: 0.4680 - mae: 0.5053 - val_loss: 0.2235 - val_mae: 0.3296\n",
      "Epoch 109/300\n",
      "\u001b[1m2/2\u001b[0m \u001b[32m━━━━━━━━━━━━━━━━━━━━\u001b[0m\u001b[37m\u001b[0m \u001b[1m0s\u001b[0m 53ms/step - loss: 0.4617 - mae: 0.5022 - val_loss: 0.2219 - val_mae: 0.3286\n",
      "Epoch 110/300\n",
      "\u001b[1m2/2\u001b[0m \u001b[32m━━━━━━━━━━━━━━━━━━━━\u001b[0m\u001b[37m\u001b[0m \u001b[1m0s\u001b[0m 42ms/step - loss: 0.4552 - mae: 0.4992 - val_loss: 0.2203 - val_mae: 0.3274\n",
      "Epoch 111/300\n",
      "\u001b[1m2/2\u001b[0m \u001b[32m━━━━━━━━━━━━━━━━━━━━\u001b[0m\u001b[37m\u001b[0m \u001b[1m0s\u001b[0m 44ms/step - loss: 0.4501 - mae: 0.4965 - val_loss: 0.2191 - val_mae: 0.3266\n",
      "Epoch 112/300\n",
      "\u001b[1m2/2\u001b[0m \u001b[32m━━━━━━━━━━━━━━━━━━━━\u001b[0m\u001b[37m\u001b[0m \u001b[1m0s\u001b[0m 44ms/step - loss: 0.4441 - mae: 0.4934 - val_loss: 0.2175 - val_mae: 0.3254\n",
      "Epoch 113/300\n",
      "\u001b[1m2/2\u001b[0m \u001b[32m━━━━━━━━━━━━━━━━━━━━\u001b[0m\u001b[37m\u001b[0m \u001b[1m0s\u001b[0m 43ms/step - loss: 0.4389 - mae: 0.4905 - val_loss: 0.2162 - val_mae: 0.3245\n",
      "Epoch 114/300\n",
      "\u001b[1m2/2\u001b[0m \u001b[32m━━━━━━━━━━━━━━━━━━━━\u001b[0m\u001b[37m\u001b[0m \u001b[1m0s\u001b[0m 45ms/step - loss: 0.4321 - mae: 0.4872 - val_loss: 0.2148 - val_mae: 0.3235\n",
      "Epoch 115/300\n",
      "\u001b[1m2/2\u001b[0m \u001b[32m━━━━━━━━━━━━━━━━━━━━\u001b[0m\u001b[37m\u001b[0m \u001b[1m0s\u001b[0m 46ms/step - loss: 0.4269 - mae: 0.4845 - val_loss: 0.2135 - val_mae: 0.3225\n",
      "Epoch 116/300\n",
      "\u001b[1m2/2\u001b[0m \u001b[32m━━━━━━━━━━━━━━━━━━━━\u001b[0m\u001b[37m\u001b[0m \u001b[1m0s\u001b[0m 45ms/step - loss: 0.4217 - mae: 0.4816 - val_loss: 0.2120 - val_mae: 0.3216\n",
      "Epoch 117/300\n",
      "\u001b[1m2/2\u001b[0m \u001b[32m━━━━━━━━━━━━━━━━━━━━\u001b[0m\u001b[37m\u001b[0m \u001b[1m0s\u001b[0m 45ms/step - loss: 0.4153 - mae: 0.4785 - val_loss: 0.2107 - val_mae: 0.3209\n",
      "Epoch 118/300\n",
      "\u001b[1m2/2\u001b[0m \u001b[32m━━━━━━━━━━━━━━━━━━━━\u001b[0m\u001b[37m\u001b[0m \u001b[1m0s\u001b[0m 52ms/step - loss: 0.4095 - mae: 0.4752 - val_loss: 0.2093 - val_mae: 0.3202\n",
      "Epoch 119/300\n",
      "\u001b[1m2/2\u001b[0m \u001b[32m━━━━━━━━━━━━━━━━━━━━\u001b[0m\u001b[37m\u001b[0m \u001b[1m0s\u001b[0m 42ms/step - loss: 0.4042 - mae: 0.4723 - val_loss: 0.2081 - val_mae: 0.3196\n",
      "Epoch 120/300\n",
      "\u001b[1m2/2\u001b[0m \u001b[32m━━━━━━━━━━━━━━━━━━━━\u001b[0m\u001b[37m\u001b[0m \u001b[1m0s\u001b[0m 42ms/step - loss: 0.3992 - mae: 0.4694 - val_loss: 0.2069 - val_mae: 0.3190\n",
      "Epoch 121/300\n",
      "\u001b[1m2/2\u001b[0m \u001b[32m━━━━━━━━━━━━━━━━━━━━\u001b[0m\u001b[37m\u001b[0m \u001b[1m0s\u001b[0m 42ms/step - loss: 0.3930 - mae: 0.4662 - val_loss: 0.2056 - val_mae: 0.3182\n",
      "Epoch 122/300\n",
      "\u001b[1m2/2\u001b[0m \u001b[32m━━━━━━━━━━━━━━━━━━━━\u001b[0m\u001b[37m\u001b[0m \u001b[1m0s\u001b[0m 49ms/step - loss: 0.3878 - mae: 0.4631 - val_loss: 0.2044 - val_mae: 0.3176\n",
      "Epoch 123/300\n",
      "\u001b[1m2/2\u001b[0m \u001b[32m━━━━━━━━━━━━━━━━━━━━\u001b[0m\u001b[37m\u001b[0m \u001b[1m0s\u001b[0m 47ms/step - loss: 0.3829 - mae: 0.4602 - val_loss: 0.2030 - val_mae: 0.3168\n",
      "Epoch 124/300\n",
      "\u001b[1m2/2\u001b[0m \u001b[32m━━━━━━━━━━━━━━━━━━━━\u001b[0m\u001b[37m\u001b[0m \u001b[1m0s\u001b[0m 51ms/step - loss: 0.3785 - mae: 0.4573 - val_loss: 0.2018 - val_mae: 0.3161\n",
      "Epoch 125/300\n",
      "\u001b[1m2/2\u001b[0m \u001b[32m━━━━━━━━━━━━━━━━━━━━\u001b[0m\u001b[37m\u001b[0m \u001b[1m0s\u001b[0m 47ms/step - loss: 0.3723 - mae: 0.4537 - val_loss: 0.2004 - val_mae: 0.3152\n",
      "Epoch 126/300\n",
      "\u001b[1m2/2\u001b[0m \u001b[32m━━━━━━━━━━━━━━━━━━━━\u001b[0m\u001b[37m\u001b[0m \u001b[1m0s\u001b[0m 47ms/step - loss: 0.3678 - mae: 0.4506 - val_loss: 0.1993 - val_mae: 0.3145\n",
      "Epoch 127/300\n",
      "\u001b[1m2/2\u001b[0m \u001b[32m━━━━━━━━━━━━━━━━━━━━\u001b[0m\u001b[37m\u001b[0m \u001b[1m0s\u001b[0m 61ms/step - loss: 0.3612 - mae: 0.4466 - val_loss: 0.1981 - val_mae: 0.3137\n",
      "Epoch 128/300\n",
      "\u001b[1m2/2\u001b[0m \u001b[32m━━━━━━━━━━━━━━━━━━━━\u001b[0m\u001b[37m\u001b[0m \u001b[1m0s\u001b[0m 44ms/step - loss: 0.3570 - mae: 0.4436 - val_loss: 0.1970 - val_mae: 0.3127\n",
      "Epoch 129/300\n",
      "\u001b[1m2/2\u001b[0m \u001b[32m━━━━━━━━━━━━━━━━━━━━\u001b[0m\u001b[37m\u001b[0m \u001b[1m0s\u001b[0m 44ms/step - loss: 0.3528 - mae: 0.4405 - val_loss: 0.1961 - val_mae: 0.3120\n",
      "Epoch 130/300\n",
      "\u001b[1m2/2\u001b[0m \u001b[32m━━━━━━━━━━━━━━━━━━━━\u001b[0m\u001b[37m\u001b[0m \u001b[1m0s\u001b[0m 47ms/step - loss: 0.3475 - mae: 0.4370 - val_loss: 0.1951 - val_mae: 0.3109\n",
      "Epoch 131/300\n",
      "\u001b[1m2/2\u001b[0m \u001b[32m━━━━━━━━━━━━━━━━━━━━\u001b[0m\u001b[37m\u001b[0m \u001b[1m0s\u001b[0m 42ms/step - loss: 0.3422 - mae: 0.4336 - val_loss: 0.1941 - val_mae: 0.3100\n",
      "Epoch 132/300\n",
      "\u001b[1m2/2\u001b[0m \u001b[32m━━━━━━━━━━━━━━━━━━━━\u001b[0m\u001b[37m\u001b[0m \u001b[1m0s\u001b[0m 45ms/step - loss: 0.3377 - mae: 0.4303 - val_loss: 0.1933 - val_mae: 0.3092\n",
      "Epoch 133/300\n",
      "\u001b[1m2/2\u001b[0m \u001b[32m━━━━━━━━━━━━━━━━━━━━\u001b[0m\u001b[37m\u001b[0m \u001b[1m0s\u001b[0m 45ms/step - loss: 0.3327 - mae: 0.4269 - val_loss: 0.1926 - val_mae: 0.3084\n",
      "Epoch 134/300\n",
      "\u001b[1m2/2\u001b[0m \u001b[32m━━━━━━━━━━━━━━━━━━━━\u001b[0m\u001b[37m\u001b[0m \u001b[1m0s\u001b[0m 46ms/step - loss: 0.3274 - mae: 0.4236 - val_loss: 0.1919 - val_mae: 0.3075\n",
      "Epoch 135/300\n",
      "\u001b[1m2/2\u001b[0m \u001b[32m━━━━━━━━━━━━━━━━━━━━\u001b[0m\u001b[37m\u001b[0m \u001b[1m0s\u001b[0m 50ms/step - loss: 0.3229 - mae: 0.4203 - val_loss: 0.1910 - val_mae: 0.3066\n",
      "Epoch 136/300\n",
      "\u001b[1m2/2\u001b[0m \u001b[32m━━━━━━━━━━━━━━━━━━━━\u001b[0m\u001b[37m\u001b[0m \u001b[1m0s\u001b[0m 49ms/step - loss: 0.3182 - mae: 0.4171 - val_loss: 0.1900 - val_mae: 0.3056\n",
      "Epoch 137/300\n",
      "\u001b[1m2/2\u001b[0m \u001b[32m━━━━━━━━━━━━━━━━━━━━\u001b[0m\u001b[37m\u001b[0m \u001b[1m0s\u001b[0m 43ms/step - loss: 0.3136 - mae: 0.4137 - val_loss: 0.1895 - val_mae: 0.3049\n",
      "Epoch 138/300\n",
      "\u001b[1m2/2\u001b[0m \u001b[32m━━━━━━━━━━━━━━━━━━━━\u001b[0m\u001b[37m\u001b[0m \u001b[1m0s\u001b[0m 43ms/step - loss: 0.3099 - mae: 0.4109 - val_loss: 0.1888 - val_mae: 0.3040\n",
      "Epoch 139/300\n",
      "\u001b[1m2/2\u001b[0m \u001b[32m━━━━━━━━━━━━━━━━━━━━\u001b[0m\u001b[37m\u001b[0m \u001b[1m0s\u001b[0m 42ms/step - loss: 0.3049 - mae: 0.4073 - val_loss: 0.1881 - val_mae: 0.3036\n",
      "Epoch 140/300\n",
      "\u001b[1m2/2\u001b[0m \u001b[32m━━━━━━━━━━━━━━━━━━━━\u001b[0m\u001b[37m\u001b[0m \u001b[1m0s\u001b[0m 42ms/step - loss: 0.2997 - mae: 0.4036 - val_loss: 0.1874 - val_mae: 0.3029\n",
      "Epoch 141/300\n",
      "\u001b[1m2/2\u001b[0m \u001b[32m━━━━━━━━━━━━━━━━━━━━\u001b[0m\u001b[37m\u001b[0m \u001b[1m0s\u001b[0m 46ms/step - loss: 0.2962 - mae: 0.4010 - val_loss: 0.1868 - val_mae: 0.3025\n",
      "Epoch 142/300\n",
      "\u001b[1m2/2\u001b[0m \u001b[32m━━━━━━━━━━━━━━━━━━━━\u001b[0m\u001b[37m\u001b[0m \u001b[1m0s\u001b[0m 46ms/step - loss: 0.2910 - mae: 0.3974 - val_loss: 0.1861 - val_mae: 0.3019\n",
      "Epoch 143/300\n",
      "\u001b[1m2/2\u001b[0m \u001b[32m━━━━━━━━━━━━━━━━━━━━\u001b[0m\u001b[37m\u001b[0m \u001b[1m0s\u001b[0m 45ms/step - loss: 0.2868 - mae: 0.3943 - val_loss: 0.1855 - val_mae: 0.3015\n",
      "Epoch 144/300\n",
      "\u001b[1m2/2\u001b[0m \u001b[32m━━━━━━━━━━━━━━━━━━━━\u001b[0m\u001b[37m\u001b[0m \u001b[1m0s\u001b[0m 46ms/step - loss: 0.2824 - mae: 0.3910 - val_loss: 0.1851 - val_mae: 0.3011\n",
      "Epoch 145/300\n",
      "\u001b[1m2/2\u001b[0m \u001b[32m━━━━━━━━━━━━━━━━━━━━\u001b[0m\u001b[37m\u001b[0m \u001b[1m0s\u001b[0m 50ms/step - loss: 0.2782 - mae: 0.3880 - val_loss: 0.1846 - val_mae: 0.3007\n",
      "Epoch 146/300\n",
      "\u001b[1m2/2\u001b[0m \u001b[32m━━━━━━━━━━━━━━━━━━━━\u001b[0m\u001b[37m\u001b[0m \u001b[1m0s\u001b[0m 44ms/step - loss: 0.2737 - mae: 0.3846 - val_loss: 0.1838 - val_mae: 0.3000\n",
      "Epoch 147/300\n",
      "\u001b[1m2/2\u001b[0m \u001b[32m━━━━━━━━━━━━━━━━━━━━\u001b[0m\u001b[37m\u001b[0m \u001b[1m0s\u001b[0m 44ms/step - loss: 0.2694 - mae: 0.3814 - val_loss: 0.1833 - val_mae: 0.2995\n",
      "Epoch 148/300\n",
      "\u001b[1m2/2\u001b[0m \u001b[32m━━━━━━━━━━━━━━━━━━━━\u001b[0m\u001b[37m\u001b[0m \u001b[1m0s\u001b[0m 44ms/step - loss: 0.2656 - mae: 0.3783 - val_loss: 0.1828 - val_mae: 0.2990\n",
      "Epoch 149/300\n",
      "\u001b[1m2/2\u001b[0m \u001b[32m━━━━━━━━━━━━━━━━━━━━\u001b[0m\u001b[37m\u001b[0m \u001b[1m0s\u001b[0m 46ms/step - loss: 0.2610 - mae: 0.3750 - val_loss: 0.1821 - val_mae: 0.2983\n",
      "Epoch 150/300\n",
      "\u001b[1m2/2\u001b[0m \u001b[32m━━━━━━━━━━━━━━━━━━━━\u001b[0m\u001b[37m\u001b[0m \u001b[1m0s\u001b[0m 45ms/step - loss: 0.2576 - mae: 0.3722 - val_loss: 0.1818 - val_mae: 0.2980\n",
      "Epoch 151/300\n",
      "\u001b[1m2/2\u001b[0m \u001b[32m━━━━━━━━━━━━━━━━━━━━\u001b[0m\u001b[37m\u001b[0m \u001b[1m0s\u001b[0m 45ms/step - loss: 0.2527 - mae: 0.3685 - val_loss: 0.1814 - val_mae: 0.2975\n",
      "Epoch 152/300\n",
      "\u001b[1m2/2\u001b[0m \u001b[32m━━━━━━━━━━━━━━━━━━━━\u001b[0m\u001b[37m\u001b[0m \u001b[1m0s\u001b[0m 45ms/step - loss: 0.2499 - mae: 0.3660 - val_loss: 0.1812 - val_mae: 0.2973\n",
      "Epoch 153/300\n",
      "\u001b[1m2/2\u001b[0m \u001b[32m━━━━━━━━━━━━━━━━━━━━\u001b[0m\u001b[37m\u001b[0m \u001b[1m0s\u001b[0m 45ms/step - loss: 0.2458 - mae: 0.3630 - val_loss: 0.1810 - val_mae: 0.2971\n",
      "Epoch 154/300\n",
      "\u001b[1m2/2\u001b[0m \u001b[32m━━━━━━━━━━━━━━━━━━━━\u001b[0m\u001b[37m\u001b[0m \u001b[1m0s\u001b[0m 46ms/step - loss: 0.2417 - mae: 0.3600 - val_loss: 0.1809 - val_mae: 0.2969\n",
      "Epoch 155/300\n",
      "\u001b[1m2/2\u001b[0m \u001b[32m━━━━━━━━━━━━━━━━━━━━\u001b[0m\u001b[37m\u001b[0m \u001b[1m0s\u001b[0m 45ms/step - loss: 0.2372 - mae: 0.3566 - val_loss: 0.1808 - val_mae: 0.2969\n",
      "Epoch 156/300\n",
      "\u001b[1m2/2\u001b[0m \u001b[32m━━━━━━━━━━━━━━━━━━━━\u001b[0m\u001b[37m\u001b[0m \u001b[1m0s\u001b[0m 43ms/step - loss: 0.2331 - mae: 0.3534 - val_loss: 0.1805 - val_mae: 0.2966\n",
      "Epoch 157/300\n",
      "\u001b[1m2/2\u001b[0m \u001b[32m━━━━━━━━━━━━━━━━━━━━\u001b[0m\u001b[37m\u001b[0m \u001b[1m0s\u001b[0m 45ms/step - loss: 0.2298 - mae: 0.3505 - val_loss: 0.1803 - val_mae: 0.2963\n",
      "Epoch 158/300\n",
      "\u001b[1m2/2\u001b[0m \u001b[32m━━━━━━━━━━━━━━━━━━━━\u001b[0m\u001b[37m\u001b[0m \u001b[1m0s\u001b[0m 46ms/step - loss: 0.2259 - mae: 0.3473 - val_loss: 0.1801 - val_mae: 0.2960\n",
      "Epoch 159/300\n",
      "\u001b[1m2/2\u001b[0m \u001b[32m━━━━━━━━━━━━━━━━━━━━\u001b[0m\u001b[37m\u001b[0m \u001b[1m0s\u001b[0m 47ms/step - loss: 0.2230 - mae: 0.3449 - val_loss: 0.1801 - val_mae: 0.2958\n",
      "Epoch 160/300\n",
      "\u001b[1m2/2\u001b[0m \u001b[32m━━━━━━━━━━━━━━━━━━━━\u001b[0m\u001b[37m\u001b[0m \u001b[1m0s\u001b[0m 46ms/step - loss: 0.2182 - mae: 0.3416 - val_loss: 0.1800 - val_mae: 0.2956\n",
      "Epoch 161/300\n",
      "\u001b[1m2/2\u001b[0m \u001b[32m━━━━━━━━━━━━━━━━━━━━\u001b[0m\u001b[37m\u001b[0m \u001b[1m0s\u001b[0m 46ms/step - loss: 0.2152 - mae: 0.3387 - val_loss: 0.1799 - val_mae: 0.2955\n",
      "Epoch 162/300\n",
      "\u001b[1m2/2\u001b[0m \u001b[32m━━━━━━━━━━━━━━━━━━━━\u001b[0m\u001b[37m\u001b[0m \u001b[1m0s\u001b[0m 60ms/step - loss: 0.2121 - mae: 0.3358 - val_loss: 0.1799 - val_mae: 0.2952\n",
      "Epoch 163/300\n",
      "\u001b[1m2/2\u001b[0m \u001b[32m━━━━━━━━━━━━━━━━━━━━\u001b[0m\u001b[37m\u001b[0m \u001b[1m0s\u001b[0m 44ms/step - loss: 0.2086 - mae: 0.3328 - val_loss: 0.1798 - val_mae: 0.2949\n",
      "Epoch 164/300\n",
      "\u001b[1m2/2\u001b[0m \u001b[32m━━━━━━━━━━━━━━━━━━━━\u001b[0m\u001b[37m\u001b[0m \u001b[1m0s\u001b[0m 45ms/step - loss: 0.2045 - mae: 0.3297 - val_loss: 0.1796 - val_mae: 0.2944\n",
      "Epoch 165/300\n",
      "\u001b[1m2/2\u001b[0m \u001b[32m━━━━━━━━━━━━━━━━━━━━\u001b[0m\u001b[37m\u001b[0m \u001b[1m0s\u001b[0m 45ms/step - loss: 0.2008 - mae: 0.3268 - val_loss: 0.1793 - val_mae: 0.2939\n",
      "Epoch 166/300\n",
      "\u001b[1m2/2\u001b[0m \u001b[32m━━━━━━━━━━━━━━━━━━━━\u001b[0m\u001b[37m\u001b[0m \u001b[1m0s\u001b[0m 46ms/step - loss: 0.1979 - mae: 0.3239 - val_loss: 0.1790 - val_mae: 0.2934\n",
      "Epoch 167/300\n",
      "\u001b[1m2/2\u001b[0m \u001b[32m━━━━━━━━━━━━━━━━━━━━\u001b[0m\u001b[37m\u001b[0m \u001b[1m0s\u001b[0m 46ms/step - loss: 0.1942 - mae: 0.3209 - val_loss: 0.1786 - val_mae: 0.2928\n",
      "Epoch 168/300\n",
      "\u001b[1m2/2\u001b[0m \u001b[32m━━━━━━━━━━━━━━━━━━━━\u001b[0m\u001b[37m\u001b[0m \u001b[1m0s\u001b[0m 45ms/step - loss: 0.1914 - mae: 0.3181 - val_loss: 0.1783 - val_mae: 0.2923\n",
      "Epoch 169/300\n",
      "\u001b[1m2/2\u001b[0m \u001b[32m━━━━━━━━━━━━━━━━━━━━\u001b[0m\u001b[37m\u001b[0m \u001b[1m0s\u001b[0m 46ms/step - loss: 0.1882 - mae: 0.3152 - val_loss: 0.1782 - val_mae: 0.2919\n",
      "Epoch 170/300\n",
      "\u001b[1m2/2\u001b[0m \u001b[32m━━━━━━━━━━━━━━━━━━━━\u001b[0m\u001b[37m\u001b[0m \u001b[1m0s\u001b[0m 45ms/step - loss: 0.1850 - mae: 0.3126 - val_loss: 0.1781 - val_mae: 0.2917\n",
      "Epoch 171/300\n",
      "\u001b[1m2/2\u001b[0m \u001b[32m━━━━━━━━━━━━━━━━━━━━\u001b[0m\u001b[37m\u001b[0m \u001b[1m0s\u001b[0m 64ms/step - loss: 0.1818 - mae: 0.3097 - val_loss: 0.1780 - val_mae: 0.2914\n",
      "Epoch 172/300\n",
      "\u001b[1m2/2\u001b[0m \u001b[32m━━━━━━━━━━━━━━━━━━━━\u001b[0m\u001b[37m\u001b[0m \u001b[1m0s\u001b[0m 45ms/step - loss: 0.1790 - mae: 0.3073 - val_loss: 0.1779 - val_mae: 0.2912\n",
      "Epoch 173/300\n",
      "\u001b[1m2/2\u001b[0m \u001b[32m━━━━━━━━━━━━━━━━━━━━\u001b[0m\u001b[37m\u001b[0m \u001b[1m0s\u001b[0m 44ms/step - loss: 0.1765 - mae: 0.3047 - val_loss: 0.1779 - val_mae: 0.2910\n",
      "Epoch 174/300\n",
      "\u001b[1m2/2\u001b[0m \u001b[32m━━━━━━━━━━━━━━━━━━━━\u001b[0m\u001b[37m\u001b[0m \u001b[1m0s\u001b[0m 44ms/step - loss: 0.1725 - mae: 0.3013 - val_loss: 0.1777 - val_mae: 0.2905\n",
      "Epoch 175/300\n",
      "\u001b[1m2/2\u001b[0m \u001b[32m━━━━━━━━━━━━━━━━━━━━\u001b[0m\u001b[37m\u001b[0m \u001b[1m0s\u001b[0m 46ms/step - loss: 0.1701 - mae: 0.2987 - val_loss: 0.1775 - val_mae: 0.2902\n",
      "Epoch 176/300\n",
      "\u001b[1m2/2\u001b[0m \u001b[32m━━━━━━━━━━━━━━━━━━━━\u001b[0m\u001b[37m\u001b[0m \u001b[1m0s\u001b[0m 46ms/step - loss: 0.1671 - mae: 0.2955 - val_loss: 0.1774 - val_mae: 0.2900\n",
      "Epoch 177/300\n",
      "\u001b[1m2/2\u001b[0m \u001b[32m━━━━━━━━━━━━━━━━━━━━\u001b[0m\u001b[37m\u001b[0m \u001b[1m0s\u001b[0m 47ms/step - loss: 0.1643 - mae: 0.2927 - val_loss: 0.1774 - val_mae: 0.2898\n",
      "Epoch 178/300\n",
      "\u001b[1m2/2\u001b[0m \u001b[32m━━━━━━━━━━━━━━━━━━━━\u001b[0m\u001b[37m\u001b[0m \u001b[1m0s\u001b[0m 45ms/step - loss: 0.1616 - mae: 0.2902 - val_loss: 0.1774 - val_mae: 0.2895\n",
      "Epoch 179/300\n",
      "\u001b[1m2/2\u001b[0m \u001b[32m━━━━━━━━━━━━━━━━━━━━\u001b[0m\u001b[37m\u001b[0m \u001b[1m0s\u001b[0m 45ms/step - loss: 0.1594 - mae: 0.2880 - val_loss: 0.1774 - val_mae: 0.2893\n",
      "Epoch 180/300\n",
      "\u001b[1m2/2\u001b[0m \u001b[32m━━━━━━━━━━━━━━━━━━━━\u001b[0m\u001b[37m\u001b[0m \u001b[1m0s\u001b[0m 58ms/step - loss: 0.1561 - mae: 0.2849 - val_loss: 0.1773 - val_mae: 0.2890\n",
      "Epoch 181/300\n",
      "\u001b[1m2/2\u001b[0m \u001b[32m━━━━━━━━━━━━━━━━━━━━\u001b[0m\u001b[37m\u001b[0m \u001b[1m0s\u001b[0m 44ms/step - loss: 0.1535 - mae: 0.2821 - val_loss: 0.1772 - val_mae: 0.2886\n",
      "Epoch 182/300\n",
      "\u001b[1m2/2\u001b[0m \u001b[32m━━━━━━━━━━━━━━━━━━━━\u001b[0m\u001b[37m\u001b[0m \u001b[1m0s\u001b[0m 43ms/step - loss: 0.1505 - mae: 0.2793 - val_loss: 0.1771 - val_mae: 0.2884\n",
      "Epoch 183/300\n",
      "\u001b[1m2/2\u001b[0m \u001b[32m━━━━━━━━━━━━━━━━━━━━\u001b[0m\u001b[37m\u001b[0m \u001b[1m0s\u001b[0m 44ms/step - loss: 0.1484 - mae: 0.2766 - val_loss: 0.1770 - val_mae: 0.2881\n",
      "Epoch 184/300\n",
      "\u001b[1m2/2\u001b[0m \u001b[32m━━━━━━━━━━━━━━━━━━━━\u001b[0m\u001b[37m\u001b[0m \u001b[1m0s\u001b[0m 47ms/step - loss: 0.1459 - mae: 0.2742 - val_loss: 0.1769 - val_mae: 0.2879\n",
      "Epoch 185/300\n",
      "\u001b[1m2/2\u001b[0m \u001b[32m━━━━━━━━━━━━━━━━━━━━\u001b[0m\u001b[37m\u001b[0m \u001b[1m0s\u001b[0m 50ms/step - loss: 0.1439 - mae: 0.2717 - val_loss: 0.1770 - val_mae: 0.2878\n",
      "Epoch 186/300\n",
      "\u001b[1m2/2\u001b[0m \u001b[32m━━━━━━━━━━━━━━━━━━━━\u001b[0m\u001b[37m\u001b[0m \u001b[1m0s\u001b[0m 46ms/step - loss: 0.1407 - mae: 0.2687 - val_loss: 0.1770 - val_mae: 0.2876\n",
      "Epoch 187/300\n",
      "\u001b[1m2/2\u001b[0m \u001b[32m━━━━━━━━━━━━━━━━━━━━\u001b[0m\u001b[37m\u001b[0m \u001b[1m0s\u001b[0m 46ms/step - loss: 0.1391 - mae: 0.2664 - val_loss: 0.1770 - val_mae: 0.2875\n",
      "Epoch 188/300\n",
      "\u001b[1m2/2\u001b[0m \u001b[32m━━━━━━━━━━━━━━━━━━━━\u001b[0m\u001b[37m\u001b[0m \u001b[1m0s\u001b[0m 47ms/step - loss: 0.1368 - mae: 0.2639 - val_loss: 0.1771 - val_mae: 0.2873\n",
      "Epoch 189/300\n",
      "\u001b[1m2/2\u001b[0m \u001b[32m━━━━━━━━━━━━━━━━━━━━\u001b[0m\u001b[37m\u001b[0m \u001b[1m0s\u001b[0m 53ms/step - loss: 0.1340 - mae: 0.2610 - val_loss: 0.1770 - val_mae: 0.2870\n",
      "Epoch 190/300\n",
      "\u001b[1m2/2\u001b[0m \u001b[32m━━━━━━━━━━━━━━━━━━━━\u001b[0m\u001b[37m\u001b[0m \u001b[1m0s\u001b[0m 45ms/step - loss: 0.1316 - mae: 0.2583 - val_loss: 0.1770 - val_mae: 0.2869\n",
      "Epoch 191/300\n",
      "\u001b[1m2/2\u001b[0m \u001b[32m━━━━━━━━━━━━━━━━━━━━\u001b[0m\u001b[37m\u001b[0m \u001b[1m0s\u001b[0m 44ms/step - loss: 0.1295 - mae: 0.2556 - val_loss: 0.1768 - val_mae: 0.2866\n",
      "Epoch 192/300\n",
      "\u001b[1m2/2\u001b[0m \u001b[32m━━━━━━━━━━━━━━━━━━━━\u001b[0m\u001b[37m\u001b[0m \u001b[1m0s\u001b[0m 44ms/step - loss: 0.1272 - mae: 0.2528 - val_loss: 0.1769 - val_mae: 0.2865\n",
      "Epoch 193/300\n",
      "\u001b[1m2/2\u001b[0m \u001b[32m━━━━━━━━━━━━━━━━━━━━\u001b[0m\u001b[37m\u001b[0m \u001b[1m0s\u001b[0m 48ms/step - loss: 0.1258 - mae: 0.2507 - val_loss: 0.1771 - val_mae: 0.2865\n",
      "Epoch 194/300\n",
      "\u001b[1m2/2\u001b[0m \u001b[32m━━━━━━━━━━━━━━━━━━━━\u001b[0m\u001b[37m\u001b[0m \u001b[1m0s\u001b[0m 48ms/step - loss: 0.1232 - mae: 0.2478 - val_loss: 0.1770 - val_mae: 0.2863\n",
      "Epoch 195/300\n",
      "\u001b[1m2/2\u001b[0m \u001b[32m━━━━━━━━━━━━━━━━━━━━\u001b[0m\u001b[37m\u001b[0m \u001b[1m0s\u001b[0m 46ms/step - loss: 0.1209 - mae: 0.2453 - val_loss: 0.1771 - val_mae: 0.2861\n",
      "Epoch 196/300\n",
      "\u001b[1m2/2\u001b[0m \u001b[32m━━━━━━━━━━━━━━━━━━━━\u001b[0m\u001b[37m\u001b[0m \u001b[1m0s\u001b[0m 47ms/step - loss: 0.1196 - mae: 0.2436 - val_loss: 0.1774 - val_mae: 0.2860\n",
      "Epoch 197/300\n",
      "\u001b[1m2/2\u001b[0m \u001b[32m━━━━━━━━━━━━━━━━━━━━\u001b[0m\u001b[37m\u001b[0m \u001b[1m0s\u001b[0m 46ms/step - loss: 0.1175 - mae: 0.2409 - val_loss: 0.1774 - val_mae: 0.2857\n",
      "Epoch 198/300\n",
      "\u001b[1m2/2\u001b[0m \u001b[32m━━━━━━━━━━━━━━━━━━━━\u001b[0m\u001b[37m\u001b[0m \u001b[1m0s\u001b[0m 45ms/step - loss: 0.1150 - mae: 0.2383 - val_loss: 0.1774 - val_mae: 0.2855\n",
      "Epoch 199/300\n",
      "\u001b[1m2/2\u001b[0m \u001b[32m━━━━━━━━━━━━━━━━━━━━\u001b[0m\u001b[37m\u001b[0m \u001b[1m0s\u001b[0m 58ms/step - loss: 0.1137 - mae: 0.2366 - val_loss: 0.1775 - val_mae: 0.2857\n",
      "Epoch 200/300\n",
      "\u001b[1m2/2\u001b[0m \u001b[32m━━━━━━━━━━━━━━━━━━━━\u001b[0m\u001b[37m\u001b[0m \u001b[1m0s\u001b[0m 43ms/step - loss: 0.1115 - mae: 0.2345 - val_loss: 0.1775 - val_mae: 0.2859\n",
      "Epoch 201/300\n",
      "\u001b[1m2/2\u001b[0m \u001b[32m━━━━━━━━━━━━━━━━━━━━\u001b[0m\u001b[37m\u001b[0m \u001b[1m0s\u001b[0m 42ms/step - loss: 0.1097 - mae: 0.2327 - val_loss: 0.1774 - val_mae: 0.2860\n",
      "Epoch 202/300\n",
      "\u001b[1m2/2\u001b[0m \u001b[32m━━━━━━━━━━━━━━━━━━━━\u001b[0m\u001b[37m\u001b[0m \u001b[1m0s\u001b[0m 42ms/step - loss: 0.1076 - mae: 0.2306 - val_loss: 0.1775 - val_mae: 0.2863\n",
      "Epoch 203/300\n",
      "\u001b[1m2/2\u001b[0m \u001b[32m━━━━━━━━━━━━━━━━━━━━\u001b[0m\u001b[37m\u001b[0m \u001b[1m0s\u001b[0m 45ms/step - loss: 0.1059 - mae: 0.2285 - val_loss: 0.1777 - val_mae: 0.2867\n",
      "Epoch 204/300\n",
      "\u001b[1m2/2\u001b[0m \u001b[32m━━━━━━━━━━━━━━━━━━━━\u001b[0m\u001b[37m\u001b[0m \u001b[1m0s\u001b[0m 45ms/step - loss: 0.1044 - mae: 0.2267 - val_loss: 0.1779 - val_mae: 0.2871\n",
      "Epoch 205/300\n",
      "\u001b[1m2/2\u001b[0m \u001b[32m━━━━━━━━━━━━━━━━━━━━\u001b[0m\u001b[37m\u001b[0m \u001b[1m0s\u001b[0m 45ms/step - loss: 0.1027 - mae: 0.2248 - val_loss: 0.1781 - val_mae: 0.2875\n",
      "Epoch 206/300\n",
      "\u001b[1m2/2\u001b[0m \u001b[32m━━━━━━━━━━━━━━━━━━━━\u001b[0m\u001b[37m\u001b[0m \u001b[1m0s\u001b[0m 44ms/step - loss: 0.1014 - mae: 0.2235 - val_loss: 0.1781 - val_mae: 0.2878\n",
      "Epoch 207/300\n",
      "\u001b[1m2/2\u001b[0m \u001b[32m━━━━━━━━━━━━━━━━━━━━\u001b[0m\u001b[37m\u001b[0m \u001b[1m0s\u001b[0m 44ms/step - loss: 0.0997 - mae: 0.2218 - val_loss: 0.1783 - val_mae: 0.2882\n",
      "Epoch 208/300\n",
      "\u001b[1m2/2\u001b[0m \u001b[32m━━━━━━━━━━━━━━━━━━━━\u001b[0m\u001b[37m\u001b[0m \u001b[1m0s\u001b[0m 45ms/step - loss: 0.0977 - mae: 0.2198 - val_loss: 0.1783 - val_mae: 0.2883\n",
      "Epoch 209/300\n",
      "\u001b[1m2/2\u001b[0m \u001b[32m━━━━━━━━━━━━━━━━━━━━\u001b[0m\u001b[37m\u001b[0m \u001b[1m0s\u001b[0m 47ms/step - loss: 0.0966 - mae: 0.2185 - val_loss: 0.1785 - val_mae: 0.2888\n",
      "Epoch 210/300\n",
      "\u001b[1m2/2\u001b[0m \u001b[32m━━━━━━━━━━━━━━━━━━━━\u001b[0m\u001b[37m\u001b[0m \u001b[1m0s\u001b[0m 42ms/step - loss: 0.0947 - mae: 0.2166 - val_loss: 0.1783 - val_mae: 0.2888\n",
      "Epoch 211/300\n",
      "\u001b[1m2/2\u001b[0m \u001b[32m━━━━━━━━━━━━━━━━━━━━\u001b[0m\u001b[37m\u001b[0m \u001b[1m0s\u001b[0m 42ms/step - loss: 0.0933 - mae: 0.2146 - val_loss: 0.1785 - val_mae: 0.2891\n",
      "Epoch 212/300\n",
      "\u001b[1m2/2\u001b[0m \u001b[32m━━━━━━━━━━━━━━━━━━━━\u001b[0m\u001b[37m\u001b[0m \u001b[1m0s\u001b[0m 47ms/step - loss: 0.0918 - mae: 0.2131 - val_loss: 0.1785 - val_mae: 0.2895\n",
      "Epoch 213/300\n",
      "\u001b[1m2/2\u001b[0m \u001b[32m━━━━━━━━━━━━━━━━━━━━\u001b[0m\u001b[37m\u001b[0m \u001b[1m0s\u001b[0m 46ms/step - loss: 0.0902 - mae: 0.2113 - val_loss: 0.1785 - val_mae: 0.2896\n",
      "Epoch 214/300\n",
      "\u001b[1m2/2\u001b[0m \u001b[32m━━━━━━━━━━━━━━━━━━━━\u001b[0m\u001b[37m\u001b[0m \u001b[1m0s\u001b[0m 48ms/step - loss: 0.0891 - mae: 0.2100 - val_loss: 0.1785 - val_mae: 0.2899\n",
      "Epoch 215/300\n",
      "\u001b[1m2/2\u001b[0m \u001b[32m━━━━━━━━━━━━━━━━━━━━\u001b[0m\u001b[37m\u001b[0m \u001b[1m0s\u001b[0m 46ms/step - loss: 0.0877 - mae: 0.2086 - val_loss: 0.1787 - val_mae: 0.2903\n",
      "Epoch 216/300\n",
      "\u001b[1m2/2\u001b[0m \u001b[32m━━━━━━━━━━━━━━━━━━━━\u001b[0m\u001b[37m\u001b[0m \u001b[1m0s\u001b[0m 46ms/step - loss: 0.0862 - mae: 0.2071 - val_loss: 0.1788 - val_mae: 0.2906\n",
      "Epoch 217/300\n",
      "\u001b[1m2/2\u001b[0m \u001b[32m━━━━━━━━━━━━━━━━━━━━\u001b[0m\u001b[37m\u001b[0m \u001b[1m0s\u001b[0m 46ms/step - loss: 0.0854 - mae: 0.2061 - val_loss: 0.1790 - val_mae: 0.2910\n",
      "Epoch 218/300\n",
      "\u001b[1m2/2\u001b[0m \u001b[32m━━━━━━━━━━━━━━━━━━━━\u001b[0m\u001b[37m\u001b[0m \u001b[1m0s\u001b[0m 60ms/step - loss: 0.0838 - mae: 0.2045 - val_loss: 0.1791 - val_mae: 0.2915\n",
      "Epoch 219/300\n",
      "\u001b[1m2/2\u001b[0m \u001b[32m━━━━━━━━━━━━━━━━━━━━\u001b[0m\u001b[37m\u001b[0m \u001b[1m0s\u001b[0m 43ms/step - loss: 0.0825 - mae: 0.2031 - val_loss: 0.1793 - val_mae: 0.2920\n",
      "Epoch 220/300\n",
      "\u001b[1m2/2\u001b[0m \u001b[32m━━━━━━━━━━━━━━━━━━━━\u001b[0m\u001b[37m\u001b[0m \u001b[1m0s\u001b[0m 44ms/step - loss: 0.0813 - mae: 0.2019 - val_loss: 0.1795 - val_mae: 0.2925\n",
      "Epoch 221/300\n",
      "\u001b[1m2/2\u001b[0m \u001b[32m━━━━━━━━━━━━━━━━━━━━\u001b[0m\u001b[37m\u001b[0m \u001b[1m0s\u001b[0m 43ms/step - loss: 0.0801 - mae: 0.2010 - val_loss: 0.1796 - val_mae: 0.2929\n",
      "\n",
      "Testing final model on test set...\n",
      "\n",
      " FINAL RESULTS:\n",
      "   Test set R²: -0.2117\n",
      "   R² for Mn: -0.2651\n",
      "   R² for Mw: -0.1582\n",
      "DETAILED ACTIVATION FUNCTION COMPARISON\n",
      "Comparing each activation function across all neuron counts:\n",
      "\n",
      " RELU ACTIVATION FUNCTION:\n",
      "----------------------------------------\n",
      " TANH ACTIVATION FUNCTION:\n",
      "----------------------------------------\n",
      " SIGMOID ACTIVATION FUNCTION:\n",
      "----------------------------------------\n",
      " LINEAR ACTIVATION FUNCTION:\n",
      "----------------------------------------\n"
     ]
    }
   ],
   "source": [
    "#ann\n",
    "\n",
    "print(\"NEURAL NETWORK ANALYSIS\")\n",
    "\n",
    "\n",
    "def create_neural_network(neurons, activation_function):\n",
    "    \"\"\"\n",
    "    Create a simple neural network\n",
    "    - neurons: number of neurons in hidden layer\n",
    "    - activation_function: 'relu', 'tanh', 'sigmoid'\n",
    "    \"\"\"\n",
    "    model = Sequential()\n",
    "    \n",
    "    # Input layer - we have 4 features (Factor A, B, C, D)\n",
    "    model.add(Dense(neurons, input_shape=(4,), activation=activation_function))\n",
    "    \n",
    "    # Output layer - we predict 2 values (Mn and Mw)\n",
    "    model.add(Dense(2, activation='linear'))  # linear for regression\n",
    "    \n",
    "    # Compile the model (set up for training)\n",
    "    model.compile(optimizer='adam', loss='mse', metrics=['mae'])\n",
    "    \n",
    "    return model\n",
    "\n",
    "# Test different settings\n",
    "neuron_counts = [8, 13, 20]  # different network sizes\n",
    "activation_functions = ['relu', 'tanh', 'sigmoid', 'linear']  # different activation functions\n",
    "# Note: 'linear' is the same as 'purelin' in TensorFlow/Keras\n",
    "\n",
    "# Store all results\n",
    "all_results = {}\n",
    "\n",
    "print(\"Testing different neural network configurations...\")\n",
    "\n",
    "\n",
    "# Test each combination\n",
    "for activation in activation_functions:\n",
    "    print(f\"Testing activation function: {activation.upper()}\")\n",
    "\n",
    "    for neurons in neuron_counts:\n",
    "        print(f\"  → Testing {neurons} neurons with {activation} activation...\")\n",
    "        \n",
    "        # Set up 5-fold cross validation\n",
    "        kfold = KFold(n_splits=5, shuffle=True, random_state=42)\n",
    "        r2_scores = []  # store R² score for each fold\n",
    "        \n",
    "        fold_number = 1\n",
    "        \n",
    "        # Do cross validation\n",
    "        for train_idx, val_idx in kfold.split(X_train):\n",
    "            # Split training data into train and validation for this fold\n",
    "            X_train_fold = X_train[train_idx]\n",
    "            X_val_fold = X_train[val_idx]\n",
    "            y_train_fold = y_train[train_idx]\n",
    "            y_val_fold = y_train[val_idx]\n",
    "            \n",
    "            # Create a new model for this fold\n",
    "            model = create_neural_network(neurons, activation)\n",
    "            \n",
    "            # Set up early stopping to prevent overfitting\n",
    "            early_stopping = EarlyStopping(\n",
    "                monitor='val_loss',     # watch validation loss\n",
    "                patience=20,            # stop if no improvement for 20 epochs\n",
    "                restore_best_weights=True  # use best weights, not last\n",
    "            )\n",
    "            \n",
    "            # Train the model\n",
    "            model.fit(\n",
    "                X_train_fold, y_train_fold,\n",
    "                validation_data=(X_val_fold, y_val_fold),\n",
    "                epochs=200,             # maximum training rounds\n",
    "                batch_size=8,           # process 8 samples at a time\n",
    "                verbose=0,              # don't print training progress\n",
    "                callbacks=[early_stopping]\n",
    "            )\n",
    "            \n",
    "            # Make predictions on validation set\n",
    "            y_pred_fold = model.predict(X_val_fold, verbose=0)\n",
    "            \n",
    "            # Calculate how good the predictions are (R² score)\n",
    "            r2 = r2_score(y_val_fold, y_pred_fold)\n",
    "            r2_scores.append(r2)\n",
    "            \n",
    "            print(f\"     Fold {fold_number}: R² = {r2:.4f}\")\n",
    "            fold_number += 1\n",
    "        \n",
    "        # Calculate average performance across all folds\n",
    "        avg_r2 = np.mean(r2_scores)\n",
    "        std_r2 = np.std(r2_scores)\n",
    "        \n",
    "        # Store results\n",
    "        config_name = f\"{activation}_{neurons}neurons\"\n",
    "        all_results[config_name] = {\n",
    "            'activation': activation,\n",
    "            'neurons': neurons,\n",
    "            'avg_r2': avg_r2,\n",
    "            'std_r2': std_r2,\n",
    "            'all_scores': r2_scores\n",
    "        }\n",
    "        \n",
    "        print(f\"     → Average R²: {avg_r2:.4f} ± {std_r2:.4f}\")\n",
    "        print()\n",
    "    \n",
    "    print()\n",
    "\n",
    "# Find the best configuration\n",
    "\n",
    "print(\"RESULTS SUMMARY\")\n",
    "\n",
    "\n",
    "print(\"All configurations tested:\")\n",
    "print()\n",
    "\n",
    "# Sort results by average R² score (best first)\n",
    "sorted_results = sorted(all_results.items(), key=lambda x: x[1]['avg_r2'], reverse=True)\n",
    "\n",
    "for i, (config_name, results) in enumerate(sorted_results):\n",
    "    rank = i + 1\n",
    "    activation = results['activation']\n",
    "    neurons = results['neurons']\n",
    "    avg_r2 = results['avg_r2']\n",
    "    std_r2 = results['std_r2']\n",
    "    \n",
    "    print(f\"{rank}. {activation.upper()} with {neurons} neurons: R² = {avg_r2:.4f} ± {std_r2:.4f}\")\n",
    "\n",
    "# Get the best configuration\n",
    "best_config = sorted_results[0][1]\n",
    "best_activation = best_config['activation']\n",
    "best_neurons = best_config['neurons']\n",
    "best_avg_r2 = best_config['avg_r2']\n",
    "\n",
    "print()\n",
    "print(\" BEST CONFIGURATION:\")\n",
    "print(f\"   Activation function: {best_activation.upper()}\")\n",
    "print(f\"   Number of neurons: {best_neurons}\")\n",
    "print(f\"   Average R²: {best_avg_r2:.4f}\")\n",
    "\n",
    "# Train final model with best configuration\n",
    "\n",
    "print(\"TRAINING FINAL MODEL\")\n",
    "\n",
    "\n",
    "print(f\"Training final model with {best_activation} activation and {best_neurons} neurons...\")\n",
    "\n",
    "# Create and train the final model\n",
    "final_model = create_neural_network(best_neurons, best_activation)\n",
    "\n",
    "# Use validation set for early stopping in final training\n",
    "early_stopping = EarlyStopping(\n",
    "    monitor='val_loss',\n",
    "    patience=30,  # a bit more patience for final model\n",
    "    restore_best_weights=True\n",
    ")\n",
    "\n",
    "# Train on full training set, validate on validation set\n",
    "history = final_model.fit(\n",
    "    X_train, y_train,\n",
    "    validation_data=(X_val, y_val),\n",
    "    epochs=300,\n",
    "    batch_size=8,\n",
    "    verbose=1,  # show progress for final training\n",
    "    callbacks=[early_stopping]\n",
    ")\n",
    "\n",
    "# Test the final model\n",
    "print(\"\\nTesting final model on test set...\")\n",
    "y_pred_test = final_model.predict(X_test, verbose=0)\n",
    "final_r2 = r2_score(y_test, y_pred_test)\n",
    "\n",
    "print(f\"\\n FINAL RESULTS:\")\n",
    "print(f\"   Test set R²: {final_r2:.4f}\")\n",
    "\n",
    "# Calculate individual R² for each output (Mn and Mw)\n",
    "r2_mn = r2_score(y_test[:, 0], y_pred_test[:, 0])  # First output (Mn)\n",
    "r2_mw = r2_score(y_test[:, 1], y_pred_test[:, 1])  # Second output (Mw)\n",
    "\n",
    "print(f\"   R² for Mn: {r2_mn:.4f}\")\n",
    "print(f\"   R² for Mw: {r2_mw:.4f}\")\n",
    "\n",
    "\n",
    "# DETAILED COMPARISON SECTION\n",
    "\n",
    "print(\"DETAILED ACTIVATION FUNCTION COMPARISON\")\n",
    "\n",
    "\n",
    "# Group results by activation function\n",
    "activation_comparison = {}\n",
    "for config_name, results in all_results.items():\n",
    "    activation = results['activation']\n",
    "    if activation not in activation_comparison:\n",
    "        activation_comparison[activation] = []\n",
    "    activation_comparison[activation].append(results)\n",
    "\n",
    "print(\"Comparing each activation function across all neuron counts:\\n\")\n",
    "\n",
    "for activation in ['relu', 'tanh', 'sigmoid', 'linear']:\n",
    "    if activation in activation_comparison:\n",
    "        print(f\" {activation.upper()} ACTIVATION FUNCTION:\")\n",
    "        print(\"-\" * 40)\n",
    "        \n",
    "        configs = activation_comparison[activation]\n",
    "        # Sort by neurons for clear display\n",
    "        configs_sorted = sorted(configs, key=lambda x: x['neurons'])\n",
    "        \n",
    "        best_for_this_activation = max(configs, key=lambda x: x['avg_r2'])\n",
    "        \n",
    "        for config in configs_sorted:\n",
    "            neurons = config['neurons']\n",
    "            avg_r2 = config['avg_r2']\n",
    "            std_r2 = config['std_r2']"
   ]
  },
  {
   "cell_type": "code",
   "execution_count": 14,
   "id": "4493172c-a471-43a0-8b6e-8f98c17258d3",
   "metadata": {},
   "outputs": [
    {
     "ename": "IndentationError",
     "evalue": "expected an indented block after function definition on line 91 (2257375561.py, line 92)",
     "output_type": "error",
     "traceback": [
      "  \u001b[36mCell\u001b[39m\u001b[36m \u001b[39m\u001b[32mIn[14]\u001b[39m\u001b[32m, line 92\u001b[39m\n\u001b[31m    \u001b[39m\u001b[31m\"\"\"Create a comparison table of actual vs predicted values\"\"\"\u001b[39m\n    ^\n\u001b[31mIndentationError\u001b[39m\u001b[31m:\u001b[39m expected an indented block after function definition on line 91\n"
     ]
    }
   ],
   "source": [
    "#svm\n",
    "# Additional imports for SVM analysis\n",
    "from sklearn.model_selection import GridSearchCV, cross_val_score\n",
    "from sklearn.svm import SVR\n",
    "from sklearn.multioutput import MultiOutputRegressor\n",
    "print(\"SVM libraries imported successfully!\")\n",
    "print(\"Training SVM models...\")\n",
    "\n",
    "# Define parameter grids for hyperparameter tuning\n",
    "param_grid = {\n",
    "    'estimator__C': [0.1, 1, 10, 100],\n",
    "    'estimator__kernel': ['linear', 'rbf', 'poly'],\n",
    "    'estimator__gamma': ['scale', 'auto', 0.001, 0.01, 0.1, 1],\n",
    "    'estimator__epsilon': [0.01, 0.1, 0.2]\n",
    "}\n",
    "\n",
    "# Create SVM regressor for multi-output\n",
    "svm_regressor = MultiOutputRegressor(SVR())\n",
    "\n",
    "# Perform grid search with cross-validation\n",
    "print(\"Performing hyperparameter tuning...\")\n",
    "grid_search = GridSearchCV(\n",
    "    svm_regressor, \n",
    "    param_grid, \n",
    "    cv=5, \n",
    "    scoring='neg_mean_squared_error',\n",
    "    n_jobs=-1,\n",
    "    verbose=1\n",
    ")\n",
    "\n",
    "# Fit the model\n",
    "grid_search.fit(X_train_scaled, y_train_scaled)\n",
    "\n",
    "# Get best model\n",
    "best_svm = grid_search.best_estimator_\n",
    "print(f\"Best parameters: {grid_search.best_params_}\")\n",
    "print(f\"Best cross-validation score: {-grid_search.best_score_:.4f}\")\n",
    "\n",
    "# Train the best model\n",
    "best_svm.fit(X_train_scaled, y_train_scaled)\n",
    "print(\"Making predictions...\")\n",
    "\n",
    "# Make predictions on scaled data\n",
    "y_train_pred_scaled = best_svm.predict(X_train_scaled)\n",
    "y_val_pred_scaled = best_svm.predict(X_val_scaled)\n",
    "y_test_pred_scaled = best_svm.predict(X_test_scaled)\n",
    "\n",
    "# Transform predictions back to original scale\n",
    "y_train_pred = scaler_y.inverse_transform(y_train_pred_scaled)\n",
    "y_val_pred = scaler_y.inverse_transform(y_val_pred_scaled)\n",
    "y_test_pred = scaler_y.inverse_transform(y_test_pred_scaled)\n",
    "\n",
    "print(\"Predictions completed!\")\n",
    "print(f\"Training predictions shape: {y_train_pred.shape}\")\n",
    "print(f\"Validation predictions shape: {y_val_pred.shape}\")\n",
    "print(f\"Test predictions shape: {y_test_pred.shape}\")\n",
    "def calculate_metrics(y_true, y_pred, set_name):\n",
    "    \"\"\"Calculate regression metrics for each output\"\"\"\n",
    "    metrics = {}\n",
    "    \n",
    "    for i, response in enumerate(['Response_1', 'Response_2']):\n",
    "        mse = mean_squared_error(y_true[:, i], y_pred[:, i])\n",
    "        rmse = np.sqrt(mse)\n",
    "        mae = mean_absolute_error(y_true[:, i], y_pred[:, i])\n",
    "        r2 = r2_score(y_true[:, i], y_pred[:, i])\n",
    "        \n",
    "        metrics[f'{response}'] = {\n",
    "            'MSE': mse,\n",
    "            'RMSE': rmse,\n",
    "            'MAE': mae,\n",
    "            'R²': r2\n",
    "        }\n",
    "    \n",
    "    return metrics\n",
    "\n",
    "# Calculate metrics for all sets\n",
    "train_metrics = calculate_metrics(y_train, y_train_pred, 'Training')\n",
    "val_metrics = calculate_metrics(y_val, y_val_pred, 'Validation')\n",
    "test_metrics = calculate_metrics(y_test, y_test_pred, 'Test')\n",
    "\n",
    "# Print metrics\n",
    "print(\"SVM Performance Metrics:\")\n",
    "print(\"=\"*50)\n",
    "\n",
    "for set_name, metrics in [('Training', train_metrics), ('Validation', val_metrics), ('Test', test_metrics)]:\n",
    "    print(f\"\\n{set_name} Set:\")\n",
    "    for response, scores in metrics.items():\n",
    "        print(f\"  {response}:\")\n",
    "        for metric, value in scores.items():\n",
    "            print(f\"    {metric}: {value:.4f}\")\n",
    "            def create_comparison_table(y_true, y_pred, set_name):\n",
    "    \"\"\"Create a comparison table of actual vs predicted values\"\"\"\n",
    "    \n",
    "    # Create DataFrame\n",
    "    comparison_df = pd.DataFrame({\n",
    "        'Actual_Response_1': y_true[:, 0],\n",
    "        'Predicted_Response_1': y_pred[:, 0],\n",
    "        'Error_Response_1': y_true[:, 0] - y_pred[:, 0],\n",
    "        'Actual_Response_2': y_true[:, 1],\n",
    "        'Predicted_Response_2': y_pred[:, 1],\n",
    "        'Error_Response_2': y_true[:, 1] - y_pred[:, 1],\n",
    "    })\n",
    "    \n",
    "    # Add absolute percentage error\n",
    "    comparison_df['APE_Response_1'] = np.abs(comparison_df['Error_Response_1'] / comparison_df['Actual_Response_1']) * 100\n",
    "    comparison_df['APE_Response_2'] = np.abs(comparison_df['Error_Response_2'] / comparison_df['Actual_Response_2']) * 100\n",
    "    \n",
    "    return comparison_df\n",
    "\n",
    "# Create comparison tables for all sets\n",
    "train_comparison = create_comparison_table(y_train, y_train_pred, 'Training')\n",
    "val_comparison = create_comparison_table(y_val, y_val_pred, 'Validation')\n",
    "test_comparison = create_comparison_table(y_test, y_test_pred, 'Test')\n",
    "\n",
    "# Display first 10 rows of each table\n",
    "print(\"Training Set - Predicted vs Actual (First 10 rows):\")\n",
    "print(train_comparison.head(10).round(4))\n",
    "\n",
    "print(\"\\nValidation Set - Predicted vs Actual (First 10 rows):\")\n",
    "print(val_comparison.head(10).round(4))\n",
    "\n",
    "print(\"\\nTest Set - Predicted vs Actual (First 10 rows):\")\n",
    "print(test_comparison.head(10).round(4))\n",
    "\n",
    "# Summary statistics\n",
    "print(\"\\nSummary Statistics:\")\n",
    "print(\"=\"*50)\n",
    "for name, df in [('Training', train_comparison), ('Validation', val_comparison), ('Test', test_comparison)]:\n",
    "    print(f\"\\n{name} Set:\")\n",
    "    print(f\"  Mean APE Response 1: {df['APE_Response_1'].mean():.2f}%\")\n",
    "    print(f\"  Mean APE Response 2: {df['APE_Response_2'].mean():.2f}%\")\n",
    "    print(f\"  Max APE Response 1: {df['APE_Response_1'].max():.2f}%\")\n",
    "    print(f\"  Max APE Response 2: {df['APE_Response_2'].max():.2f}%\")\n",
    "    plt.style.use('default')\n",
    "fig = plt.figure(figsize=(20, 16))\n",
    "\n",
    "# Color scheme for different sets\n",
    "colors = {'Training': '#1f77b4', 'Validation': '#ff7f0e', 'Test': '#2ca02c'}\n",
    "sets_data = {\n",
    "    'Training': (y_train, y_train_pred, train_comparison),\n",
    "    'Validation': (y_val, y_val_pred, val_comparison),\n",
    "    'Test': (y_test, y_test_pred, test_comparison)\n",
    "}\n",
    "\n",
    "# 1. Predicted vs Actual Scatter Plots for Response 1\n",
    "plt.subplot(4, 3, 1)\n",
    "for set_name, (y_true, y_pred, _) in sets_data.items():\n",
    "    plt.scatter(y_true[:, 0], y_pred[:, 0], alpha=0.6, label=f'{set_name}', \n",
    "                color=colors[set_name], s=50)\n",
    "\n",
    "# Perfect prediction line\n",
    "min_val = min([y_train[:, 0].min(), y_val[:, 0].min(), y_test[:, 0].min()])\n",
    "max_val = max([y_train[:, 0].max(), y_val[:, 0].max(), y_test[:, 0].max()])\n",
    "plt.plot([min_val, max_val], [min_val, max_val], 'r--', linewidth=2, label='Perfect Prediction')\n",
    "plt.xlabel('Actual Response 1')\n",
    "plt.ylabel('Predicted Response 1')\n",
    "plt.title('SVM: Predicted vs Actual - Response 1')\n",
    "plt.legend()\n",
    "plt.grid(True, alpha=0.3)\n",
    "\n",
    "# 2. Predicted vs Actual Scatter Plots for Response 2\n",
    "plt.subplot(4, 3, 2)\n",
    "for set_name, (y_true, y_pred, _) in sets_data.items():\n",
    "    plt.scatter(y_true[:, 1], y_pred[:, 1], alpha=0.6, label=f'{set_name}', \n",
    "                color=colors[set_name], s=50)\n",
    "\n",
    "min_val = min([y_train[:, 1].min(), y_val[:, 1].min(), y_test[:, 1].min()])\n",
    "max_val = max([y_train[:, 1].max(), y_val[:, 1].max(), y_test[:, 1].max()])\n",
    "plt.plot([min_val, max_val], [min_val, max_val], 'r--', linewidth=2, label='Perfect Prediction')\n",
    "plt.xlabel('Actual Response 2')\n",
    "plt.ylabel('Predicted Response 2')\n",
    "plt.title('SVM: Predicted vs Actual - Response 2')\n",
    "plt.legend()\n",
    "plt.grid(True, alpha=0.3)\n",
    "\n",
    "# 3. R² Score Comparison\n",
    "plt.subplot(4, 3, 3)\n",
    "r2_scores_resp1 = [train_metrics['Response_1']['R²'], val_metrics['Response_1']['R²'], test_metrics['Response_1']['R²']]\n",
    "r2_scores_resp2 = [train_metrics['Response_2']['R²'], val_metrics['Response_2']['R²'], test_metrics['Response_2']['R²']]\n",
    "\n",
    "x_pos = np.arange(len(sets_data.keys()))\n",
    "width = 0.35\n",
    "\n",
    "plt.bar(x_pos - width/2, r2_scores_resp1, width, label='Response 1', alpha=0.8)\n",
    "plt.bar(x_pos + width/2, r2_scores_resp2, width, label='Response 2', alpha=0.8)\n",
    "\n",
    "plt.xlabel('Dataset')\n",
    "plt.ylabel('R² Score')\n",
    "plt.title('SVM: R² Score Comparison')\n",
    "plt.xticks(x_pos, list(sets_data.keys()))\n",
    "plt.legend()\n",
    "plt.grid(True, alpha=0.3)\n",
    "\n",
    "# 4. RMSE Comparison\n",
    "plt.subplot(4, 3, 4)\n",
    "rmse_scores_resp1 = [train_metrics['Response_1']['RMSE'], val_metrics['Response_1']['RMSE'], test_metrics['Response_1']['RMSE']]\n",
    "rmse_scores_resp2 = [train_metrics['Response_2']['RMSE'], val_metrics['Response_2']['RMSE'], test_metrics['Response_2']['RMSE']]\n",
    "\n",
    "plt.bar(x_pos - width/2, rmse_scores_resp1, width, label='Response 1', alpha=0.8)\n",
    "plt.bar(x_pos + width/2, rmse_scores_resp2, width, label='Response 2', alpha=0.8)\n",
    "\n",
    "plt.xlabel('Dataset')\n",
    "plt.ylabel('RMSE')\n",
    "plt.title('SVM: RMSE Comparison')\n",
    "plt.xticks(x_pos, list(sets_data.keys()))\n",
    "plt.legend()\n",
    "plt.grid(True, alpha=0.3)\n",
    "\n",
    "# 5. Residuals Plot for Response 1\n",
    "plt.subplot(4, 3, 5)\n",
    "for set_name, (y_true, y_pred, _) in sets_data.items():\n",
    "    residuals = y_true[:, 0] - y_pred[:, 0]\n",
    "    plt.scatter(y_pred[:, 0], residuals, alpha=0.6, label=f'{set_name}', \n",
    "                color=colors[set_name], s=50)\n",
    "\n",
    "plt.axhline(y=0, color='red', linestyle='--', linewidth=2)\n",
    "plt.xlabel('Predicted Response 1')\n",
    "plt.ylabel('Residuals')\n",
    "plt.title('SVM: Residuals Plot - Response 1')\n",
    "plt.legend()\n",
    "plt.grid(True, alpha=0.3)\n",
    "\n",
    "# 6. Residuals Plot for Response 2\n",
    "plt.subplot(4, 3, 6)\n",
    "for set_name, (y_true, y_pred, _) in sets_data.items():\n",
    "    residuals = y_true[:, 1] - y_pred[:, 1]\n",
    "    plt.scatter(y_pred[:, 1], residuals, alpha=0.6, label=f'{set_name}', \n",
    "                color=colors[set_name], s=50)\n",
    "\n",
    "plt.axhline(y=0, color='red', linestyle='--', linewidth=2)\n",
    "plt.xlabel('Predicted Response 2')\n",
    "plt.ylabel('Residuals')\n",
    "plt.title('SVM: Residuals Plot - Response 2')\n",
    "plt.legend()\n",
    "plt.grid(True, alpha=0.3)\n",
    "\n",
    "# 7. Prediction Error Distribution - Response 1\n",
    "plt.subplot(4, 3, 7)\n",
    "for set_name, (_, _, comparison_df) in sets_data.items():\n",
    "    plt.hist(comparison_df['Error_Response_1'], bins=20, alpha=0.6, \n",
    "             label=f'{set_name}', density=True, color=colors[set_name])\n",
    "\n",
    "plt.xlabel('Prediction Error')\n",
    "plt.ylabel('Density')\n",
    "plt.title('SVM: Error Distribution - Response 1')\n",
    "plt.legend()\n",
    "plt.grid(True, alpha=0.3)\n",
    "\n",
    "# 8. Prediction Error Distribution - Response 2\n",
    "plt.subplot(4, 3, 8)\n",
    "for set_name, (_, _, comparison_df) in sets_data.items():\n",
    "    plt.hist(comparison_df['Error_Response_2'], bins=20, alpha=0.6, \n",
    "             label=f'{set_name}', density=True, color=colors[set_name])\n",
    "\n",
    "plt.xlabel('Prediction Error')\n",
    "plt.ylabel('Density')\n",
    "plt.title('SVM: Error Distribution - Response 2')\n",
    "plt.legend()\n",
    "plt.grid(True, alpha=0.3)\n",
    "\n",
    "# 9. Absolute Percentage Error Box Plot\n",
    "plt.subplot(4, 3, 9)\n",
    "ape_data = []\n",
    "labels = []\n",
    "\n",
    "for set_name, (_, _, comparison_df) in sets_data.items():\n",
    "    ape_data.extend([comparison_df['APE_Response_1'].values, comparison_df['APE_Response_2'].values])\n",
    "    labels.extend([f'{set_name}\\nResp 1', f'{set_name}\\nResp 2'])\n",
    "\n",
    "plt.boxplot(ape_data, labels=labels)\n",
    "plt.ylabel('Absolute Percentage Error (%)')\n",
    "plt.title('SVM: APE Distribution Across Sets')\n",
    "plt.xticks(rotation=45)\n",
    "plt.grid(True, alpha=0.3)\n",
    "\n",
    "# 10. Feature Importance (if available from linear kernel)\n",
    "plt.subplot(4, 3, 10)\n",
    "try:\n",
    "    # Try to get feature importance for Response 1\n",
    "    if hasattr(best_svm.estimators_[0], 'coef_'):\n",
    "        importance_resp1 = np.abs(best_svm.estimators_[0].coef_[0])\n",
    "        importance_resp2 = np.abs(best_svm.estimators_[1].coef_[0])\n",
    "        \n",
    "        features = ['Factor A', 'Factor B', 'Factor C', 'Factor D']\n",
    "        x_pos = np.arange(len(features))\n",
    "        \n",
    "        plt.bar(x_pos - width/2, importance_resp1, width, label='Response 1', alpha=0.8)\n",
    "        plt.bar(x_pos + width/2, importance_resp2, width, label='Response 2', alpha=0.8)\n",
    "        \n",
    "        plt.xlabel('Features')\n",
    "        plt.ylabel('Importance (|Coefficient|)')\n",
    "        plt.title('SVM: Feature Importance')\n",
    "        plt.xticks(x_pos, features)\n",
    "        plt.legend()\n",
    "    else:\n",
    "        plt.text(0.5, 0.5, 'Feature importance not available\\nfor non-linear kernel', \n",
    "                ha='center', va='center', transform=plt.gca().transAxes)\n",
    "        plt.title('SVM: Feature Importance')\n",
    "except:\n",
    "    plt.text(0.5, 0.5, 'Feature importance calculation failed', \n",
    "            ha='center', va='center', transform=plt.gca().transAxes)\n",
    "    plt.title('SVM: Feature Importance')\n",
    "\n",
    "plt.grid(True, alpha=0.3)\n",
    "\n",
    "# 11. Model Performance Summary\n",
    "plt.subplot(4, 3, 11)\n",
    "plt.axis('off')\n",
    "summary_text = f\"\"\"\n",
    "SVM Model Performance Summary\n",
    "\n",
    "Best Parameters:\n",
    "{str(grid_search.best_params_).replace(',', ',\\n')}\n",
    "\n",
    "Test Set Performance:\n",
    "Response 1: R² = {test_metrics['Response_1']['R²']:.4f}\n",
    "Response 2: R² = {test_metrics['Response_2']['R²']:.4f}\n",
    "\n",
    "Response 1: RMSE = {test_metrics['Response_1']['RMSE']:.4f}\n",
    "Response 2: RMSE = {test_metrics['Response_2']['RMSE']:.4f}\n",
    "\n",
    "Mean APE:\n",
    "Response 1: {test_comparison['APE_Response_1'].mean():.2f}%\n",
    "Response 2: {test_comparison['APE_Response_2'].mean():.2f}%\n",
    "\"\"\"\n",
    "plt.text(0.05, 0.95, summary_text, transform=plt.gca().transAxes, \n",
    "         verticalalignment='top', fontsize=10, fontfamily='monospace')\n",
    "\n",
    "# 12. Cross-validation scores visualization\n",
    "plt.subplot(4, 3, 12)\n",
    "cv_scores = cross_val_score(best_svm, X_train_scaled, y_train_scaled, cv=5, \n",
    "                           scoring='neg_mean_squared_error')\n",
    "cv_scores = -cv_scores  # Convert back to positive\n",
    "\n",
    "plt.bar(range(1, 6), cv_scores, alpha=0.8)\n",
    "plt.axhline(y=cv_scores.mean(), color='red', linestyle='--', \n",
    "            label=f'Mean: {cv_scores.mean():.4f}')\n",
    "plt.xlabel('Fold')\n",
    "plt.ylabel('MSE')\n",
    "plt.title('SVM: Cross-Validation Scores')\n",
    "plt.legend()\n",
    "plt.grid(True, alpha=0.3)\n",
    "plt.style.use('default')\n",
    "fig = plt.figure(figsize=(20, 16))\n",
    "\n",
    "# Color scheme for different sets\n",
    "colors = {'Training': '#1f77b4', 'Validation': '#ff7f0e', 'Test': '#2ca02c'}\n",
    "sets_data = {\n",
    "    'Training': (y_train, y_train_pred, train_comparison),\n",
    "    'Validation': (y_val, y_val_pred, val_comparison),\n",
    "    'Test': (y_test, y_test_pred, test_comparison)\n",
    "}\n",
    "\n",
    "# 1. Predicted vs Actual Scatter Plots for Response 1\n",
    "plt.subplot(4, 3, 1)\n",
    "for set_name, (y_true, y_pred, _) in sets_data.items():\n",
    "    plt.scatter(y_true[:, 0], y_pred[:, 0], alpha=0.6, label=f'{set_name}', \n",
    "                color=colors[set_name], s=50)\n",
    "\n",
    "# Perfect prediction line\n",
    "min_val = min([y_train[:, 0].min(), y_val[:, 0].min(), y_test[:, 0].min()])\n",
    "max_val = max([y_train[:, 0].max(), y_val[:, 0].max(), y_test[:, 0].max()])\n",
    "plt.plot([min_val, max_val], [min_val, max_val], 'r--', linewidth=2, label='Perfect Prediction')\n",
    "plt.xlabel('Actual Response 1')\n",
    "plt.ylabel('Predicted Response 1')\n",
    "plt.title('SVM: Predicted vs Actual - Response 1')\n",
    "plt.legend()\n",
    "plt.grid(True, alpha=0.3)\n",
    "\n",
    "# 2. Predicted vs Actual Scatter Plots for Response 2\n",
    "plt.subplot(4, 3, 2)\n",
    "for set_name, (y_true, y_pred, _) in sets_data.items():\n",
    "    plt.scatter(y_true[:, 1], y_pred[:, 1], alpha=0.6, label=f'{set_name}', \n",
    "                color=colors[set_name], s=50)\n",
    "\n",
    "min_val = min([y_train[:, 1].min(), y_val[:, 1].min(), y_test[:, 1].min()])\n",
    "max_val = max([y_train[:, 1].max(), y_val[:, 1].max(), y_test[:, 1].max()])\n",
    "plt.plot([min_val, max_val], [min_val, max_val], 'r--', linewidth=2, label='Perfect Prediction')\n",
    "plt.xlabel('Actual Response 2')\n",
    "plt.ylabel('Predicted Response 2')\n",
    "plt.title('SVM: Predicted vs Actual - Response 2')\n",
    "plt.legend()\n",
    "plt.grid(True, alpha=0.3)\n",
    "\n",
    "# 3. R² Score Comparison\n",
    "plt.subplot(4, 3, 3)\n",
    "r2_scores_resp1 = [train_metrics['Response_1']['R²'], val_metrics['Response_1']['R²'], test_metrics['Response_1']['R²']]\n",
    "r2_scores_resp2 = [train_metrics['Response_2']['R²'], val_metrics['Response_2']['R²'], test_metrics['Response_2']['R²']]\n",
    "\n",
    "x_pos = np.arange(len(sets_data.keys()))\n",
    "width = 0.35\n",
    "\n",
    "plt.bar(x_pos - width/2, r2_scores_resp1, width, label='Response 1', alpha=0.8)\n",
    "plt.bar(x_pos + width/2, r2_scores_resp2, width, label='Response 2', alpha=0.8)\n",
    "\n",
    "plt.xlabel('Dataset')\n",
    "plt.ylabel('R² Score')\n",
    "plt.title('SVM: R² Score Comparison')\n",
    "plt.xticks(x_pos, list(sets_data.keys()))\n",
    "plt.legend()\n",
    "plt.grid(True, alpha=0.3)\n",
    "\n",
    "# 4. RMSE Comparison\n",
    "plt.subplot(4, 3, 4)\n",
    "rmse_scores_resp1 = [train_metrics['Response_1']['RMSE'], val_metrics['Response_1']['RMSE'], test_metrics['Response_1']['RMSE']]\n",
    "rmse_scores_resp2 = [train_metrics['Response_2']['RMSE'], val_metrics['Response_2']['RMSE'], test_metrics['Response_2']['RMSE']]\n",
    "\n",
    "plt.bar(x_pos - width/2, rmse_scores_resp1, width, label='Response 1', alpha=0.8)\n",
    "plt.bar(x_pos + width/2, rmse_scores_resp2, width, label='Response 2', alpha=0.8)\n",
    "\n",
    "plt.xlabel('Dataset')\n",
    "plt.ylabel('RMSE')\n",
    "plt.title('SVM: RMSE Comparison')\n",
    "plt.xticks(x_pos, list(sets_data.keys()))\n",
    "plt.legend()\n",
    "plt.grid(True, alpha=0.3)\n",
    "\n",
    "# 5. Residuals Plot for Response 1\n",
    "plt.subplot(4, 3, 5)\n",
    "for set_name, (y_true, y_pred, _) in sets_data.items():\n",
    "    residuals = y_true[:, 0] - y_pred[:, 0]\n",
    "    plt.scatter(y_pred[:, 0], residuals, alpha=0.6, label=f'{set_name}', \n",
    "                color=colors[set_name], s=50)\n",
    "\n",
    "plt.axhline(y=0, color='red', linestyle='--', linewidth=2)\n",
    "plt.xlabel('Predicted Response 1')\n",
    "plt.ylabel('Residuals')\n",
    "plt.title('SVM: Residuals Plot - Response 1')\n",
    "plt.legend()\n",
    "plt.grid(True, alpha=0.3)\n",
    "\n",
    "# 6. Residuals Plot for Response 2\n",
    "plt.subplot(4, 3, 6)\n",
    "for set_name, (y_true, y_pred, _) in sets_data.items():\n",
    "    residuals = y_true[:, 1] - y_pred[:, 1]\n",
    "    plt.scatter(y_pred[:, 1], residuals, alpha=0.6, label=f'{set_name}', \n",
    "                color=colors[set_name], s=50)\n",
    "\n",
    "plt.axhline(y=0, color='red', linestyle='--', linewidth=2)\n",
    "plt.xlabel('Predicted Response 2')\n",
    "plt.ylabel('Residuals')\n",
    "plt.title('SVM: Residuals Plot - Response 2')\n",
    "plt.legend()\n",
    "plt.grid(True, alpha=0.3)\n",
    "\n",
    "# 7. Prediction Error Distribution - Response 1\n",
    "plt.subplot(4, 3, 7)\n",
    "for set_name, (_, _, comparison_df) in sets_data.items():\n",
    "    plt.hist(comparison_df['Error_Response_1'], bins=20, alpha=0.6, \n",
    "             label=f'{set_name}', density=True, color=colors[set_name])\n",
    "\n",
    "plt.xlabel('Prediction Error')\n",
    "plt.ylabel('Density')\n",
    "plt.title('SVM: Error Distribution - Response 1')\n",
    "plt.legend()\n",
    "plt.grid(True, alpha=0.3)\n",
    "\n",
    "# 8. Prediction Error Distribution - Response 2\n",
    "plt.subplot(4, 3, 8)\n",
    "for set_name, (_, _, comparison_df) in sets_data.items():\n",
    "    plt.hist(comparison_df['Error_Response_2'], bins=20, alpha=0.6, \n",
    "             label=f'{set_name}', density=True, color=colors[set_name])\n",
    "\n",
    "plt.xlabel('Prediction Error')\n",
    "plt.ylabel('Density')\n",
    "plt.title('SVM: Error Distribution - Response 2')\n",
    "plt.legend()\n",
    "plt.grid(True, alpha=0.3)\n",
    "\n",
    "# 9. Absolute Percentage Error Box Plot\n",
    "plt.subplot(4, 3, 9)\n",
    "ape_data = []\n",
    "labels = []\n",
    "\n",
    "for set_name, (_, _, comparison_df) in sets_data.items():\n",
    "    ape_data.extend([comparison_df['APE_Response_1'].values, comparison_df['APE_Response_2'].values])\n",
    "    labels.extend([f'{set_name}\\nResp 1', f'{set_name}\\nResp 2'])\n",
    "\n",
    "plt.boxplot(ape_data, labels=labels)\n",
    "plt.ylabel('Absolute Percentage Error (%)')\n",
    "plt.title('SVM: APE Distribution Across Sets')\n",
    "plt.xticks(rotation=45)\n",
    "plt.grid(True, alpha=0.3)\n",
    "\n",
    "# 10. Feature Importance (if available from linear kernel)\n",
    "plt.subplot(4, 3, 10)\n",
    "try:\n",
    "    # Try to get feature importance for Response 1\n",
    "    if hasattr(best_svm.estimators_[0], 'coef_'):\n",
    "        importance_resp1 = np.abs(best_svm.estimators_[0].coef_[0])\n",
    "        importance_resp2 = np.abs(best_svm.estimators_[1].coef_[0])\n",
    "        \n",
    "        features = ['Factor A', 'Factor B', 'Factor C', 'Factor D']\n",
    "        x_pos = np.arange(len(features))\n",
    "        \n",
    "        plt.bar(x_pos - width/2, importance_resp1, width, label='Response 1', alpha=0.8)\n",
    "        plt.bar(x_pos + width/2, importance_resp2, width, label='Response 2', alpha=0.8)\n",
    "        \n",
    "        plt.xlabel('Features')\n",
    "        plt.ylabel('Importance (|Coefficient|)')\n",
    "        plt.title('SVM: Feature Importance')\n",
    "        plt.xticks(x_pos, features)\n",
    "        plt.legend()\n",
    "    else:\n",
    "        plt.text(0.5, 0.5, 'Feature importance not available\\nfor non-linear kernel', \n",
    "                ha='center', va='center', transform=plt.gca().transAxes)\n",
    "        plt.title('SVM: Feature Importance')\n",
    "except:\n",
    "    plt.text(0.5, 0.5, 'Feature importance calculation failed', \n",
    "            ha='center', va='center', transform=plt.gca().transAxes)\n",
    "    plt.title('SVM: Feature Importance')\n",
    "\n",
    "plt.grid(True, alpha=0.3)\n",
    "\n",
    "# 11. Model Performance Summary\n",
    "plt.subplot(4, 3, 11)\n",
    "plt.axis('off')\n",
    "summary_text = f\"\"\"\n",
    "SVM Model Performance Summary\n",
    "\n",
    "Best Parameters:\n",
    "{str(grid_search.best_params_).replace(',', ',\\n')}\n",
    "\n",
    "Test Set Performance:\n",
    "Response 1: R² = {test_metrics['Response_1']['R²']:.4f}\n",
    "Response 2: R² = {test_metrics['Response_2']['R²']:.4f}\n",
    "\n",
    "Response 1: RMSE = {test_metrics['Response_1']['RMSE']:.4f}\n",
    "Response 2: RMSE = {test_metrics['Response_2']['RMSE']:.4f}\n",
    "\n",
    "Mean APE:\n",
    "Response 1: {test_comparison['APE_Response_1'].mean():.2f}%\n",
    "Response 2: {test_comparison['APE_Response_2'].mean():.2f}%\n",
    "\"\"\"\n",
    "plt.text(0.05, 0.95, summary_text, transform=plt.gca().transAxes, \n",
    "         verticalalignment='top', fontsize=10, fontfamily='monospace')\n",
    "\n",
    "# 12. Cross-validation scores visualization\n",
    "plt.subplot(4, 3, 12)\n",
    "cv_scores = cross_val_score(best_svm, X_train_scaled, y_train_scaled, cv=5, \n",
    "                           scoring='neg_mean_squared_error')\n",
    "cv_scores = -cv_scores  # Convert back to positive\n",
    "\n",
    "plt.bar(range(1, 6), cv_scores, alpha=0.8)\n",
    "plt.axhline(y=cv_scores.mean(), color='red', linestyle='--', \n",
    "            label=f'Mean: {cv_scores.mean():.4f}')\n",
    "plt.xlabel('Fold')\n",
    "plt.ylabel('MSE')\n",
    "plt.title('SVM: Cross-Validation Scores')\n",
    "plt.legend()\n",
    "plt.grid(True, alpha=0.3)"
   ]
  },
  {
   "cell_type": "code",
   "execution_count": null,
   "id": "0cad724a-0f27-4cfe-9671-b618e6b3e09f",
   "metadata": {},
   "outputs": [],
   "source": [
    "# First, we need to convert predictions back to original scale for plotting\n",
    "# (since we normalized the data earlier)\n",
    "\n",
    "print(\"Preparing data for visualization...\")\n",
    "\n",
    "# Convert test predictions back to original scale\n",
    "y_pred_nn_original = scaler_y.inverse_transform(y_pred_test)\n",
    "y_test_original = scaler_y.inverse_transform(y_test)\n",
    "\n",
    "# Calculate R² for individual responses (Mn and Mw)\n",
    "nn_r2_resp1 = r2_score(y_test_original[:, 0], y_pred_nn_original[:, 0])  # Response 1 (Mn)\n",
    "nn_r2_resp2 = r2_score(y_test_original[:, 1], y_pred_nn_original[:, 1])  # Response 2 (Mw)\n",
    "\n",
    "# Get all R² values for statistics (fix for the error)\n",
    "all_r2_values = [results['avg_r2'] for results in all_results.values()]\n",
    "\n",
    "# Create comprehensive plots\n",
    "plt.figure(figsize=(18, 12))\n",
    "\n",
    "# Plot 1: Activation Function Comparison\n",
    "plt.subplot(3, 4, 1)\n",
    "activation_names = []\n",
    "best_r2_scores = []\n",
    "best_neurons_list = []\n",
    "\n",
    "for activation in ['relu', 'tanh', 'sigmoid', 'linear']:\n",
    "    if activation in activation_comparison:\n",
    "        best_config = max(activation_comparison[activation], key=lambda x: x['avg_r2'])\n",
    "        activation_names.append(activation.upper())\n",
    "        best_r2_scores.append(best_config['avg_r2'])\n",
    "        best_neurons_list.append(best_config['neurons'])\n",
    "\n",
    "colors = ['red', 'blue', 'green', 'orange']\n",
    "bars = plt.bar(activation_names, best_r2_scores, color=colors, alpha=0.7)\n",
    "plt.title('Best R² Score by Activation Function')\n",
    "plt.xlabel('Activation Function')\n",
    "plt.ylabel('Best R² Score')\n",
    "plt.ylim(0, 1)\n",
    "\n",
    "# Add value labels on bars\n",
    "for i, (v, neurons) in enumerate(zip(best_r2_scores, best_neurons_list)):\n",
    "    plt.text(i, v + 0.02, f'{v:.3f}\\n({neurons} neurons)', ha='center', fontsize=9)\n",
    "\n",
    "# Plot 2: Neuron Count Comparison for Best Activation\n",
    "plt.subplot(3, 4, 2)\n",
    "best_activation_configs = activation_comparison[best_activation]\n",
    "neuron_counts_sorted = sorted([config['neurons'] for config in best_activation_configs])\n",
    "r2_for_neurons = []\n",
    "\n",
    "for neurons in neuron_counts_sorted:\n",
    "    config = next(c for c in best_activation_configs if c['neurons'] == neurons)\n",
    "    r2_for_neurons.append(config['avg_r2'])\n",
    "\n",
    "plt.bar([str(n) for n in neuron_counts_sorted], r2_for_neurons, \n",
    "        color='blue', alpha=0.7, capsize=5)\n",
    "plt.title(f'{best_activation.upper()} Activation: R² vs Neurons')\n",
    "plt.xlabel('Number of Neurons')\n",
    "plt.ylabel('R² Score')\n",
    "plt.ylim(0, 1)\n",
    "\n",
    "for i, v in enumerate(r2_for_neurons):\n",
    "    plt.text(i, v + 0.02, f'{v:.3f}', ha='center')\n",
    "\n",
    "# Plot 3: Cross-validation stability comparison\n",
    "plt.subplot(3, 4, 3)\n",
    "std_devs = [results['std_r2'] for results in [max(activation_comparison[act], key=lambda x: x['avg_r2']) \n",
    "                                            for act in ['relu', 'tanh', 'sigmoid', 'linear'] \n",
    "                                            if act in activation_comparison]]\n",
    "plt.bar(activation_names, std_devs, color=colors, alpha=0.7)\n",
    "plt.title('Model Stability (Lower = More Stable)')\n",
    "plt.xlabel('Activation Function')\n",
    "plt.ylabel('Standard Deviation')\n",
    "\n",
    "for i, v in enumerate(std_devs):\n",
    "    plt.text(i, v + max(std_devs)*0.05, f'{v:.4f}', ha='center', fontsize=9)\n",
    "\n",
    "# Plot 4: All configurations heatmap-style\n",
    "plt.subplot(3, 4, 4)\n",
    "# Create matrix for heatmap\n",
    "activations = ['relu', 'tanh', 'sigmoid', 'linear']\n",
    "neurons = [8, 13, 20]\n",
    "r2_matrix = np.zeros((len(activations), len(neurons)))\n",
    "\n",
    "for i, activation in enumerate(activations):\n",
    "    if activation in activation_comparison:\n",
    "        for config in activation_comparison[activation]:\n",
    "            j = neurons.index(config['neurons'])\n",
    "            r2_matrix[i, j] = config['avg_r2']\n",
    "\n",
    "im = plt.imshow(r2_matrix, cmap='viridis', aspect='auto')\n",
    "plt.colorbar(im, label='R² Score')\n",
    "plt.title('R² Scores: All Configurations')\n",
    "plt.xlabel('Number of Neurons')\n",
    "plt.ylabel('Activation Function')\n",
    "plt.xticks(range(len(neurons)), neurons)\n",
    "plt.yticks(range(len(activations)), [a.upper() for a in activations])\n",
    "\n",
    "# Add text annotations\n",
    "for i in range(len(activations)):\n",
    "    for j in range(len(neurons)):\n",
    "        if r2_matrix[i, j] > 0:\n",
    "            plt.text(j, i, f'{r2_matrix[i,j]:.3f}', ha='center', va='center', \n",
    "                    color='white' if r2_matrix[i,j] < 0.5 else 'black')\n",
    "\n",
    "# Plot 5: Neural Network Response 1 (Mn) - Actual vs Predicted\n",
    "plt.subplot(3, 4, 5)\n",
    "plt.scatter(y_test_original[:, 0], y_pred_nn_original[:, 0], alpha=0.7, color='blue')\n",
    "plt.plot([y_test_original[:, 0].min(), y_test_original[:, 0].max()], \n",
    "         [y_test_original[:, 0].min(), y_test_original[:, 0].max()], 'r--', lw=2)\n",
    "plt.xlabel('Actual Mn')\n",
    "plt.ylabel('Predicted Mn')\n",
    "plt.title(f'Neural Network - Mn (Response 1)\\nR² = {nn_r2_resp1:.3f}')\n",
    "plt.grid(True, alpha=0.3)\n",
    "\n",
    "# Plot 6: Neural Network Response 2 (Mw) - Actual vs Predicted\n",
    "plt.subplot(3, 4, 6)\n",
    "plt.scatter(y_test_original[:, 1], y_pred_nn_original[:, 1], alpha=0.7, color='blue')\n",
    "plt.plot([y_test_original[:, 1].min(), y_test_original[:, 1].max()], \n",
    "         [y_test_original[:, 1].min(), y_test_original[:, 1].max()], 'r--', lw=2)\n",
    "plt.xlabel('Actual Mw')\n",
    "plt.ylabel('Predicted Mw')\n",
    "plt.title(f'Neural Network - Mw (Response 2)\\nR² = {nn_r2_resp2:.3f}')\n",
    "plt.grid(True, alpha=0.3)\n",
    "\n",
    "# Plot 7: Residuals plot for Response 1 (Mn)\n",
    "plt.subplot(3, 4, 7)\n",
    "residuals_1 = y_test_original[:, 0] - y_pred_nn_original[:, 0]\n",
    "plt.scatter(y_pred_nn_original[:, 0], residuals_1, alpha=0.7, color='blue')\n",
    "plt.axhline(y=0, color='r', linestyle='--')\n",
    "plt.xlabel('Predicted Mn')\n",
    "plt.ylabel('Residuals')\n",
    "plt.title('Residuals Plot - Mn')\n",
    "plt.grid(True, alpha=0.3)\n",
    "\n",
    "# Plot 8: Residuals plot for Response 2 (Mw)\n",
    "plt.subplot(3, 4, 8)\n",
    "residuals_2 = y_test_original[:, 1] - y_pred_nn_original[:, 1]\n",
    "plt.scatter(y_pred_nn_original[:, 1], residuals_2, alpha=0.7, color='blue')\n",
    "plt.axhline(y=0, color='r', linestyle='--')\n",
    "plt.xlabel('Predicted Mw')\n",
    "plt.ylabel('Residuals')\n",
    "plt.title('Residuals Plot - Mw')\n",
    "plt.grid(True, alpha=0.3)\n",
    "\n",
    "# Plot 9: Best model summary\n",
    "plt.subplot(3, 4, 9)\n",
    "metrics = ['Overall R²', 'Mn R²', 'Mw R²']\n",
    "values = [final_r2, nn_r2_resp1, nn_r2_resp2]\n",
    "bars = plt.bar(metrics, values, color=['purple', 'blue', 'green'], alpha=0.7)\n",
    "plt.title(f'Final Model Performance\\n{best_activation.upper()} - {best_neurons} neurons')\n",
    "plt.ylabel('R² Score')"
   ]
  },
  {
   "cell_type": "code",
   "execution_count": null,
   "id": "86b6aeeb-fb17-4e04-b781-bf98e48e33b6",
   "metadata": {},
   "outputs": [],
   "source": []
  }
 ],
 "metadata": {
  "kernelspec": {
   "display_name": "Python 3 (ipykernel)",
   "language": "python",
   "name": "python3"
  },
  "language_info": {
   "codemirror_mode": {
    "name": "ipython",
    "version": 3
   },
   "file_extension": ".py",
   "mimetype": "text/x-python",
   "name": "python",
   "nbconvert_exporter": "python",
   "pygments_lexer": "ipython3",
   "version": "3.13.5"
  }
 },
 "nbformat": 4,
 "nbformat_minor": 5
}
